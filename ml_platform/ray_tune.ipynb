{
 "cells": [
  {
   "cell_type": "code",
   "execution_count": 1,
   "metadata": {},
   "outputs": [],
   "source": [
    "import os\n",
    "import yaml\n",
    "\n",
    "import emoji\n",
    "import tempfile\n",
    "\n",
    "import mlflow\n",
    "from mlflow import MlflowClient\n",
    "from mlflow.entities import ViewType\n",
    "from mlflow.models import infer_signature\n",
    "from mlflow.artifacts import download_artifacts\n",
    "\n",
    "from pyarrow import fs\n",
    "\n",
    "import sklearn.datasets\n",
    "from sklearn.metrics import accuracy_score, recall_score\n",
    "from sklearn.model_selection import train_test_split\n",
    "\n",
    "import xgboost as xgb\n",
    "\n",
    "import ray\n",
    "from ray import train, tune\n",
    "from ray.air.integrations.mlflow import setup_mlflow"
   ]
  },
  {
   "cell_type": "markdown",
   "metadata": {},
   "source": [
    "## Glossary\n",
    "\n",
    "* Ds: Data Scientist"
   ]
  },
  {
   "cell_type": "code",
   "execution_count": 5,
   "metadata": {},
   "outputs": [],
   "source": [
    "def write_best_run_spec(\n",
    "    experiment_id: str, run_id: str, artifact_path: str, mode: str = \"best_run\"\n",
    ") -> None:\n",
    "    \"\"\"\n",
    "    Creates (or overwrites) a file named '.env.{mode}' with the specified content.\n",
    "    This is necessary for CI/CD.\n",
    "\n",
    "    Parameters\n",
    "    ==========\n",
    "    experiment_id: str\n",
    "      Mlflow experiment id to which Ray tune trials have been logged.\n",
    "    run_id: str\n",
    "        A run id in the 'experiment_id'.\n",
    "    mode: str\n",
    "        mode for the .env file to be created or overwritten (e.g., .env.mode).\n",
    "    \"\"\"\n",
    "\n",
    "    with open(f\"best_model_artifacts/.env.{mode}\", \"w\") as f:\n",
    "        f.write(f\"EXPERIMENT_ID={experiment_id}\\n\")\n",
    "        f.write(f\"RUN_ID={run_id}\\n\")\n",
    "        f.write(f\"ARTIFACT_PATH={artifact_path}\\n\")\n",
    "\n",
    "\n",
    "def get_best_model_artifacts(s3_path: str) -> None:\n",
    "    \"\"\"\n",
    "    Saves the best mlflow model's requirements.txt, conda.yaml, and\n",
    "    .python-version in the best_model_artifacts directory.\n",
    "    This action is optional.\n",
    "\n",
    "\n",
    "    Parameters\n",
    "    ==========\n",
    "    s3_path: str\n",
    "        S3 path where the best mlflow model's artifactories are located.\n",
    "    \"\"\"\n",
    "\n",
    "    download_artifacts(\n",
    "        artifact_uri=s3_path + \"requirements.txt\", dst_path=\"./best_model_artifacts\"\n",
    "    )\n",
    "    print(\"Saved requirements.txt in /best_model_artifacts\")\n",
    "\n",
    "    download_artifacts(\n",
    "        artifact_uri=s3_path + \"conda.yaml\", dst_path=\"./best_model_artifacts\"\n",
    "    )\n",
    "    print(\"Saved conda.yaml in /best_model_artifacts\")\n",
    "\n",
    "    with tempfile.TemporaryDirectory() as td:\n",
    "        download_artifacts(artifact_uri=s3_path + \"python_env.yaml\", dst_path=td)\n",
    "        python_env_file_path = os.path.join(td, \"python_env.yaml\")\n",
    "        with open(python_env_file_path, \"r\") as f:\n",
    "            data = yaml.safe_load(f)\n",
    "            python_version = data.get(\"python\")\n",
    "            if not python_version:\n",
    "                print(\"Error: No 'python' key found in the YAML file.\")\n",
    "            else:\n",
    "                python_version_file_path = os.path.join(\n",
    "                    \"./best_model_artifacts\", \".python-version\"\n",
    "                )\n",
    "                with open(python_version_file_path, \"w\") as f:\n",
    "                    f.write(str(python_version) + \"\\n\")\n",
    "    print(\"Saved .python-version in /best_model_artifacts\")"
   ]
  },
  {
   "cell_type": "code",
   "execution_count": null,
   "metadata": {},
   "outputs": [],
   "source": [
    "# URI for the mlflow tracking server\n",
    "TRACKING_URI = \"http://0.0.0.0:5000\"\n",
    "EXP_NAME = \"ml_platform\"\n",
    "# Name for the mlflow registered model\n",
    "MODEL_NAME = \"iris-classifer\"\n",
    "# Alias for the mlflow registered model\n",
    "ALIAS = \"champion\"\n",
    "# Minimum accuracy before registering a new version of a model\n",
    "MINIMUM_REQUIRED_ACCURACY = 0.95\n",
    "# Model artifactory path\n",
    "ARTIFACT_PATH = \"iris_xgb\""
   ]
  },
  {
   "cell_type": "code",
   "execution_count": 4,
   "metadata": {},
   "outputs": [
    {
     "name": "stderr",
     "output_type": "stream",
     "text": [
      "2025/02/08 23:11:36 INFO mlflow.tracking.fluent: Experiment with name 'ml_platform' does not exist. Creating a new experiment.\n"
     ]
    }
   ],
   "source": [
    "mlflow.set_tracking_uri(TRACKING_URI)\n",
    "# Ds sets the experiment to which the mlflow runs' metrics and artifacts should be logged\n",
    "mlflow.set_experiment(experiment_name=EXP_NAME)\n",
    "\n",
    "client = MlflowClient()"
   ]
  },
  {
   "cell_type": "code",
   "execution_count": 5,
   "metadata": {},
   "outputs": [
    {
     "name": "stderr",
     "output_type": "stream",
     "text": [
      "2025-02-08 23:11:40,168\tINFO worker.py:1841 -- Started a local Ray instance.\n"
     ]
    },
    {
     "data": {
      "application/vnd.jupyter.widget-view+json": {
       "model_id": "ac7c67d99cc647f48f58bab8f3b93ea5",
       "version_major": 2,
       "version_minor": 0
      },
      "text/html": [
       "<div class=\"lm-Widget p-Widget lm-Panel p-Panel jp-Cell-outputWrapper\">\n",
       "    <div style=\"margin-left: 50px;display: flex;flex-direction: row;align-items: center\">\n",
       "        <div class=\"jp-RenderedHTMLCommon\" style=\"display: flex; flex-direction: row;\">\n",
       "  <svg viewBox=\"0 0 567 224\" fill=\"none\" xmlns=\"http://www.w3.org/2000/svg\" style=\"height: 3em;\">\n",
       "    <g clip-path=\"url(#clip0_4338_178347)\">\n",
       "        <path d=\"M341.29 165.561H355.29L330.13 129.051C345.63 123.991 354.21 112.051 354.21 94.2307C354.21 71.3707 338.72 58.1807 311.88 58.1807H271V165.561H283.27V131.661H311.8C314.25 131.661 316.71 131.501 319.01 131.351L341.25 165.561H341.29ZM283.29 119.851V70.0007H311.82C331.3 70.0007 342.34 78.2907 342.34 94.5507C342.34 111.271 331.34 119.861 311.82 119.861L283.29 119.851ZM451.4 138.411L463.4 165.561H476.74L428.74 58.1807H416L367.83 165.561H380.83L392.83 138.411H451.4ZM446.19 126.601H398L422 72.1407L446.24 126.601H446.19ZM526.11 128.741L566.91 58.1807H554.35L519.99 114.181L485.17 58.1807H472.44L514.01 129.181V165.541H526.13V128.741H526.11Z\" fill=\"var(--jp-ui-font-color0)\"/>\n",
       "        <path d=\"M82.35 104.44C84.0187 97.8827 87.8248 92.0678 93.1671 87.9146C98.5094 83.7614 105.083 81.5067 111.85 81.5067C118.617 81.5067 125.191 83.7614 130.533 87.9146C135.875 92.0678 139.681 97.8827 141.35 104.44H163.75C164.476 101.562 165.622 98.8057 167.15 96.2605L127.45 56.5605C121.071 60.3522 113.526 61.6823 106.235 60.3005C98.9443 58.9187 92.4094 54.9203 87.8602 49.0574C83.3109 43.1946 81.0609 35.8714 81.5332 28.4656C82.0056 21.0599 85.1679 14.0819 90.4252 8.8446C95.6824 3.60726 102.672 0.471508 110.08 0.0272655C117.487 -0.416977 124.802 1.86091 130.647 6.4324C136.493 11.0039 140.467 17.5539 141.821 24.8501C143.175 32.1463 141.816 39.6859 138 46.0505L177.69 85.7505C182.31 82.9877 187.58 81.4995 192.962 81.4375C198.345 81.3755 203.648 82.742 208.33 85.3976C213.012 88.0532 216.907 91.9029 219.616 96.5544C222.326 101.206 223.753 106.492 223.753 111.875C223.753 117.258 222.326 122.545 219.616 127.197C216.907 131.848 213.012 135.698 208.33 138.353C203.648 141.009 198.345 142.375 192.962 142.313C187.58 142.251 182.31 140.763 177.69 138L138 177.7C141.808 184.071 143.155 191.614 141.79 198.91C140.424 206.205 136.44 212.75 130.585 217.313C124.731 221.875 117.412 224.141 110.004 223.683C102.596 223.226 95.6103 220.077 90.3621 214.828C85.1139 209.58 81.9647 202.595 81.5072 195.187C81.0497 187.779 83.3154 180.459 87.878 174.605C92.4405 168.751 98.9853 164.766 106.281 163.401C113.576 162.035 121.119 163.383 127.49 167.19L167.19 127.49C165.664 124.941 164.518 122.182 163.79 119.3H141.39C139.721 125.858 135.915 131.673 130.573 135.826C125.231 139.98 118.657 142.234 111.89 142.234C105.123 142.234 98.5494 139.98 93.2071 135.826C87.8648 131.673 84.0587 125.858 82.39 119.3H60C58.1878 126.495 53.8086 132.78 47.6863 136.971C41.5641 141.163 34.1211 142.972 26.7579 142.059C19.3947 141.146 12.6191 137.574 7.70605 132.014C2.79302 126.454 0.0813599 119.29 0.0813599 111.87C0.0813599 104.451 2.79302 97.2871 7.70605 91.7272C12.6191 86.1673 19.3947 82.5947 26.7579 81.6817C34.1211 80.7686 41.5641 82.5781 47.6863 86.7696C53.8086 90.9611 58.1878 97.2456 60 104.44H82.35ZM100.86 204.32C103.407 206.868 106.759 208.453 110.345 208.806C113.93 209.159 117.527 208.258 120.522 206.256C123.517 204.254 125.725 201.276 126.771 197.828C127.816 194.38 127.633 190.677 126.253 187.349C124.874 184.021 122.383 181.274 119.205 179.577C116.027 177.88 112.359 177.337 108.826 178.042C105.293 178.746 102.113 180.654 99.8291 183.44C97.5451 186.226 96.2979 189.718 96.3 193.32C96.2985 195.364 96.7006 197.388 97.4831 199.275C98.2656 201.163 99.4132 202.877 100.86 204.32ZM204.32 122.88C206.868 120.333 208.453 116.981 208.806 113.396C209.159 109.811 208.258 106.214 206.256 103.219C204.254 100.223 201.275 98.0151 197.827 96.97C194.38 95.9249 190.676 96.1077 187.348 97.4873C184.02 98.8669 181.274 101.358 179.577 104.536C177.879 107.714 177.337 111.382 178.041 114.915C178.746 118.448 180.653 121.627 183.439 123.911C186.226 126.195 189.717 127.443 193.32 127.44C195.364 127.443 197.388 127.042 199.275 126.259C201.163 125.476 202.878 124.328 204.32 122.88ZM122.88 19.4205C120.333 16.8729 116.981 15.2876 113.395 14.9347C109.81 14.5817 106.213 15.483 103.218 17.4849C100.223 19.4868 98.0146 22.4654 96.9696 25.9131C95.9245 29.3608 96.1073 33.0642 97.4869 36.3922C98.8665 39.7202 101.358 42.4668 104.535 44.1639C107.713 45.861 111.381 46.4036 114.914 45.6992C118.447 44.9949 121.627 43.0871 123.911 40.301C126.195 37.515 127.442 34.0231 127.44 30.4205C127.44 28.3772 127.038 26.3539 126.255 24.4664C125.473 22.5788 124.326 20.8642 122.88 19.4205ZM19.42 100.86C16.8725 103.408 15.2872 106.76 14.9342 110.345C14.5813 113.93 15.4826 117.527 17.4844 120.522C19.4863 123.518 22.4649 125.726 25.9127 126.771C29.3604 127.816 33.0638 127.633 36.3918 126.254C39.7198 124.874 42.4664 122.383 44.1635 119.205C45.8606 116.027 46.4032 112.359 45.6988 108.826C44.9944 105.293 43.0866 102.114 40.3006 99.8296C37.5145 97.5455 34.0227 96.2983 30.42 96.3005C26.2938 96.3018 22.337 97.9421 19.42 100.86ZM100.86 100.86C98.3125 103.408 96.7272 106.76 96.3742 110.345C96.0213 113.93 96.9226 117.527 98.9244 120.522C100.926 123.518 103.905 125.726 107.353 126.771C110.8 127.816 114.504 127.633 117.832 126.254C121.16 124.874 123.906 122.383 125.604 119.205C127.301 116.027 127.843 112.359 127.139 108.826C126.434 105.293 124.527 102.114 121.741 99.8296C118.955 97.5455 115.463 96.2983 111.86 96.3005C109.817 96.299 107.793 96.701 105.905 97.4835C104.018 98.2661 102.303 99.4136 100.86 100.86Z\" fill=\"#00AEEF\"/>\n",
       "    </g>\n",
       "    <defs>\n",
       "        <clipPath id=\"clip0_4338_178347\">\n",
       "            <rect width=\"566.93\" height=\"223.75\" fill=\"white\"/>\n",
       "        </clipPath>\n",
       "    </defs>\n",
       "  </svg>\n",
       "</div>\n",
       "\n",
       "        <table class=\"jp-RenderedHTMLCommon\" style=\"border-collapse: collapse;color: var(--jp-ui-font-color1);font-size: var(--jp-ui-font-size1);\">\n",
       "    <tr>\n",
       "        <td style=\"text-align: left\"><b>Python version:</b></td>\n",
       "        <td style=\"text-align: left\"><b>3.9.1</b></td>\n",
       "    </tr>\n",
       "    <tr>\n",
       "        <td style=\"text-align: left\"><b>Ray version:</b></td>\n",
       "        <td style=\"text-align: left\"><b>2.41.0</b></td>\n",
       "    </tr>\n",
       "    \n",
       "</table>\n",
       "\n",
       "    </div>\n",
       "</div>\n"
      ],
      "text/plain": [
       "RayContext(dashboard_url='', python_version='3.9.1', ray_version='2.41.0', ray_commit='021baf7dd07db54c2dc23a7490f0604673f8d0d6')"
      ]
     },
     "execution_count": 5,
     "metadata": {},
     "output_type": "execute_result"
    }
   ],
   "source": [
    "# Start a local ray cluster\n",
    "ray.init(num_cpus=6)"
   ]
  },
  {
   "cell_type": "code",
   "execution_count": 6,
   "metadata": {},
   "outputs": [
    {
     "name": "stderr",
     "output_type": "stream",
     "text": [
      "2025-02-08 23:11:42,049\tINFO streaming_executor.py:108 -- Starting execution of Dataset. Full logs are in /tmp/ray/session_2025-02-08_23-11-39_465253_212928/logs/ray-data\n",
      "2025-02-08 23:11:42,049\tINFO streaming_executor.py:109 -- Execution plan of Dataset: InputDataBuffer[Input] -> TaskPoolMapOperator[ReadCSV]\n"
     ]
    },
    {
     "data": {
      "application/vnd.jupyter.widget-view+json": {
       "model_id": "342d2cd522c84e9f824be8cd2be51420",
       "version_major": 2,
       "version_minor": 0
      },
      "text/plain": [
       "Running 0: 0.00 row [00:00, ? row/s]"
      ]
     },
     "metadata": {},
     "output_type": "display_data"
    },
    {
     "data": {
      "application/vnd.jupyter.widget-view+json": {
       "model_id": "64d3a814d14c4d1b997609d1e967e0d6",
       "version_major": 2,
       "version_minor": 0
      },
      "text/plain": [
       "- ReadCSV->SplitBlocks(12) 1: 0.00 row [00:00, ? row/s]"
      ]
     },
     "metadata": {},
     "output_type": "display_data"
    }
   ],
   "source": [
    "# Ds reads the preprocessed iris data from s3 (make sure the spark job is over before executing this)\n",
    "filesystem = fs.S3FileSystem(\n",
    "    region=\"eu-central-1\",  # Same region as for the Spark job\n",
    "    endpoint_override=os.environ[\n",
    "        \"S3_ENDPOINT_URL\"\n",
    "    ],  # Same endpoint as for the spark job\n",
    ")\n",
    "\n",
    "# Concurrent read from the target s3 path (Spark may have written multiple csv files in this path)\n",
    "ds = ray.data.read_csv(\n",
    "    \"s3://customerintelligence/ml_platform/etl/preprocessed/\", filesystem=filesystem\n",
    ")\n",
    "\n",
    "# Ds uses this pandas df for hyperparameter tuning and training\n",
    "df = ds.to_pandas()"
   ]
  },
  {
   "cell_type": "code",
   "execution_count": null,
   "metadata": {},
   "outputs": [],
   "source": [
    "# Ds sets the dependencies for the logged artifacts\n",
    "conda_env = {\n",
    "    \"name\": \"mlflow-env\",\n",
    "    \"channels\": [\"conda-forge\"],\n",
    "    \"dependencies\": [\n",
    "        \"python=3.9.1\",\n",
    "        \"pip<=24.0\",\n",
    "        {\n",
    "            \"pip\": [\"xgboost==2.1.3\", \"scikit-learn==1.5.2\"]\n",
    "        },  # Minimum dependencies for xgboost model\n",
    "    ],\n",
    "}\n",
    "\n",
    "\n",
    "# Training for the selected hyperparameters happens here (this func will be passed to ray.remote)\n",
    "def train_function_mlflow(config: dict) -> None:\n",
    "    setup_mlflow(\n",
    "        config,\n",
    "        experiment_name=EXP_NAME,\n",
    "        tracking_uri=TRACKING_URI,\n",
    "    )\n",
    "\n",
    "    train_x, test_x, train_y, test_y = train_test_split(\n",
    "        df.drop(\"target\", axis=1), df.target, test_size=0.2\n",
    "    )\n",
    "\n",
    "    # Pass the trial's config (hyperparameters for the xgb classifier)\n",
    "    model = xgb.XGBClassifier(**config)\n",
    "    model.fit(train_x, train_y)\n",
    "    predictions = model.predict(test_x)\n",
    "\n",
    "    # Measure accuracy and recall for this trial\n",
    "    accuracy = accuracy_score(test_y, predictions)\n",
    "    recall = recall_score(test_y, predictions, average=\"micro\")\n",
    "\n",
    "    signature = infer_signature(train_x, model.predict(train_x))\n",
    "\n",
    "    # Log the metrics as well as artifacts for this trial\n",
    "    mlflow.log_metrics({\"recall\": recall, \"accuracy\": accuracy})\n",
    "    mlflow.xgboost.log_model(\n",
    "        model,\n",
    "        artifact_path=ARTIFACT_PATH,\n",
    "        conda_env=conda_env,\n",
    "        signature=signature,\n",
    "        model_format=\"json\",\n",
    "    )\n",
    "\n",
    "    # Get the best result later based on the following metrics\n",
    "    train.report({\"accuracy\": accuracy, \"recall\": recall})\n",
    "\n",
    "\n",
    "def tune_with_setup() -> tune.ResultGrid:\n",
    "    \"\"\"Concurrent hyperparameter tunning starts here\"\"\"\n",
    "    # Each trial uses 2 cpus. Therfore, we have at most 3 trials running concurrently (there are 6 cpus available in the local cluster)\n",
    "    trainable_with_resources = tune.with_resources(train_function_mlflow, {\"cpu\": 2})\n",
    "    tuner = tune.Tuner(\n",
    "        trainable_with_resources,\n",
    "        tune_config=tune.TuneConfig(\n",
    "            num_samples=20,  # Total number of trials\n",
    "        ),\n",
    "        run_config=train.RunConfig(\n",
    "            name=\"mlflow\",\n",
    "        ),\n",
    "        param_space={\n",
    "            \"objective\": \"multi:softmax\",  # Multi-class classification\n",
    "            \"eval_metric\": [\"logloss\", \"error\"],\n",
    "            \"max_depth\": tune.randint(1, 9),\n",
    "            \"min_child_weight\": tune.choice([1, 2, 3]),\n",
    "            \"subsample\": tune.uniform(0.5, 1.0),\n",
    "            \"eta\": tune.loguniform(1e-4, 1e-1),\n",
    "        },\n",
    "    )\n",
    "\n",
    "    # Start concurrent hyperparameter tunning\n",
    "    results = tuner.fit()\n",
    "    # Return the ray train results for later inspection\n",
    "    return results"
   ]
  },
  {
   "cell_type": "code",
   "execution_count": 8,
   "metadata": {},
   "outputs": [
    {
     "data": {
      "text/html": [
       "<div class=\"tuneStatus\">\n",
       "  <div style=\"display: flex;flex-direction: row\">\n",
       "    <div style=\"display: flex;flex-direction: column;\">\n",
       "      <h3>Tune Status</h3>\n",
       "      <table>\n",
       "<tbody>\n",
       "<tr><td>Current time:</td><td>2025-02-08 23:12:13</td></tr>\n",
       "<tr><td>Running for: </td><td>00:00:27.80        </td></tr>\n",
       "<tr><td>Memory:      </td><td>8.1/62.5 GiB       </td></tr>\n",
       "</tbody>\n",
       "</table>\n",
       "    </div>\n",
       "    <div class=\"vDivider\"></div>\n",
       "    <div class=\"systemInfo\">\n",
       "      <h3>System Info</h3>\n",
       "      Using FIFO scheduling algorithm.<br>Logical resource usage: 2.0/6 CPUs, 0/0 GPUs\n",
       "    </div>\n",
       "    \n",
       "  </div>\n",
       "  <div class=\"hDivider\"></div>\n",
       "  <div class=\"trialStatus\">\n",
       "    <h3>Trial Status</h3>\n",
       "    <table>\n",
       "<thead>\n",
       "<tr><th>Trial name                       </th><th>status    </th><th>loc               </th><th style=\"text-align: right;\">        eta</th><th style=\"text-align: right;\">  max_depth</th><th style=\"text-align: right;\">  min_child_weight</th><th style=\"text-align: right;\">  subsample</th><th style=\"text-align: right;\">  iter</th><th style=\"text-align: right;\">  total time (s)</th><th style=\"text-align: right;\">  accuracy</th><th style=\"text-align: right;\">  recall</th></tr>\n",
       "</thead>\n",
       "<tbody>\n",
       "<tr><td>train_function_mlflow_af404_00000</td><td>TERMINATED</td><td>10.23.68.39:213647</td><td style=\"text-align: right;\">0.000271381</td><td style=\"text-align: right;\">          6</td><td style=\"text-align: right;\">                 2</td><td style=\"text-align: right;\">   0.911532</td><td style=\"text-align: right;\">     1</td><td style=\"text-align: right;\">        1.38923 </td><td style=\"text-align: right;\">  0.966667</td><td style=\"text-align: right;\">0.966667</td></tr>\n",
       "<tr><td>train_function_mlflow_af404_00001</td><td>TERMINATED</td><td>10.23.68.39:213646</td><td style=\"text-align: right;\">0.0145442  </td><td style=\"text-align: right;\">          7</td><td style=\"text-align: right;\">                 1</td><td style=\"text-align: right;\">   0.553902</td><td style=\"text-align: right;\">     1</td><td style=\"text-align: right;\">        1.37193 </td><td style=\"text-align: right;\">  0.966667</td><td style=\"text-align: right;\">0.966667</td></tr>\n",
       "<tr><td>train_function_mlflow_af404_00002</td><td>TERMINATED</td><td>10.23.68.39:213645</td><td style=\"text-align: right;\">0.00116733 </td><td style=\"text-align: right;\">          6</td><td style=\"text-align: right;\">                 1</td><td style=\"text-align: right;\">   0.816308</td><td style=\"text-align: right;\">     1</td><td style=\"text-align: right;\">        1.18987 </td><td style=\"text-align: right;\">  1       </td><td style=\"text-align: right;\">1       </td></tr>\n",
       "<tr><td>train_function_mlflow_af404_00003</td><td>TERMINATED</td><td>10.23.68.39:214060</td><td style=\"text-align: right;\">0.00410377 </td><td style=\"text-align: right;\">          6</td><td style=\"text-align: right;\">                 1</td><td style=\"text-align: right;\">   0.549572</td><td style=\"text-align: right;\">     1</td><td style=\"text-align: right;\">        0.900568</td><td style=\"text-align: right;\">  0.966667</td><td style=\"text-align: right;\">0.966667</td></tr>\n",
       "<tr><td>train_function_mlflow_af404_00004</td><td>TERMINATED</td><td>10.23.68.39:214066</td><td style=\"text-align: right;\">0.00643781 </td><td style=\"text-align: right;\">          4</td><td style=\"text-align: right;\">                 1</td><td style=\"text-align: right;\">   0.59454 </td><td style=\"text-align: right;\">     1</td><td style=\"text-align: right;\">        0.881835</td><td style=\"text-align: right;\">  0.933333</td><td style=\"text-align: right;\">0.933333</td></tr>\n",
       "<tr><td>train_function_mlflow_af404_00005</td><td>TERMINATED</td><td>10.23.68.39:214072</td><td style=\"text-align: right;\">0.000778958</td><td style=\"text-align: right;\">          7</td><td style=\"text-align: right;\">                 3</td><td style=\"text-align: right;\">   0.583762</td><td style=\"text-align: right;\">     1</td><td style=\"text-align: right;\">        0.819847</td><td style=\"text-align: right;\">  1       </td><td style=\"text-align: right;\">1       </td></tr>\n",
       "<tr><td>train_function_mlflow_af404_00006</td><td>TERMINATED</td><td>10.23.68.39:214473</td><td style=\"text-align: right;\">0.0980219  </td><td style=\"text-align: right;\">          3</td><td style=\"text-align: right;\">                 3</td><td style=\"text-align: right;\">   0.678861</td><td style=\"text-align: right;\">     1</td><td style=\"text-align: right;\">        1.4206  </td><td style=\"text-align: right;\">  0.933333</td><td style=\"text-align: right;\">0.933333</td></tr>\n",
       "<tr><td>train_function_mlflow_af404_00007</td><td>TERMINATED</td><td>10.23.68.39:214475</td><td style=\"text-align: right;\">0.0250209  </td><td style=\"text-align: right;\">          4</td><td style=\"text-align: right;\">                 2</td><td style=\"text-align: right;\">   0.926443</td><td style=\"text-align: right;\">     1</td><td style=\"text-align: right;\">        1.7856  </td><td style=\"text-align: right;\">  0.966667</td><td style=\"text-align: right;\">0.966667</td></tr>\n",
       "<tr><td>train_function_mlflow_af404_00008</td><td>TERMINATED</td><td>10.23.68.39:214474</td><td style=\"text-align: right;\">0.00286612 </td><td style=\"text-align: right;\">          1</td><td style=\"text-align: right;\">                 1</td><td style=\"text-align: right;\">   0.641153</td><td style=\"text-align: right;\">     1</td><td style=\"text-align: right;\">        1.51822 </td><td style=\"text-align: right;\">  0.9     </td><td style=\"text-align: right;\">0.9     </td></tr>\n",
       "<tr><td>train_function_mlflow_af404_00009</td><td>TERMINATED</td><td>10.23.68.39:214824</td><td style=\"text-align: right;\">0.000663911</td><td style=\"text-align: right;\">          6</td><td style=\"text-align: right;\">                 2</td><td style=\"text-align: right;\">   0.705037</td><td style=\"text-align: right;\">     1</td><td style=\"text-align: right;\">        0.960829</td><td style=\"text-align: right;\">  0.966667</td><td style=\"text-align: right;\">0.966667</td></tr>\n",
       "<tr><td>train_function_mlflow_af404_00010</td><td>TERMINATED</td><td>10.23.68.39:214825</td><td style=\"text-align: right;\">0.0185271  </td><td style=\"text-align: right;\">          8</td><td style=\"text-align: right;\">                 1</td><td style=\"text-align: right;\">   0.520392</td><td style=\"text-align: right;\">     1</td><td style=\"text-align: right;\">        0.795708</td><td style=\"text-align: right;\">  0.966667</td><td style=\"text-align: right;\">0.966667</td></tr>\n",
       "<tr><td>train_function_mlflow_af404_00011</td><td>TERMINATED</td><td>10.23.68.39:214934</td><td style=\"text-align: right;\">0.000195223</td><td style=\"text-align: right;\">          6</td><td style=\"text-align: right;\">                 1</td><td style=\"text-align: right;\">   0.993686</td><td style=\"text-align: right;\">     1</td><td style=\"text-align: right;\">        2.34433 </td><td style=\"text-align: right;\">  0.9     </td><td style=\"text-align: right;\">0.9     </td></tr>\n",
       "<tr><td>train_function_mlflow_af404_00012</td><td>TERMINATED</td><td>10.23.68.39:215052</td><td style=\"text-align: right;\">0.0840161  </td><td style=\"text-align: right;\">          1</td><td style=\"text-align: right;\">                 2</td><td style=\"text-align: right;\">   0.964231</td><td style=\"text-align: right;\">     1</td><td style=\"text-align: right;\">        1.26684 </td><td style=\"text-align: right;\">  1       </td><td style=\"text-align: right;\">1       </td></tr>\n",
       "<tr><td>train_function_mlflow_af404_00013</td><td>TERMINATED</td><td>10.23.68.39:215053</td><td style=\"text-align: right;\">0.00184688 </td><td style=\"text-align: right;\">          4</td><td style=\"text-align: right;\">                 2</td><td style=\"text-align: right;\">   0.812036</td><td style=\"text-align: right;\">     1</td><td style=\"text-align: right;\">        0.897173</td><td style=\"text-align: right;\">  0.933333</td><td style=\"text-align: right;\">0.933333</td></tr>\n",
       "<tr><td>train_function_mlflow_af404_00014</td><td>TERMINATED</td><td>10.23.68.39:215382</td><td style=\"text-align: right;\">0.00225921 </td><td style=\"text-align: right;\">          6</td><td style=\"text-align: right;\">                 3</td><td style=\"text-align: right;\">   0.569426</td><td style=\"text-align: right;\">     1</td><td style=\"text-align: right;\">        1.48143 </td><td style=\"text-align: right;\">  0.9     </td><td style=\"text-align: right;\">0.9     </td></tr>\n",
       "<tr><td>train_function_mlflow_af404_00015</td><td>TERMINATED</td><td>10.23.68.39:215390</td><td style=\"text-align: right;\">0.00956214 </td><td style=\"text-align: right;\">          6</td><td style=\"text-align: right;\">                 2</td><td style=\"text-align: right;\">   0.867083</td><td style=\"text-align: right;\">     1</td><td style=\"text-align: right;\">        0.844544</td><td style=\"text-align: right;\">  0.933333</td><td style=\"text-align: right;\">0.933333</td></tr>\n",
       "<tr><td>train_function_mlflow_af404_00016</td><td>TERMINATED</td><td>10.23.68.39:215504</td><td style=\"text-align: right;\">0.00114071 </td><td style=\"text-align: right;\">          4</td><td style=\"text-align: right;\">                 3</td><td style=\"text-align: right;\">   0.805413</td><td style=\"text-align: right;\">     1</td><td style=\"text-align: right;\">        1.15919 </td><td style=\"text-align: right;\">  0.966667</td><td style=\"text-align: right;\">0.966667</td></tr>\n",
       "<tr><td>train_function_mlflow_af404_00017</td><td>TERMINATED</td><td>10.23.68.39:215619</td><td style=\"text-align: right;\">0.000596886</td><td style=\"text-align: right;\">          6</td><td style=\"text-align: right;\">                 1</td><td style=\"text-align: right;\">   0.750226</td><td style=\"text-align: right;\">     1</td><td style=\"text-align: right;\">        1.4962  </td><td style=\"text-align: right;\">  0.966667</td><td style=\"text-align: right;\">0.966667</td></tr>\n",
       "<tr><td>train_function_mlflow_af404_00018</td><td>TERMINATED</td><td>10.23.68.39:215618</td><td style=\"text-align: right;\">0.00282938 </td><td style=\"text-align: right;\">          4</td><td style=\"text-align: right;\">                 2</td><td style=\"text-align: right;\">   0.922525</td><td style=\"text-align: right;\">     1</td><td style=\"text-align: right;\">        1.21618 </td><td style=\"text-align: right;\">  0.9     </td><td style=\"text-align: right;\">0.9     </td></tr>\n",
       "<tr><td>train_function_mlflow_af404_00019</td><td>TERMINATED</td><td>10.23.68.39:215818</td><td style=\"text-align: right;\">0.000497116</td><td style=\"text-align: right;\">          8</td><td style=\"text-align: right;\">                 3</td><td style=\"text-align: right;\">   0.902889</td><td style=\"text-align: right;\">     1</td><td style=\"text-align: right;\">        1.40969 </td><td style=\"text-align: right;\">  0.933333</td><td style=\"text-align: right;\">0.933333</td></tr>\n",
       "</tbody>\n",
       "</table>\n",
       "  </div>\n",
       "</div>\n",
       "<style>\n",
       ".tuneStatus {\n",
       "  color: var(--jp-ui-font-color1);\n",
       "}\n",
       ".tuneStatus .systemInfo {\n",
       "  display: flex;\n",
       "  flex-direction: column;\n",
       "}\n",
       ".tuneStatus td {\n",
       "  white-space: nowrap;\n",
       "}\n",
       ".tuneStatus .trialStatus {\n",
       "  display: flex;\n",
       "  flex-direction: column;\n",
       "}\n",
       ".tuneStatus h3 {\n",
       "  font-weight: bold;\n",
       "}\n",
       ".tuneStatus .hDivider {\n",
       "  border-bottom-width: var(--jp-border-width);\n",
       "  border-bottom-color: var(--jp-border-color0);\n",
       "  border-bottom-style: solid;\n",
       "}\n",
       ".tuneStatus .vDivider {\n",
       "  border-left-width: var(--jp-border-width);\n",
       "  border-left-color: var(--jp-border-color0);\n",
       "  border-left-style: solid;\n",
       "  margin: 0.5em 1em 0.5em 1em;\n",
       "}\n",
       "</style>\n"
      ],
      "text/plain": [
       "<IPython.core.display.HTML object>"
      ]
     },
     "metadata": {},
     "output_type": "display_data"
    },
    {
     "name": "stderr",
     "output_type": "stream",
     "text": [
      "2025-02-08 23:12:13,628\tINFO tune.py:1009 -- Wrote the latest version of all result files and experiment state to '/home/ssafarveisi/ray_results/mlflow' in 0.0053s.\n",
      "2025-02-08 23:12:13,633\tINFO tune.py:1041 -- Total run time: 27.84 seconds (27.79 seconds for the tuning loop).\n"
     ]
    }
   ],
   "source": [
    "results = tune_with_setup()"
   ]
  },
  {
   "cell_type": "code",
   "execution_count": 9,
   "metadata": {},
   "outputs": [],
   "source": [
    "# Best run after tunning\n",
    "best_result = results.get_best_result(metric=\"accuracy\", mode=\"max\")"
   ]
  },
  {
   "cell_type": "code",
   "execution_count": 10,
   "metadata": {},
   "outputs": [
    {
     "data": {
      "text/plain": [
       "{'objective': 'multi:softmax',\n",
       " 'eval_metric': ['logloss', 'error'],\n",
       " 'max_depth': 6,\n",
       " 'min_child_weight': 1,\n",
       " 'subsample': 0.8163075503837736,\n",
       " 'eta': 0.0011673332791750281}"
      ]
     },
     "execution_count": 10,
     "metadata": {},
     "output_type": "execute_result"
    }
   ],
   "source": [
    "# Hyperparameters for the best run\n",
    "best_result.config"
   ]
  },
  {
   "cell_type": "code",
   "execution_count": 11,
   "metadata": {},
   "outputs": [
    {
     "data": {
      "text/html": [
       "<div>\n",
       "<style scoped>\n",
       "    .dataframe tbody tr th:only-of-type {\n",
       "        vertical-align: middle;\n",
       "    }\n",
       "\n",
       "    .dataframe tbody tr th {\n",
       "        vertical-align: top;\n",
       "    }\n",
       "\n",
       "    .dataframe thead th {\n",
       "        text-align: right;\n",
       "    }\n",
       "</style>\n",
       "<table border=\"1\" class=\"dataframe\">\n",
       "  <thead>\n",
       "    <tr style=\"text-align: right;\">\n",
       "      <th></th>\n",
       "      <th>accuracy</th>\n",
       "      <th>recall</th>\n",
       "      <th>timestamp</th>\n",
       "      <th>checkpoint_dir_name</th>\n",
       "      <th>done</th>\n",
       "      <th>training_iteration</th>\n",
       "      <th>trial_id</th>\n",
       "      <th>date</th>\n",
       "      <th>time_this_iter_s</th>\n",
       "      <th>time_total_s</th>\n",
       "      <th>...</th>\n",
       "      <th>hostname</th>\n",
       "      <th>node_ip</th>\n",
       "      <th>time_since_restore</th>\n",
       "      <th>iterations_since_restore</th>\n",
       "      <th>config/objective</th>\n",
       "      <th>config/eval_metric</th>\n",
       "      <th>config/max_depth</th>\n",
       "      <th>config/min_child_weight</th>\n",
       "      <th>config/subsample</th>\n",
       "      <th>config/eta</th>\n",
       "    </tr>\n",
       "  </thead>\n",
       "  <tbody>\n",
       "    <tr>\n",
       "      <th>0</th>\n",
       "      <td>1.0</td>\n",
       "      <td>1.0</td>\n",
       "      <td>1739052709</td>\n",
       "      <td>None</td>\n",
       "      <td>False</td>\n",
       "      <td>1</td>\n",
       "      <td>af404_00002</td>\n",
       "      <td>2025-02-08_23-11-49</td>\n",
       "      <td>1.189866</td>\n",
       "      <td>1.189866</td>\n",
       "      <td>...</td>\n",
       "      <td>LXKA-J9SYDX3</td>\n",
       "      <td>10.23.68.39</td>\n",
       "      <td>1.189866</td>\n",
       "      <td>1</td>\n",
       "      <td>multi:softmax</td>\n",
       "      <td>[logloss, error]</td>\n",
       "      <td>6</td>\n",
       "      <td>1</td>\n",
       "      <td>0.816308</td>\n",
       "      <td>0.001167</td>\n",
       "    </tr>\n",
       "  </tbody>\n",
       "</table>\n",
       "<p>1 rows × 21 columns</p>\n",
       "</div>"
      ],
      "text/plain": [
       "   accuracy  recall   timestamp checkpoint_dir_name   done  \\\n",
       "0       1.0     1.0  1739052709                None  False   \n",
       "\n",
       "   training_iteration     trial_id                 date  time_this_iter_s  \\\n",
       "0                   1  af404_00002  2025-02-08_23-11-49          1.189866   \n",
       "\n",
       "   time_total_s  ...      hostname      node_ip time_since_restore  \\\n",
       "0      1.189866  ...  LXKA-J9SYDX3  10.23.68.39           1.189866   \n",
       "\n",
       "   iterations_since_restore  config/objective config/eval_metric  \\\n",
       "0                         1     multi:softmax   [logloss, error]   \n",
       "\n",
       "  config/max_depth  config/min_child_weight  config/subsample  config/eta  \n",
       "0                6                        1          0.816308    0.001167  \n",
       "\n",
       "[1 rows x 21 columns]"
      ]
     },
     "execution_count": 11,
     "metadata": {},
     "output_type": "execute_result"
    }
   ],
   "source": [
    "# Best run metrics (e.g., accuracy and recall)\n",
    "best_result.metrics_dataframe"
   ]
  },
  {
   "cell_type": "code",
   "execution_count": 12,
   "metadata": {},
   "outputs": [],
   "source": [
    "# Stop the local ray cluster\n",
    "ray.shutdown()"
   ]
  },
  {
   "cell_type": "code",
   "execution_count": 13,
   "metadata": {},
   "outputs": [],
   "source": [
    "# Ds gathers all runs in the experiment\n",
    "experiment_id = mlflow.get_experiment_by_name(name=EXP_NAME).experiment_id\n",
    "runs = mlflow.search_runs(\n",
    "    experiment_ids=[experiment_id], run_view_type=ViewType.ACTIVE_ONLY\n",
    ")"
   ]
  },
  {
   "cell_type": "code",
   "execution_count": null,
   "metadata": {},
   "outputs": [],
   "source": [
    "# Ds finds the run id that maximizes the accuracy (performance metric)\n",
    "best_run = runs.loc[runs[\"metrics.accuracy\"].idxmax()]\n",
    "best_run_id = best_run.run_id\n",
    "best_run_accuracy = best_run[\"metrics.accuracy\"]\n",
    "model_uri = f\"runs:/{best_run_id}/{ARTIFACT_PATH}\""
   ]
  },
  {
   "cell_type": "code",
   "execution_count": 15,
   "metadata": {},
   "outputs": [
    {
     "name": "stderr",
     "output_type": "stream",
     "text": [
      "Successfully registered model 'iris-classifer'.\n",
      "2025/02/08 23:12:31 INFO mlflow.store.model_registry.abstract_store: Waiting up to 300 seconds for model version to finish creation. Model name: iris-classifer, version 1\n"
     ]
    },
    {
     "name": "stdout",
     "output_type": "stream",
     "text": [
      "Model accuracy met the required minimum accuracy 🔥\n"
     ]
    },
    {
     "name": "stderr",
     "output_type": "stream",
     "text": [
      "Created version '1' of model 'iris-classifer'.\n"
     ]
    }
   ],
   "source": [
    "# Ds registers the run id model if it meets the minimum required accuracy\n",
    "if best_run_accuracy >= MINIMUM_REQUIRED_ACCURACY:\n",
    "    print(emoji.emojize(\"Model accuracy met the required minimum accuracy :fire:\"))\n",
    "    result = mlflow.register_model(model_uri, MODEL_NAME)\n",
    "else:\n",
    "    print(\n",
    "        emoji.emojize(\n",
    "            \"Best run did not meet the required minimum accuracy :sad_but_relieved_face:\"\n",
    "        )\n",
    "    )"
   ]
  },
  {
   "cell_type": "code",
   "execution_count": 16,
   "metadata": {},
   "outputs": [
    {
     "name": "stdout",
     "output_type": "stream",
     "text": [
      "Updated the version of the registered model 'iris-classifer' to '1'\n"
     ]
    }
   ],
   "source": [
    "print(\n",
    "    f\"Updated the version of the registered model '{MODEL_NAME}' to '{result.version}'\"\n",
    ")"
   ]
  },
  {
   "cell_type": "code",
   "execution_count": 17,
   "metadata": {},
   "outputs": [],
   "source": [
    "# Ds selects an alias for the latest model's version (optional as the model deployment is based on the artifact s3 path)\n",
    "client.set_registered_model_alias(MODEL_NAME, ALIAS, result.version)"
   ]
  },
  {
   "cell_type": "code",
   "execution_count": 27,
   "metadata": {},
   "outputs": [
    {
     "name": "stderr",
     "output_type": "stream",
     "text": [
      "2025/02/08 23:25:42 INFO mlflow.models.model: Retrieving model requirements files from mlflow-artifacts:/1/40f3ca3e3717432b8032255ba01032e6/artifacts/iris_xgb...\n"
     ]
    },
    {
     "data": {
      "application/vnd.jupyter.widget-view+json": {
       "model_id": "8f81a9e8b01541188b85c85b1f9649db",
       "version_major": 2,
       "version_minor": 0
      },
      "text/plain": [
       "Downloading artifacts:   0%|          | 0/1 [00:00<?, ?it/s]"
      ]
     },
     "metadata": {},
     "output_type": "display_data"
    },
    {
     "data": {
      "application/vnd.jupyter.widget-view+json": {
       "model_id": "eaf7ec5ac0974035abde610c251049cb",
       "version_major": 2,
       "version_minor": 0
      },
      "text/plain": [
       "Downloading artifacts:   0%|          | 0/1 [00:00<?, ?it/s]"
      ]
     },
     "metadata": {},
     "output_type": "display_data"
    },
    {
     "name": "stderr",
     "output_type": "stream",
     "text": [
      "2025/02/08 23:25:43 INFO mlflow.models.model: Done updating requirements!\n",
      "\n",
      "Old requirements:\n",
      "['mlflow==2.20.0', 'xgboost==2.1.3', 'scikit-learn==1.5.2']\n",
      "\n",
      "Updated requirements:\n",
      "['mlflow==2.20.0',\n",
      " 'xgboost==2.1.3',\n",
      " 'scikit-learn==1.5.2',\n",
      " 'mlserver==1.6.1',\n",
      " 'mlserver-mlflow==1.6.1',\n",
      " 'pydantic==2.7.1',\n",
      " 'conda-pack==0.8.1']\n",
      "\n",
      "2025/02/08 23:25:43 INFO mlflow.models.model: Uploading updated requirements files to mlflow-artifacts:/1/40f3ca3e3717432b8032255ba01032e6/artifacts/iris_xgb...\n"
     ]
    }
   ],
   "source": [
    "# Ds updates the best model's dependencies (mandatory for the model deployment into Kserve cluster)\n",
    "mlflow.models.update_model_requirements(\n",
    "    model_uri=model_uri,\n",
    "    operation=\"add\",\n",
    "    requirement_list=[\n",
    "        \"mlserver==1.6.1\",\n",
    "        \"mlserver-mlflow==1.6.1\",\n",
    "        \"pydantic==2.7.1\",\n",
    "        \"conda-pack==0.8.1\",\n",
    "    ],\n",
    ")"
   ]
  },
  {
   "cell_type": "code",
   "execution_count": 28,
   "metadata": {},
   "outputs": [
    {
     "data": {
      "application/vnd.jupyter.widget-view+json": {
       "model_id": "a9332582dec744c58bf3943b5f08fbfa",
       "version_major": 2,
       "version_minor": 0
      },
      "text/plain": [
       "Downloading artifacts:   0%|          | 0/5 [00:00<?, ?it/s]"
      ]
     },
     "metadata": {},
     "output_type": "display_data"
    },
    {
     "name": "stderr",
     "output_type": "stream",
     "text": [
      "2025/02/08 23:25:52 INFO mlflow.models.flavor_backend_registry: Selected backend for flavor 'python_function'\n"
     ]
    },
    {
     "data": {
      "application/vnd.jupyter.widget-view+json": {
       "model_id": "6d6045f8b9a04dc4acb618ffcec0d472",
       "version_major": 2,
       "version_minor": 0
      },
      "text/plain": [
       "Downloading artifacts:   0%|          | 0/5 [00:00<?, ?it/s]"
      ]
     },
     "metadata": {},
     "output_type": "display_data"
    },
    {
     "name": "stderr",
     "output_type": "stream",
     "text": [
      "2025/02/08 23:25:52 INFO mlflow.utils.virtualenv: Environment /tmp/tmpeincv6hw/envs/virtualenv_envs/mlflow-d717a062c77bc52456092013ae112c7d3d814986 already exists\n",
      "2025/02/08 23:25:52 INFO mlflow.utils.environment: === Running command '['bash', '-c', 'source /tmp/tmpeincv6hw/envs/virtualenv_envs/mlflow-d717a062c77bc52456092013ae112c7d3d814986/bin/activate && python -c \"\"']'\n",
      "2025/02/08 23:25:52 INFO mlflow.utils.environment: === Running command '['bash', '-c', 'source /tmp/tmpeincv6hw/envs/virtualenv_envs/mlflow-d717a062c77bc52456092013ae112c7d3d814986/bin/activate && python /home/ssafarveisi/Desktop/Projects/ML_PLATFORM/.venv/lib/python3.9/site-packages/mlflow/pyfunc/_mlflow_pyfunc_backend_predict.py --model-uri file:///tmp/tmp9sl7k8cs/iris_xgb --content-type json --input-path /tmp/tmposx8xu_3/input.json']'\n"
     ]
    },
    {
     "name": "stdout",
     "output_type": "stream",
     "text": [
      "{\"predictions\": [0, 0, 1, 1, 0, 2, 0, 0, 2, 0, 0, 1, 2, 0, 2, 0, 1, 1, 1, 0, 2, 1, 0, 2, 1, 1, 0, 1, 0, 1]}"
     ]
    }
   ],
   "source": [
    "# Ds reloads the data to do a sanity check\n",
    "_, test_x, _, test_y = train_test_split(\n",
    "    df.drop(\"target\", axis=1), df.target, test_size=0.2\n",
    ")\n",
    "\n",
    "# Ds validates the model before deployment\n",
    "mlflow.models.predict(\n",
    "    model_uri=model_uri,\n",
    "    input_data=test_x,\n",
    "    env_manager=\"uv\",\n",
    "    install_mlflow=False,\n",
    ")"
   ]
  },
  {
   "cell_type": "markdown",
   "metadata": {},
   "source": [
    "Ds downloads the best model's artifacts (e.g., `conda.yaml`). This step is optional and is done as a sanity check (e.g., checking the dependencies for the model)."
   ]
  },
  {
   "cell_type": "code",
   "execution_count": null,
   "metadata": {},
   "outputs": [
    {
     "name": "stdout",
     "output_type": "stream",
     "text": [
      "Artifactory path: s3://customerintelligence/ml_platform/mlartifacts/1/40f3ca3e3717432b8032255ba01032e6/artifacts/iris_xgb/\n"
     ]
    },
    {
     "data": {
      "application/vnd.jupyter.widget-view+json": {
       "model_id": "5e0293249b404aff9952ad952f981a0d",
       "version_major": 2,
       "version_minor": 0
      },
      "text/plain": [
       "Downloading artifacts:   0%|          | 0/1 [00:00<?, ?it/s]"
      ]
     },
     "metadata": {},
     "output_type": "display_data"
    },
    {
     "name": "stdout",
     "output_type": "stream",
     "text": [
      "Saved requirements.txt in /best_model_artifacts\n"
     ]
    },
    {
     "data": {
      "application/vnd.jupyter.widget-view+json": {
       "model_id": "793802cd8d3e422ba032771a51146d46",
       "version_major": 2,
       "version_minor": 0
      },
      "text/plain": [
       "Downloading artifacts:   0%|          | 0/1 [00:00<?, ?it/s]"
      ]
     },
     "metadata": {},
     "output_type": "display_data"
    },
    {
     "name": "stdout",
     "output_type": "stream",
     "text": [
      "Saved conda.yaml in /best_model_artifacts\n"
     ]
    },
    {
     "data": {
      "application/vnd.jupyter.widget-view+json": {
       "model_id": "eb94ab22436b4060b92517b02a934bef",
       "version_major": 2,
       "version_minor": 0
      },
      "text/plain": [
       "Downloading artifacts:   0%|          | 0/1 [00:00<?, ?it/s]"
      ]
     },
     "metadata": {},
     "output_type": "display_data"
    },
    {
     "name": "stdout",
     "output_type": "stream",
     "text": [
      "Saved .python-version in /best_model_artifacts\n"
     ]
    }
   ],
   "source": [
    "# Ds writes the spec for the best run into a designated directory\n",
    "s3_path = f\"s3://customerintelligence/ml_platform/mlartifacts/{experiment_id}/{best_run_id}/artifacts/{ARTIFACT_PATH}/\"\n",
    "print(f\"Artifactory path: {s3_path}\")\n",
    "get_best_model_artifacts(s3_path=s3_path)"
   ]
  },
  {
   "cell_type": "code",
   "execution_count": 32,
   "metadata": {},
   "outputs": [
    {
     "data": {
      "text/plain": [
       "[<FileInfo: file_size=987, is_dir=False, path='MLmodel'>,\n",
       " <FileInfo: file_size=240, is_dir=False, path='conda.yaml'>,\n",
       " <FileInfo: file_size=678265889, is_dir=False, path='environment.tar.gz'>,\n",
       " <FileInfo: file_size=203217, is_dir=False, path='model.json'>,\n",
       " <FileInfo: file_size=111, is_dir=False, path='python_env.yaml'>,\n",
       " <FileInfo: file_size=122, is_dir=False, path='requirements.txt'>]"
      ]
     },
     "execution_count": 32,
     "metadata": {},
     "output_type": "execute_result"
    }
   ],
   "source": [
    "# Ds checks the artifacts for the best run (recommended)\n",
    "mlflow.artifacts.list_artifacts(artifact_uri=s3_path)"
   ]
  },
  {
   "cell_type": "code",
   "execution_count": null,
   "metadata": {},
   "outputs": [],
   "source": [
    "# Ds updates the run sepc for the best run in best_model_artifacts/.env.best_run.\n",
    "# This file is versioned. \n",
    "write_best_run_spec(\n",
    "    experiment_id=experiment_id,\n",
    "    run_id=best_run_id,\n",
    "    artifact_path=ARTIFACT_PATH,\n",
    "    mode=\"best_run\",\n",
    ")"
   ]
  }
 ],
 "metadata": {
  "kernelspec": {
   "display_name": ".venv",
   "language": "python",
   "name": "python3"
  },
  "language_info": {
   "codemirror_mode": {
    "name": "ipython",
    "version": 3
   },
   "file_extension": ".py",
   "mimetype": "text/x-python",
   "name": "python",
   "nbconvert_exporter": "python",
   "pygments_lexer": "ipython3",
   "version": "3.9.1"
  }
 },
 "nbformat": 4,
 "nbformat_minor": 2
}
