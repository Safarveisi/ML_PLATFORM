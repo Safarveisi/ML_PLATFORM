{
 "cells": [
  {
   "cell_type": "code",
   "execution_count": 1,
   "metadata": {},
   "outputs": [],
   "source": [
    "import emoji\n",
    "\n",
    "import mlflow\n",
    "from mlflow.models import infer_signature\n",
    "from mlflow import MlflowClient\n",
    "from mlflow.models.model import update_model_requirements\n",
    "\n",
    "import sklearn.datasets\n",
    "from sklearn.metrics import accuracy_score, recall_score\n",
    "from sklearn.model_selection import train_test_split\n",
    "\n",
    "import xgboost as xgb\n",
    "\n",
    "import ray\n",
    "from ray import train, tune\n",
    "from ray.air.integrations.mlflow import setup_mlflow"
   ]
  },
  {
   "cell_type": "code",
   "execution_count": 2,
   "metadata": {},
   "outputs": [],
   "source": [
    "TRACKING_URI = \"http://0.0.0.0:5000\"\n",
    "EXP_NAME = \"ml_platform\"\n",
    "MODEL_NAME = \"xgb-breast-cancer-classifer\"\n",
    "ALIAS = \"champion\"\n",
    "MINIMUM_REQUIRED_ACCURACY = 0.95"
   ]
  },
  {
   "cell_type": "code",
   "execution_count": 3,
   "metadata": {},
   "outputs": [
    {
     "name": "stderr",
     "output_type": "stream",
     "text": [
      "2025/01/29 01:34:51 INFO mlflow.tracking.fluent: Experiment with name 'ml_platform' does not exist. Creating a new experiment.\n"
     ]
    }
   ],
   "source": [
    "mlflow.set_tracking_uri(TRACKING_URI)\n",
    "mlflow.set_experiment(experiment_name=EXP_NAME)\n",
    "\n",
    "client = MlflowClient()"
   ]
  },
  {
   "cell_type": "code",
   "execution_count": null,
   "metadata": {},
   "outputs": [
    {
     "name": "stderr",
     "output_type": "stream",
     "text": [
      "2025-01-29 01:34:53,838\tINFO worker.py:1832 -- Started a local Ray instance. View the dashboard at \u001b[1m\u001b[32m127.0.0.1:8265 \u001b[39m\u001b[22m\n"
     ]
    },
    {
     "data": {
      "application/vnd.jupyter.widget-view+json": {
       "model_id": "c406fdf1030c414391b2d681b7934a67",
       "version_major": 2,
       "version_minor": 0
      },
      "text/html": [
       "<div class=\"lm-Widget p-Widget lm-Panel p-Panel jp-Cell-outputWrapper\">\n",
       "    <div style=\"margin-left: 50px;display: flex;flex-direction: row;align-items: center\">\n",
       "        <div class=\"jp-RenderedHTMLCommon\" style=\"display: flex; flex-direction: row;\">\n",
       "  <svg viewBox=\"0 0 567 224\" fill=\"none\" xmlns=\"http://www.w3.org/2000/svg\" style=\"height: 3em;\">\n",
       "    <g clip-path=\"url(#clip0_4338_178347)\">\n",
       "        <path d=\"M341.29 165.561H355.29L330.13 129.051C345.63 123.991 354.21 112.051 354.21 94.2307C354.21 71.3707 338.72 58.1807 311.88 58.1807H271V165.561H283.27V131.661H311.8C314.25 131.661 316.71 131.501 319.01 131.351L341.25 165.561H341.29ZM283.29 119.851V70.0007H311.82C331.3 70.0007 342.34 78.2907 342.34 94.5507C342.34 111.271 331.34 119.861 311.82 119.861L283.29 119.851ZM451.4 138.411L463.4 165.561H476.74L428.74 58.1807H416L367.83 165.561H380.83L392.83 138.411H451.4ZM446.19 126.601H398L422 72.1407L446.24 126.601H446.19ZM526.11 128.741L566.91 58.1807H554.35L519.99 114.181L485.17 58.1807H472.44L514.01 129.181V165.541H526.13V128.741H526.11Z\" fill=\"var(--jp-ui-font-color0)\"/>\n",
       "        <path d=\"M82.35 104.44C84.0187 97.8827 87.8248 92.0678 93.1671 87.9146C98.5094 83.7614 105.083 81.5067 111.85 81.5067C118.617 81.5067 125.191 83.7614 130.533 87.9146C135.875 92.0678 139.681 97.8827 141.35 104.44H163.75C164.476 101.562 165.622 98.8057 167.15 96.2605L127.45 56.5605C121.071 60.3522 113.526 61.6823 106.235 60.3005C98.9443 58.9187 92.4094 54.9203 87.8602 49.0574C83.3109 43.1946 81.0609 35.8714 81.5332 28.4656C82.0056 21.0599 85.1679 14.0819 90.4252 8.8446C95.6824 3.60726 102.672 0.471508 110.08 0.0272655C117.487 -0.416977 124.802 1.86091 130.647 6.4324C136.493 11.0039 140.467 17.5539 141.821 24.8501C143.175 32.1463 141.816 39.6859 138 46.0505L177.69 85.7505C182.31 82.9877 187.58 81.4995 192.962 81.4375C198.345 81.3755 203.648 82.742 208.33 85.3976C213.012 88.0532 216.907 91.9029 219.616 96.5544C222.326 101.206 223.753 106.492 223.753 111.875C223.753 117.258 222.326 122.545 219.616 127.197C216.907 131.848 213.012 135.698 208.33 138.353C203.648 141.009 198.345 142.375 192.962 142.313C187.58 142.251 182.31 140.763 177.69 138L138 177.7C141.808 184.071 143.155 191.614 141.79 198.91C140.424 206.205 136.44 212.75 130.585 217.313C124.731 221.875 117.412 224.141 110.004 223.683C102.596 223.226 95.6103 220.077 90.3621 214.828C85.1139 209.58 81.9647 202.595 81.5072 195.187C81.0497 187.779 83.3154 180.459 87.878 174.605C92.4405 168.751 98.9853 164.766 106.281 163.401C113.576 162.035 121.119 163.383 127.49 167.19L167.19 127.49C165.664 124.941 164.518 122.182 163.79 119.3H141.39C139.721 125.858 135.915 131.673 130.573 135.826C125.231 139.98 118.657 142.234 111.89 142.234C105.123 142.234 98.5494 139.98 93.2071 135.826C87.8648 131.673 84.0587 125.858 82.39 119.3H60C58.1878 126.495 53.8086 132.78 47.6863 136.971C41.5641 141.163 34.1211 142.972 26.7579 142.059C19.3947 141.146 12.6191 137.574 7.70605 132.014C2.79302 126.454 0.0813599 119.29 0.0813599 111.87C0.0813599 104.451 2.79302 97.2871 7.70605 91.7272C12.6191 86.1673 19.3947 82.5947 26.7579 81.6817C34.1211 80.7686 41.5641 82.5781 47.6863 86.7696C53.8086 90.9611 58.1878 97.2456 60 104.44H82.35ZM100.86 204.32C103.407 206.868 106.759 208.453 110.345 208.806C113.93 209.159 117.527 208.258 120.522 206.256C123.517 204.254 125.725 201.276 126.771 197.828C127.816 194.38 127.633 190.677 126.253 187.349C124.874 184.021 122.383 181.274 119.205 179.577C116.027 177.88 112.359 177.337 108.826 178.042C105.293 178.746 102.113 180.654 99.8291 183.44C97.5451 186.226 96.2979 189.718 96.3 193.32C96.2985 195.364 96.7006 197.388 97.4831 199.275C98.2656 201.163 99.4132 202.877 100.86 204.32ZM204.32 122.88C206.868 120.333 208.453 116.981 208.806 113.396C209.159 109.811 208.258 106.214 206.256 103.219C204.254 100.223 201.275 98.0151 197.827 96.97C194.38 95.9249 190.676 96.1077 187.348 97.4873C184.02 98.8669 181.274 101.358 179.577 104.536C177.879 107.714 177.337 111.382 178.041 114.915C178.746 118.448 180.653 121.627 183.439 123.911C186.226 126.195 189.717 127.443 193.32 127.44C195.364 127.443 197.388 127.042 199.275 126.259C201.163 125.476 202.878 124.328 204.32 122.88ZM122.88 19.4205C120.333 16.8729 116.981 15.2876 113.395 14.9347C109.81 14.5817 106.213 15.483 103.218 17.4849C100.223 19.4868 98.0146 22.4654 96.9696 25.9131C95.9245 29.3608 96.1073 33.0642 97.4869 36.3922C98.8665 39.7202 101.358 42.4668 104.535 44.1639C107.713 45.861 111.381 46.4036 114.914 45.6992C118.447 44.9949 121.627 43.0871 123.911 40.301C126.195 37.515 127.442 34.0231 127.44 30.4205C127.44 28.3772 127.038 26.3539 126.255 24.4664C125.473 22.5788 124.326 20.8642 122.88 19.4205ZM19.42 100.86C16.8725 103.408 15.2872 106.76 14.9342 110.345C14.5813 113.93 15.4826 117.527 17.4844 120.522C19.4863 123.518 22.4649 125.726 25.9127 126.771C29.3604 127.816 33.0638 127.633 36.3918 126.254C39.7198 124.874 42.4664 122.383 44.1635 119.205C45.8606 116.027 46.4032 112.359 45.6988 108.826C44.9944 105.293 43.0866 102.114 40.3006 99.8296C37.5145 97.5455 34.0227 96.2983 30.42 96.3005C26.2938 96.3018 22.337 97.9421 19.42 100.86ZM100.86 100.86C98.3125 103.408 96.7272 106.76 96.3742 110.345C96.0213 113.93 96.9226 117.527 98.9244 120.522C100.926 123.518 103.905 125.726 107.353 126.771C110.8 127.816 114.504 127.633 117.832 126.254C121.16 124.874 123.906 122.383 125.604 119.205C127.301 116.027 127.843 112.359 127.139 108.826C126.434 105.293 124.527 102.114 121.741 99.8296C118.955 97.5455 115.463 96.2983 111.86 96.3005C109.817 96.299 107.793 96.701 105.905 97.4835C104.018 98.2661 102.303 99.4136 100.86 100.86Z\" fill=\"#00AEEF\"/>\n",
       "    </g>\n",
       "    <defs>\n",
       "        <clipPath id=\"clip0_4338_178347\">\n",
       "            <rect width=\"566.93\" height=\"223.75\" fill=\"white\"/>\n",
       "        </clipPath>\n",
       "    </defs>\n",
       "  </svg>\n",
       "</div>\n",
       "\n",
       "        <table class=\"jp-RenderedHTMLCommon\" style=\"border-collapse: collapse;color: var(--jp-ui-font-color1);font-size: var(--jp-ui-font-size1);\">\n",
       "    <tr>\n",
       "        <td style=\"text-align: left\"><b>Python version:</b></td>\n",
       "        <td style=\"text-align: left\"><b>3.9.1</b></td>\n",
       "    </tr>\n",
       "    <tr>\n",
       "        <td style=\"text-align: left\"><b>Ray version:</b></td>\n",
       "        <td style=\"text-align: left\"><b>2.41.0</b></td>\n",
       "    </tr>\n",
       "    <tr>\n",
       "    <td style=\"text-align: left\"><b>Dashboard:</b></td>\n",
       "    <td style=\"text-align: left\"><b><a href=\"http://127.0.0.1:8265\" target=\"_blank\">http://127.0.0.1:8265</a></b></td>\n",
       "</tr>\n",
       "\n",
       "</table>\n",
       "\n",
       "    </div>\n",
       "</div>\n"
      ],
      "text/plain": [
       "RayContext(dashboard_url='127.0.0.1:8265', python_version='3.9.1', ray_version='2.41.0', ray_commit='021baf7dd07db54c2dc23a7490f0604673f8d0d6')"
      ]
     },
     "execution_count": 4,
     "metadata": {},
     "output_type": "execute_result"
    },
    {
     "name": "stderr",
     "output_type": "stream",
     "text": [
      "\u001b[36m(train_function_mlflow pid=1033594)\u001b[0m *** SIGSEGV received at time=1738110937 on cpu 15 ***\n",
      "\u001b[36m(train_function_mlflow pid=1033594)\u001b[0m PC: @     0x7655e40d345e  (unknown)  ray::gcs::TaskInfoAccessor::AsyncAddTaskEventData()\n",
      "\u001b[36m(train_function_mlflow pid=1033594)\u001b[0m     @     0x7655e5242520       3680  (unknown)\n",
      "\u001b[36m(train_function_mlflow pid=1033594)\u001b[0m     @     0x7655e3fb61a5       1392  ray::core::worker::TaskEventBufferImpl::FlushEvents()\n",
      "\u001b[36m(train_function_mlflow pid=1033594)\u001b[0m     @     0x7655e3f4216c       1488  ray::core::CoreWorker::Disconnect()\n",
      "\u001b[36m(train_function_mlflow pid=1033594)\u001b[0m     @     0x7655e3f4251d       1152  ray::core::CoreWorker::ForceExit()\n",
      "\u001b[36m(train_function_mlflow pid=1033594)\u001b[0m     @     0x7655e3f4294f       1680  ray::core::CoreWorker::HandleKillActor()\n",
      "\u001b[36m(train_function_mlflow pid=1033594)\u001b[0m     @     0x7655e3f39e54        192  ray::rpc::ServerCallImpl<>::HandleRequestImpl()\n",
      "\u001b[36m(train_function_mlflow pid=1033594)\u001b[0m     @     0x7655e4288888       1168  EventTracker::RecordExecution()\n",
      "\u001b[36m(train_function_mlflow pid=1033594)\u001b[0m     @     0x7655e428385e         48  std::_Function_handler<>::_M_invoke()\n",
      "\u001b[36m(train_function_mlflow pid=1033594)\u001b[0m     @     0x7655e4283cd6        112  boost::asio::detail::completion_handler<>::do_complete()\n",
      "\u001b[36m(train_function_mlflow pid=1033594)\u001b[0m     @     0x7655e48593fb        128  boost::asio::detail::scheduler::do_run_one()\n",
      "\u001b[36m(train_function_mlflow pid=1033594)\u001b[0m     @     0x7655e485ad79        288  boost::asio::detail::scheduler::run()\n",
      "\u001b[36m(train_function_mlflow pid=1033594)\u001b[0m     @     0x7655e485b482         96  boost::asio::io_context::run()\n",
      "\u001b[36m(train_function_mlflow pid=1033594)\u001b[0m     @     0x7655e3e7f261       1280  ray::core::CoreWorker::RunIOService()\n",
      "\u001b[36m(train_function_mlflow pid=1033594)\u001b[0m     @     0x7655e4339ff0         64  thread_proxy\n",
      "\u001b[36m(train_function_mlflow pid=1033594)\u001b[0m     @     0x7655e5294ac3  (unknown)  (unknown)\n",
      "\u001b[36m(train_function_mlflow pid=1033594)\u001b[0m [2025-01-29 01:35:37,622 E 1033594 1033659] logging.cc:460: *** SIGSEGV received at time=1738110937 on cpu 15 ***\n",
      "\u001b[36m(train_function_mlflow pid=1033594)\u001b[0m [2025-01-29 01:35:37,622 E 1033594 1033659] logging.cc:460: PC: @     0x7655e40d345e  (unknown)  ray::gcs::TaskInfoAccessor::AsyncAddTaskEventData()\n",
      "\u001b[36m(train_function_mlflow pid=1033594)\u001b[0m [2025-01-29 01:35:37,622 E 1033594 1033659] logging.cc:460:     @     0x7655e5242520       3680  (unknown)\n",
      "\u001b[36m(train_function_mlflow pid=1033594)\u001b[0m [2025-01-29 01:35:37,622 E 1033594 1033659] logging.cc:460:     @     0x7655e3fb61a5       1392  ray::core::worker::TaskEventBufferImpl::FlushEvents()\n",
      "\u001b[36m(train_function_mlflow pid=1033594)\u001b[0m [2025-01-29 01:35:37,622 E 1033594 1033659] logging.cc:460:     @     0x7655e3f4216c       1488  ray::core::CoreWorker::Disconnect()\n",
      "\u001b[36m(train_function_mlflow pid=1033594)\u001b[0m [2025-01-29 01:35:37,622 E 1033594 1033659] logging.cc:460:     @     0x7655e3f4251d       1152  ray::core::CoreWorker::ForceExit()\n",
      "\u001b[36m(train_function_mlflow pid=1033594)\u001b[0m [2025-01-29 01:35:37,622 E 1033594 1033659] logging.cc:460:     @     0x7655e3f4294f       1680  ray::core::CoreWorker::HandleKillActor()\n",
      "\u001b[36m(train_function_mlflow pid=1033594)\u001b[0m [2025-01-29 01:35:37,622 E 1033594 1033659] logging.cc:460:     @     0x7655e3f39e54        192  ray::rpc::ServerCallImpl<>::HandleRequestImpl()\n",
      "\u001b[36m(train_function_mlflow pid=1033594)\u001b[0m [2025-01-29 01:35:37,622 E 1033594 1033659] logging.cc:460:     @     0x7655e4288888       1168  EventTracker::RecordExecution()\n",
      "\u001b[36m(train_function_mlflow pid=1033594)\u001b[0m [2025-01-29 01:35:37,622 E 1033594 1033659] logging.cc:460:     @     0x7655e428385e         48  std::_Function_handler<>::_M_invoke()\n",
      "\u001b[36m(train_function_mlflow pid=1033594)\u001b[0m [2025-01-29 01:35:37,622 E 1033594 1033659] logging.cc:460:     @     0x7655e4283cd6        112  boost::asio::detail::completion_handler<>::do_complete()\n",
      "\u001b[36m(train_function_mlflow pid=1033594)\u001b[0m [2025-01-29 01:35:37,622 E 1033594 1033659] logging.cc:460:     @     0x7655e48593fb        128  boost::asio::detail::scheduler::do_run_one()\n",
      "\u001b[36m(train_function_mlflow pid=1033594)\u001b[0m [2025-01-29 01:35:37,622 E 1033594 1033659] logging.cc:460:     @     0x7655e485ad79        288  boost::asio::detail::scheduler::run()\n",
      "\u001b[36m(train_function_mlflow pid=1033594)\u001b[0m [2025-01-29 01:35:37,622 E 1033594 1033659] logging.cc:460:     @     0x7655e485b482         96  boost::asio::io_context::run()\n",
      "\u001b[36m(train_function_mlflow pid=1033594)\u001b[0m [2025-01-29 01:35:37,622 E 1033594 1033659] logging.cc:460:     @     0x7655e3e7f261       1280  ray::core::CoreWorker::RunIOService()\n",
      "\u001b[36m(train_function_mlflow pid=1033594)\u001b[0m [2025-01-29 01:35:37,622 E 1033594 1033659] logging.cc:460:     @     0x7655e4339ff0         64  thread_proxy\n",
      "\u001b[36m(train_function_mlflow pid=1033594)\u001b[0m [2025-01-29 01:35:37,622 E 1033594 1033659] logging.cc:460:     @     0x7655e5294ac3  (unknown)  (unknown)\n",
      "\u001b[36m(train_function_mlflow pid=1033594)\u001b[0m Fatal Python error: Segmentation fault\n",
      "\u001b[36m(train_function_mlflow pid=1033594)\u001b[0m \n"
     ]
    }
   ],
   "source": [
    "ray.init(num_cpus=6)"
   ]
  },
  {
   "cell_type": "code",
   "execution_count": 5,
   "metadata": {},
   "outputs": [],
   "source": [
    "conda_env = {\n",
    "    \"name\": \"mlflow-env\",\n",
    "    \"channels\": [\"conda-forge\"],\n",
    "    \"dependencies\": [\n",
    "        \"python=3.9.1\",\n",
    "        \"pip<=24.0\",\n",
    "        {\"pip\": [\"mlflow==2.20.0\", \"xgboost==2.1.3\", \"scikit-learn==1.5.2\"]},\n",
    "    ],\n",
    "}\n",
    "\n",
    "\n",
    "def train_function_mlflow(config: dict) -> None:\n",
    "    setup_mlflow(\n",
    "        config,\n",
    "        experiment_name=EXP_NAME,\n",
    "        tracking_uri=TRACKING_URI,\n",
    "    )\n",
    "\n",
    "    # Load dataset\n",
    "    data, labels = sklearn.datasets.load_breast_cancer(return_X_y=True)\n",
    "    train_x, test_x, train_y, test_y = train_test_split(data, labels, test_size=0.2)\n",
    "\n",
    "    # Pass the trial's config (hyperparameters for the xgb classifier)\n",
    "    model = xgb.XGBClassifier(**config)\n",
    "    model.fit(train_x, train_y)\n",
    "\n",
    "    predictions = model.predict(test_x)\n",
    "    # Measure accuracy and recall for this trial\n",
    "    accuracy = accuracy_score(test_y, predictions)\n",
    "    recall = recall_score(test_y, predictions)\n",
    "\n",
    "    signature = infer_signature(train_x, model.predict(train_x))\n",
    "\n",
    "    # Log the metrics as well as artifacts for this trial\n",
    "    mlflow.log_metrics({\"recall\": recall, \"accuracy\": accuracy})\n",
    "    mlflow.xgboost.log_model(\n",
    "        model,\n",
    "        \"xgb_models\",\n",
    "        conda_env=conda_env,\n",
    "        signature=signature,\n",
    "        model_format=\"json\",\n",
    "    )\n",
    "    # Get the best result later based on the following metrics\n",
    "    train.report({\"accuracy\": accuracy, \"recall\": recall})\n",
    "\n",
    "\n",
    "def tune_with_setup() -> tune.ResultGrid:\n",
    "    # Each trial uses 2 cpus. Therfore, we have at most 3 trials running concurrently\n",
    "    trainable_with_resources = tune.with_resources(train_function_mlflow, {\"cpu\": 2})\n",
    "    tuner = tune.Tuner(\n",
    "        trainable_with_resources,\n",
    "        tune_config=tune.TuneConfig(\n",
    "            num_samples=20,\n",
    "        ),\n",
    "        run_config=train.RunConfig(\n",
    "            name=\"mlflow\",\n",
    "        ),\n",
    "        param_space={\n",
    "            \"objective\": \"binary:logistic\",\n",
    "            \"eval_metric\": [\"logloss\", \"error\"],\n",
    "            \"max_depth\": tune.randint(1, 9),\n",
    "            \"min_child_weight\": tune.choice([1, 2, 3]),\n",
    "            \"subsample\": tune.uniform(0.5, 1.0),\n",
    "            \"eta\": tune.loguniform(1e-4, 1e-1),\n",
    "        },\n",
    "    )\n",
    "\n",
    "    results = tuner.fit()\n",
    "    return results"
   ]
  },
  {
   "cell_type": "code",
   "execution_count": 6,
   "metadata": {},
   "outputs": [
    {
     "data": {
      "text/html": [
       "<div class=\"tuneStatus\">\n",
       "  <div style=\"display: flex;flex-direction: row\">\n",
       "    <div style=\"display: flex;flex-direction: column;\">\n",
       "      <h3>Tune Status</h3>\n",
       "      <table>\n",
       "<tbody>\n",
       "<tr><td>Current time:</td><td>2025-01-29 01:35:37</td></tr>\n",
       "<tr><td>Running for: </td><td>00:00:27.73        </td></tr>\n",
       "<tr><td>Memory:      </td><td>10.9/62.5 GiB      </td></tr>\n",
       "</tbody>\n",
       "</table>\n",
       "    </div>\n",
       "    <div class=\"vDivider\"></div>\n",
       "    <div class=\"systemInfo\">\n",
       "      <h3>System Info</h3>\n",
       "      Using FIFO scheduling algorithm.<br>Logical resource usage: 2.0/6 CPUs, 0/0 GPUs\n",
       "    </div>\n",
       "    \n",
       "  </div>\n",
       "  <div class=\"hDivider\"></div>\n",
       "  <div class=\"trialStatus\">\n",
       "    <h3>Trial Status</h3>\n",
       "    <table>\n",
       "<thead>\n",
       "<tr><th>Trial name                       </th><th>status    </th><th>loc                 </th><th style=\"text-align: right;\">        eta</th><th style=\"text-align: right;\">  max_depth</th><th style=\"text-align: right;\">  min_child_weight</th><th style=\"text-align: right;\">  subsample</th><th style=\"text-align: right;\">  iter</th><th style=\"text-align: right;\">  total time (s)</th><th style=\"text-align: right;\">  accuracy</th><th style=\"text-align: right;\">  recall</th></tr>\n",
       "</thead>\n",
       "<tbody>\n",
       "<tr><td>train_function_mlflow_e519d_00000</td><td>TERMINATED</td><td>192.168.0.58:1031249</td><td style=\"text-align: right;\">0.000192248</td><td style=\"text-align: right;\">          1</td><td style=\"text-align: right;\">                 3</td><td style=\"text-align: right;\">   0.605626</td><td style=\"text-align: right;\">     1</td><td style=\"text-align: right;\">        1.26374 </td><td style=\"text-align: right;\">  0.666667</td><td style=\"text-align: right;\">1       </td></tr>\n",
       "<tr><td>train_function_mlflow_e519d_00001</td><td>TERMINATED</td><td>192.168.0.58:1031250</td><td style=\"text-align: right;\">0.000715613</td><td style=\"text-align: right;\">          7</td><td style=\"text-align: right;\">                 3</td><td style=\"text-align: right;\">   0.64082 </td><td style=\"text-align: right;\">     1</td><td style=\"text-align: right;\">        2.5392  </td><td style=\"text-align: right;\">  0.684211</td><td style=\"text-align: right;\">1       </td></tr>\n",
       "<tr><td>train_function_mlflow_e519d_00002</td><td>TERMINATED</td><td>192.168.0.58:1031251</td><td style=\"text-align: right;\">0.000136967</td><td style=\"text-align: right;\">          6</td><td style=\"text-align: right;\">                 3</td><td style=\"text-align: right;\">   0.537129</td><td style=\"text-align: right;\">     1</td><td style=\"text-align: right;\">        1.42656 </td><td style=\"text-align: right;\">  0.587719</td><td style=\"text-align: right;\">1       </td></tr>\n",
       "<tr><td>train_function_mlflow_e519d_00003</td><td>TERMINATED</td><td>192.168.0.58:1031605</td><td style=\"text-align: right;\">0.00336098 </td><td style=\"text-align: right;\">          4</td><td style=\"text-align: right;\">                 1</td><td style=\"text-align: right;\">   0.988544</td><td style=\"text-align: right;\">     1</td><td style=\"text-align: right;\">        1.27694 </td><td style=\"text-align: right;\">  0.947368</td><td style=\"text-align: right;\">1       </td></tr>\n",
       "<tr><td>train_function_mlflow_e519d_00004</td><td>TERMINATED</td><td>192.168.0.58:1031604</td><td style=\"text-align: right;\">0.0445515  </td><td style=\"text-align: right;\">          1</td><td style=\"text-align: right;\">                 1</td><td style=\"text-align: right;\">   0.640442</td><td style=\"text-align: right;\">     1</td><td style=\"text-align: right;\">        1.00827 </td><td style=\"text-align: right;\">  0.964912</td><td style=\"text-align: right;\">0.985915</td></tr>\n",
       "<tr><td>train_function_mlflow_e519d_00005</td><td>TERMINATED</td><td>192.168.0.58:1031719</td><td style=\"text-align: right;\">0.0643398  </td><td style=\"text-align: right;\">          4</td><td style=\"text-align: right;\">                 1</td><td style=\"text-align: right;\">   0.81071 </td><td style=\"text-align: right;\">     1</td><td style=\"text-align: right;\">        0.996416</td><td style=\"text-align: right;\">  0.991228</td><td style=\"text-align: right;\">1       </td></tr>\n",
       "<tr><td>train_function_mlflow_e519d_00006</td><td>TERMINATED</td><td>192.168.0.58:1032009</td><td style=\"text-align: right;\">0.0646932  </td><td style=\"text-align: right;\">          5</td><td style=\"text-align: right;\">                 3</td><td style=\"text-align: right;\">   0.859108</td><td style=\"text-align: right;\">     1</td><td style=\"text-align: right;\">        0.957932</td><td style=\"text-align: right;\">  0.964912</td><td style=\"text-align: right;\">0.985915</td></tr>\n",
       "<tr><td>train_function_mlflow_e519d_00007</td><td>TERMINATED</td><td>192.168.0.58:1032008</td><td style=\"text-align: right;\">0.000262611</td><td style=\"text-align: right;\">          3</td><td style=\"text-align: right;\">                 2</td><td style=\"text-align: right;\">   0.550478</td><td style=\"text-align: right;\">     1</td><td style=\"text-align: right;\">        1.10322 </td><td style=\"text-align: right;\">  0.631579</td><td style=\"text-align: right;\">1       </td></tr>\n",
       "<tr><td>train_function_mlflow_e519d_00008</td><td>TERMINATED</td><td>192.168.0.58:1032016</td><td style=\"text-align: right;\">0.000211546</td><td style=\"text-align: right;\">          6</td><td style=\"text-align: right;\">                 2</td><td style=\"text-align: right;\">   0.92184 </td><td style=\"text-align: right;\">     1</td><td style=\"text-align: right;\">        0.920392</td><td style=\"text-align: right;\">  0.657895</td><td style=\"text-align: right;\">1       </td></tr>\n",
       "<tr><td>train_function_mlflow_e519d_00009</td><td>TERMINATED</td><td>192.168.0.58:1032419</td><td style=\"text-align: right;\">0.0496187  </td><td style=\"text-align: right;\">          5</td><td style=\"text-align: right;\">                 3</td><td style=\"text-align: right;\">   0.684554</td><td style=\"text-align: right;\">     1</td><td style=\"text-align: right;\">        0.849073</td><td style=\"text-align: right;\">  0.982456</td><td style=\"text-align: right;\">0.986111</td></tr>\n",
       "<tr><td>train_function_mlflow_e519d_00010</td><td>TERMINATED</td><td>192.168.0.58:1032425</td><td style=\"text-align: right;\">0.00163316 </td><td style=\"text-align: right;\">          2</td><td style=\"text-align: right;\">                 3</td><td style=\"text-align: right;\">   0.673998</td><td style=\"text-align: right;\">     1</td><td style=\"text-align: right;\">        1.29695 </td><td style=\"text-align: right;\">  0.649123</td><td style=\"text-align: right;\">1       </td></tr>\n",
       "<tr><td>train_function_mlflow_e519d_00011</td><td>TERMINATED</td><td>192.168.0.58:1032426</td><td style=\"text-align: right;\">0.00120637 </td><td style=\"text-align: right;\">          4</td><td style=\"text-align: right;\">                 1</td><td style=\"text-align: right;\">   0.553377</td><td style=\"text-align: right;\">     1</td><td style=\"text-align: right;\">        0.894811</td><td style=\"text-align: right;\">  0.684211</td><td style=\"text-align: right;\">1       </td></tr>\n",
       "<tr><td>train_function_mlflow_e519d_00012</td><td>TERMINATED</td><td>192.168.0.58:1032827</td><td style=\"text-align: right;\">0.000354335</td><td style=\"text-align: right;\">          6</td><td style=\"text-align: right;\">                 2</td><td style=\"text-align: right;\">   0.860692</td><td style=\"text-align: right;\">     1</td><td style=\"text-align: right;\">        0.970847</td><td style=\"text-align: right;\">  0.649123</td><td style=\"text-align: right;\">1       </td></tr>\n",
       "<tr><td>train_function_mlflow_e519d_00013</td><td>TERMINATED</td><td>192.168.0.58:1032828</td><td style=\"text-align: right;\">0.00307014 </td><td style=\"text-align: right;\">          5</td><td style=\"text-align: right;\">                 1</td><td style=\"text-align: right;\">   0.785064</td><td style=\"text-align: right;\">     1</td><td style=\"text-align: right;\">        1.06521 </td><td style=\"text-align: right;\">  0.929825</td><td style=\"text-align: right;\">1       </td></tr>\n",
       "<tr><td>train_function_mlflow_e519d_00014</td><td>TERMINATED</td><td>192.168.0.58:1032835</td><td style=\"text-align: right;\">0.00561116 </td><td style=\"text-align: right;\">          3</td><td style=\"text-align: right;\">                 1</td><td style=\"text-align: right;\">   0.589633</td><td style=\"text-align: right;\">     1</td><td style=\"text-align: right;\">        1.01502 </td><td style=\"text-align: right;\">  0.947368</td><td style=\"text-align: right;\">0.986667</td></tr>\n",
       "<tr><td>train_function_mlflow_e519d_00015</td><td>TERMINATED</td><td>192.168.0.58:1033240</td><td style=\"text-align: right;\">0.000305179</td><td style=\"text-align: right;\">          3</td><td style=\"text-align: right;\">                 3</td><td style=\"text-align: right;\">   0.591894</td><td style=\"text-align: right;\">     1</td><td style=\"text-align: right;\">        0.917664</td><td style=\"text-align: right;\">  0.675439</td><td style=\"text-align: right;\">1       </td></tr>\n",
       "<tr><td>train_function_mlflow_e519d_00016</td><td>TERMINATED</td><td>192.168.0.58:1033241</td><td style=\"text-align: right;\">0.00201373 </td><td style=\"text-align: right;\">          5</td><td style=\"text-align: right;\">                 3</td><td style=\"text-align: right;\">   0.681129</td><td style=\"text-align: right;\">     1</td><td style=\"text-align: right;\">        0.996956</td><td style=\"text-align: right;\">  0.587719</td><td style=\"text-align: right;\">1       </td></tr>\n",
       "<tr><td>train_function_mlflow_e519d_00017</td><td>TERMINATED</td><td>192.168.0.58:1033248</td><td style=\"text-align: right;\">0.00418579 </td><td style=\"text-align: right;\">          5</td><td style=\"text-align: right;\">                 1</td><td style=\"text-align: right;\">   0.52026 </td><td style=\"text-align: right;\">     1</td><td style=\"text-align: right;\">        0.901214</td><td style=\"text-align: right;\">  0.921053</td><td style=\"text-align: right;\">0.973333</td></tr>\n",
       "<tr><td>train_function_mlflow_e519d_00018</td><td>TERMINATED</td><td>192.168.0.58:1033594</td><td style=\"text-align: right;\">0.00871904 </td><td style=\"text-align: right;\">          2</td><td style=\"text-align: right;\">                 2</td><td style=\"text-align: right;\">   0.592512</td><td style=\"text-align: right;\">     1</td><td style=\"text-align: right;\">        1.3391  </td><td style=\"text-align: right;\">  0.929825</td><td style=\"text-align: right;\">0.973333</td></tr>\n",
       "<tr><td>train_function_mlflow_e519d_00019</td><td>TERMINATED</td><td>192.168.0.58:1033595</td><td style=\"text-align: right;\">0.0044559  </td><td style=\"text-align: right;\">          2</td><td style=\"text-align: right;\">                 3</td><td style=\"text-align: right;\">   0.818636</td><td style=\"text-align: right;\">     1</td><td style=\"text-align: right;\">        0.878711</td><td style=\"text-align: right;\">  0.929825</td><td style=\"text-align: right;\">0.985915</td></tr>\n",
       "</tbody>\n",
       "</table>\n",
       "  </div>\n",
       "</div>\n",
       "<style>\n",
       ".tuneStatus {\n",
       "  color: var(--jp-ui-font-color1);\n",
       "}\n",
       ".tuneStatus .systemInfo {\n",
       "  display: flex;\n",
       "  flex-direction: column;\n",
       "}\n",
       ".tuneStatus td {\n",
       "  white-space: nowrap;\n",
       "}\n",
       ".tuneStatus .trialStatus {\n",
       "  display: flex;\n",
       "  flex-direction: column;\n",
       "}\n",
       ".tuneStatus h3 {\n",
       "  font-weight: bold;\n",
       "}\n",
       ".tuneStatus .hDivider {\n",
       "  border-bottom-width: var(--jp-border-width);\n",
       "  border-bottom-color: var(--jp-border-color0);\n",
       "  border-bottom-style: solid;\n",
       "}\n",
       ".tuneStatus .vDivider {\n",
       "  border-left-width: var(--jp-border-width);\n",
       "  border-left-color: var(--jp-border-color0);\n",
       "  border-left-style: solid;\n",
       "  margin: 0.5em 1em 0.5em 1em;\n",
       "}\n",
       "</style>\n"
      ],
      "text/plain": [
       "<IPython.core.display.HTML object>"
      ]
     },
     "metadata": {},
     "output_type": "display_data"
    },
    {
     "name": "stderr",
     "output_type": "stream",
     "text": [
      "2025-01-29 01:35:37,584\tINFO tune.py:1009 -- Wrote the latest version of all result files and experiment state to '/home/ssafarveisi/ray_results/mlflow' in 0.0067s.\n",
      "2025-01-29 01:35:37,593\tINFO tune.py:1041 -- Total run time: 27.79 seconds (27.72 seconds for the tuning loop).\n"
     ]
    }
   ],
   "source": [
    "results = tune_with_setup()"
   ]
  },
  {
   "cell_type": "code",
   "execution_count": 7,
   "metadata": {},
   "outputs": [],
   "source": [
    "best_result = results.get_best_result(metric=\"accuracy\", mode=\"max\")"
   ]
  },
  {
   "cell_type": "code",
   "execution_count": 8,
   "metadata": {},
   "outputs": [
    {
     "data": {
      "text/plain": [
       "{'objective': 'binary:logistic',\n",
       " 'eval_metric': ['logloss', 'error'],\n",
       " 'max_depth': 4,\n",
       " 'min_child_weight': 1,\n",
       " 'subsample': 0.8107097678436095,\n",
       " 'eta': 0.06433975027506766}"
      ]
     },
     "execution_count": 8,
     "metadata": {},
     "output_type": "execute_result"
    }
   ],
   "source": [
    "best_result.config"
   ]
  },
  {
   "cell_type": "code",
   "execution_count": 9,
   "metadata": {},
   "outputs": [
    {
     "data": {
      "text/html": [
       "<div>\n",
       "<style scoped>\n",
       "    .dataframe tbody tr th:only-of-type {\n",
       "        vertical-align: middle;\n",
       "    }\n",
       "\n",
       "    .dataframe tbody tr th {\n",
       "        vertical-align: top;\n",
       "    }\n",
       "\n",
       "    .dataframe thead th {\n",
       "        text-align: right;\n",
       "    }\n",
       "</style>\n",
       "<table border=\"1\" class=\"dataframe\">\n",
       "  <thead>\n",
       "    <tr style=\"text-align: right;\">\n",
       "      <th></th>\n",
       "      <th>accuracy</th>\n",
       "      <th>recall</th>\n",
       "      <th>timestamp</th>\n",
       "      <th>checkpoint_dir_name</th>\n",
       "      <th>done</th>\n",
       "      <th>training_iteration</th>\n",
       "      <th>trial_id</th>\n",
       "      <th>date</th>\n",
       "      <th>time_this_iter_s</th>\n",
       "      <th>time_total_s</th>\n",
       "      <th>...</th>\n",
       "      <th>hostname</th>\n",
       "      <th>node_ip</th>\n",
       "      <th>time_since_restore</th>\n",
       "      <th>iterations_since_restore</th>\n",
       "      <th>config/objective</th>\n",
       "      <th>config/eval_metric</th>\n",
       "      <th>config/max_depth</th>\n",
       "      <th>config/min_child_weight</th>\n",
       "      <th>config/subsample</th>\n",
       "      <th>config/eta</th>\n",
       "    </tr>\n",
       "  </thead>\n",
       "  <tbody>\n",
       "    <tr>\n",
       "      <th>0</th>\n",
       "      <td>0.991228</td>\n",
       "      <td>1.0</td>\n",
       "      <td>1738110917</td>\n",
       "      <td>None</td>\n",
       "      <td>False</td>\n",
       "      <td>1</td>\n",
       "      <td>e519d_00005</td>\n",
       "      <td>2025-01-29_01-35-17</td>\n",
       "      <td>0.996416</td>\n",
       "      <td>0.996416</td>\n",
       "      <td>...</td>\n",
       "      <td>LXKA-J9SYDX3</td>\n",
       "      <td>192.168.0.58</td>\n",
       "      <td>0.996416</td>\n",
       "      <td>1</td>\n",
       "      <td>binary:logistic</td>\n",
       "      <td>[logloss, error]</td>\n",
       "      <td>4</td>\n",
       "      <td>1</td>\n",
       "      <td>0.81071</td>\n",
       "      <td>0.06434</td>\n",
       "    </tr>\n",
       "  </tbody>\n",
       "</table>\n",
       "<p>1 rows × 21 columns</p>\n",
       "</div>"
      ],
      "text/plain": [
       "   accuracy  recall   timestamp checkpoint_dir_name   done  \\\n",
       "0  0.991228     1.0  1738110917                None  False   \n",
       "\n",
       "   training_iteration     trial_id                 date  time_this_iter_s  \\\n",
       "0                   1  e519d_00005  2025-01-29_01-35-17          0.996416   \n",
       "\n",
       "   time_total_s  ...      hostname       node_ip time_since_restore  \\\n",
       "0      0.996416  ...  LXKA-J9SYDX3  192.168.0.58           0.996416   \n",
       "\n",
       "   iterations_since_restore  config/objective config/eval_metric  \\\n",
       "0                         1   binary:logistic   [logloss, error]   \n",
       "\n",
       "  config/max_depth  config/min_child_weight  config/subsample  config/eta  \n",
       "0                4                        1           0.81071     0.06434  \n",
       "\n",
       "[1 rows x 21 columns]"
      ]
     },
     "execution_count": 9,
     "metadata": {},
     "output_type": "execute_result"
    }
   ],
   "source": [
    "best_result.metrics_dataframe"
   ]
  },
  {
   "cell_type": "code",
   "execution_count": 10,
   "metadata": {},
   "outputs": [],
   "source": [
    "from mlflow.entities import ViewType\n",
    "\n",
    "experiment_id = mlflow.get_experiment_by_name(name=EXP_NAME).experiment_id\n",
    "runs = mlflow.search_runs(\n",
    "    experiment_ids=[experiment_id], run_view_type=ViewType.ACTIVE_ONLY\n",
    ")"
   ]
  },
  {
   "cell_type": "code",
   "execution_count": 11,
   "metadata": {},
   "outputs": [],
   "source": [
    "best_run = runs.loc[runs[\"metrics.accuracy\"].idxmax()]\n",
    "best_run_id = best_run.run_id\n",
    "best_run_accuracy = best_run[\"metrics.accuracy\"]\n",
    "model_uri = f\"runs:/{best_run_id}/xgb_models\""
   ]
  },
  {
   "cell_type": "code",
   "execution_count": 12,
   "metadata": {},
   "outputs": [
    {
     "name": "stderr",
     "output_type": "stream",
     "text": [
      "Successfully registered model 'xgb-breast-cancer-classifer'.\n",
      "2025/01/29 01:35:51 INFO mlflow.store.model_registry.abstract_store: Waiting up to 300 seconds for model version to finish creation. Model name: xgb-breast-cancer-classifer, version 1\n"
     ]
    },
    {
     "name": "stdout",
     "output_type": "stream",
     "text": [
      "Model accuracy met the required minimum accuracy 🔥\n"
     ]
    },
    {
     "name": "stderr",
     "output_type": "stream",
     "text": [
      "Created version '1' of model 'xgb-breast-cancer-classifer'.\n"
     ]
    }
   ],
   "source": [
    "if best_run_accuracy >= MINIMUM_REQUIRED_ACCURACY:\n",
    "    print(emoji.emojize(\"Model accuracy met the required minimum accuracy :fire:\"))\n",
    "    result = mlflow.register_model(model_uri, MODEL_NAME)\n",
    "else:\n",
    "    print(\n",
    "        emoji.emojize(\n",
    "            \"Best run did not meet the required minimum accuracy :sad_but_relieved_face:\"\n",
    "        )\n",
    "    )"
   ]
  },
  {
   "cell_type": "code",
   "execution_count": 13,
   "metadata": {},
   "outputs": [],
   "source": [
    "client.set_registered_model_alias(MODEL_NAME, ALIAS, result.version)"
   ]
  },
  {
   "cell_type": "code",
   "execution_count": 14,
   "metadata": {},
   "outputs": [],
   "source": [
    "champion_version = mlflow.pyfunc.load_model(f\"models:/{MODEL_NAME}@{ALIAS}\")"
   ]
  },
  {
   "cell_type": "code",
   "execution_count": 15,
   "metadata": {},
   "outputs": [
    {
     "data": {
      "text/plain": [
       "array([1, 1, 0, 1, 0, 0, 1, 1, 0, 1, 1, 1, 0, 0, 1, 1, 1, 0, 1, 0, 0, 1,\n",
       "       1, 1, 0, 0, 0, 0, 1, 1, 1, 1, 0, 1, 0, 1, 1, 1, 1, 1, 1, 0, 1, 1,\n",
       "       0, 1, 1, 0, 0, 0, 1, 1, 1, 1, 0, 0, 0, 1, 1, 0, 0, 1, 0, 0, 1, 1,\n",
       "       0, 0, 1, 1, 1, 0, 1, 1, 1, 1, 1, 1, 1, 1, 1, 1, 0, 1, 1, 0, 1, 1,\n",
       "       1, 1, 0, 0, 0, 1, 1, 1, 1, 1, 1, 1, 1, 0, 1, 0, 0, 1, 1, 1, 1, 1,\n",
       "       0, 1, 1, 1])"
      ]
     },
     "execution_count": 15,
     "metadata": {},
     "output_type": "execute_result"
    }
   ],
   "source": [
    "data, labels = sklearn.datasets.load_breast_cancer(return_X_y=True)\n",
    "_, test_x, _, test_y = train_test_split(data, labels, test_size=0.2)\n",
    "\n",
    "\n",
    "champion_version.predict(test_x)"
   ]
  },
  {
   "cell_type": "code",
   "execution_count": 16,
   "metadata": {},
   "outputs": [
    {
     "name": "stderr",
     "output_type": "stream",
     "text": [
      "2025/01/29 01:36:01 INFO mlflow.models.flavor_backend_registry: Selected backend for flavor 'python_function'\n",
      "2025/01/29 01:36:02 INFO mlflow.utils.virtualenv: Creating a new environment in /tmp/tmpvp2apo75/envs/virtualenv_envs/mlflow-96f1969b3ba316dbc956b1190898f30eb7ddec6d with python version 3.9.1 using uv\n",
      "Using CPython \u001b[36m3.9.1\u001b[39m\n",
      "Creating virtual environment at: \u001b[36m/tmp/tmpvp2apo75/envs/virtualenv_envs/mlflow-96f1969b3ba316dbc956b1190898f30eb7ddec6d\u001b[39m\n",
      "Activate with: \u001b[32msource /tmp/tmpvp2apo75/envs/virtualenv_envs/mlflow-96f1969b3ba316dbc956b1190898f30eb7ddec6d/bin/activate.fish\u001b[39m\n",
      "2025/01/29 01:36:02 INFO mlflow.utils.virtualenv: Installing dependencies\n",
      "\u001b[2mUsing Python 3.9.1 environment at: /tmp/tmpvp2apo75/envs/virtualenv_envs/mlflow-96f1969b3ba316dbc956b1190898f30eb7ddec6d\u001b[0m\n",
      "\u001b[2mResolved \u001b[1m3 packages\u001b[0m \u001b[2min 60ms\u001b[0m\u001b[0m\n",
      "\u001b[2mInstalled \u001b[1m3 packages\u001b[0m \u001b[2min 19ms\u001b[0m\u001b[0m\n",
      " \u001b[32m+\u001b[39m \u001b[1mpip\u001b[0m\u001b[2m==24.0\u001b[0m\n",
      " \u001b[32m+\u001b[39m \u001b[1msetuptools\u001b[0m\u001b[2m==69.5.1\u001b[0m\n",
      " \u001b[32m+\u001b[39m \u001b[1mwheel\u001b[0m\u001b[2m==0.45.1\u001b[0m\n",
      "\u001b[2mUsing Python 3.9.1 environment at: /tmp/tmpvp2apo75/envs/virtualenv_envs/mlflow-96f1969b3ba316dbc956b1190898f30eb7ddec6d\u001b[0m\n",
      "\u001b[2mResolved \u001b[1m71 packages\u001b[0m \u001b[2min 303ms\u001b[0m\u001b[0m\n",
      "\u001b[2mInstalled \u001b[1m70 packages\u001b[0m \u001b[2min 48ms\u001b[0m\u001b[0m\n",
      " \u001b[32m+\u001b[39m \u001b[1malembic\u001b[0m\u001b[2m==1.14.1\u001b[0m\n",
      " \u001b[32m+\u001b[39m \u001b[1mannotated-types\u001b[0m\u001b[2m==0.7.0\u001b[0m\n",
      " \u001b[32m+\u001b[39m \u001b[1mblinker\u001b[0m\u001b[2m==1.9.0\u001b[0m\n",
      " \u001b[32m+\u001b[39m \u001b[1mcachetools\u001b[0m\u001b[2m==5.5.1\u001b[0m\n",
      " \u001b[32m+\u001b[39m \u001b[1mcertifi\u001b[0m\u001b[2m==2024.12.14\u001b[0m\n",
      " \u001b[32m+\u001b[39m \u001b[1mcharset-normalizer\u001b[0m\u001b[2m==3.4.1\u001b[0m\n",
      " \u001b[32m+\u001b[39m \u001b[1mclick\u001b[0m\u001b[2m==8.1.8\u001b[0m\n",
      " \u001b[32m+\u001b[39m \u001b[1mcloudpickle\u001b[0m\u001b[2m==3.1.1\u001b[0m\n",
      " \u001b[32m+\u001b[39m \u001b[1mcontourpy\u001b[0m\u001b[2m==1.3.0\u001b[0m\n",
      " \u001b[32m+\u001b[39m \u001b[1mcycler\u001b[0m\u001b[2m==0.12.1\u001b[0m\n",
      " \u001b[32m+\u001b[39m \u001b[1mdatabricks-sdk\u001b[0m\u001b[2m==0.41.0\u001b[0m\n",
      " \u001b[32m+\u001b[39m \u001b[1mdeprecated\u001b[0m\u001b[2m==1.2.18\u001b[0m\n",
      " \u001b[32m+\u001b[39m \u001b[1mdocker\u001b[0m\u001b[2m==7.1.0\u001b[0m\n",
      " \u001b[32m+\u001b[39m \u001b[1mflask\u001b[0m\u001b[2m==3.1.0\u001b[0m\n",
      " \u001b[32m+\u001b[39m \u001b[1mfonttools\u001b[0m\u001b[2m==4.55.7\u001b[0m\n",
      " \u001b[32m+\u001b[39m \u001b[1mgitdb\u001b[0m\u001b[2m==4.0.12\u001b[0m\n",
      " \u001b[32m+\u001b[39m \u001b[1mgitpython\u001b[0m\u001b[2m==3.1.44\u001b[0m\n",
      " \u001b[32m+\u001b[39m \u001b[1mgoogle-auth\u001b[0m\u001b[2m==2.38.0\u001b[0m\n",
      " \u001b[32m+\u001b[39m \u001b[1mgraphene\u001b[0m\u001b[2m==3.4.3\u001b[0m\n",
      " \u001b[32m+\u001b[39m \u001b[1mgraphql-core\u001b[0m\u001b[2m==3.2.6\u001b[0m\n",
      " \u001b[32m+\u001b[39m \u001b[1mgraphql-relay\u001b[0m\u001b[2m==3.2.0\u001b[0m\n",
      " \u001b[32m+\u001b[39m \u001b[1mgreenlet\u001b[0m\u001b[2m==3.1.1\u001b[0m\n",
      " \u001b[32m+\u001b[39m \u001b[1mgunicorn\u001b[0m\u001b[2m==23.0.0\u001b[0m\n",
      " \u001b[32m+\u001b[39m \u001b[1midna\u001b[0m\u001b[2m==3.10\u001b[0m\n",
      " \u001b[32m+\u001b[39m \u001b[1mimportlib-metadata\u001b[0m\u001b[2m==8.6.1\u001b[0m\n",
      " \u001b[32m+\u001b[39m \u001b[1mimportlib-resources\u001b[0m\u001b[2m==6.5.2\u001b[0m\n",
      " \u001b[32m+\u001b[39m \u001b[1mitsdangerous\u001b[0m\u001b[2m==2.2.0\u001b[0m\n",
      " \u001b[32m+\u001b[39m \u001b[1mjinja2\u001b[0m\u001b[2m==3.1.5\u001b[0m\n",
      " \u001b[32m+\u001b[39m \u001b[1mjoblib\u001b[0m\u001b[2m==1.4.2\u001b[0m\n",
      " \u001b[32m+\u001b[39m \u001b[1mkiwisolver\u001b[0m\u001b[2m==1.4.7\u001b[0m\n",
      " \u001b[32m+\u001b[39m \u001b[1mmako\u001b[0m\u001b[2m==1.3.8\u001b[0m\n",
      " \u001b[32m+\u001b[39m \u001b[1mmarkdown\u001b[0m\u001b[2m==3.7\u001b[0m\n",
      " \u001b[32m+\u001b[39m \u001b[1mmarkupsafe\u001b[0m\u001b[2m==3.0.2\u001b[0m\n",
      " \u001b[32m+\u001b[39m \u001b[1mmatplotlib\u001b[0m\u001b[2m==3.9.4\u001b[0m\n",
      " \u001b[32m+\u001b[39m \u001b[1mmlflow\u001b[0m\u001b[2m==2.20.0\u001b[0m\n",
      " \u001b[32m+\u001b[39m \u001b[1mmlflow-skinny\u001b[0m\u001b[2m==2.20.0\u001b[0m\n",
      " \u001b[32m+\u001b[39m \u001b[1mnumpy\u001b[0m\u001b[2m==2.0.2\u001b[0m\n",
      " \u001b[32m+\u001b[39m \u001b[1mnvidia-nccl-cu12\u001b[0m\u001b[2m==2.25.1\u001b[0m\n",
      " \u001b[32m+\u001b[39m \u001b[1mopentelemetry-api\u001b[0m\u001b[2m==1.16.0\u001b[0m\n",
      " \u001b[32m+\u001b[39m \u001b[1mopentelemetry-sdk\u001b[0m\u001b[2m==1.16.0\u001b[0m\n",
      " \u001b[32m+\u001b[39m \u001b[1mopentelemetry-semantic-conventions\u001b[0m\u001b[2m==0.37b0\u001b[0m\n",
      " \u001b[32m+\u001b[39m \u001b[1mpackaging\u001b[0m\u001b[2m==24.2\u001b[0m\n",
      " \u001b[32m+\u001b[39m \u001b[1mpandas\u001b[0m\u001b[2m==2.2.3\u001b[0m\n",
      " \u001b[32m+\u001b[39m \u001b[1mpillow\u001b[0m\u001b[2m==11.1.0\u001b[0m\n",
      " \u001b[32m+\u001b[39m \u001b[1mprotobuf\u001b[0m\u001b[2m==5.29.3\u001b[0m\n",
      " \u001b[32m+\u001b[39m \u001b[1mpyarrow\u001b[0m\u001b[2m==18.1.0\u001b[0m\n",
      " \u001b[32m+\u001b[39m \u001b[1mpyasn1\u001b[0m\u001b[2m==0.6.1\u001b[0m\n",
      " \u001b[32m+\u001b[39m \u001b[1mpyasn1-modules\u001b[0m\u001b[2m==0.4.1\u001b[0m\n",
      " \u001b[32m+\u001b[39m \u001b[1mpydantic\u001b[0m\u001b[2m==2.10.6\u001b[0m\n",
      " \u001b[32m+\u001b[39m \u001b[1mpydantic-core\u001b[0m\u001b[2m==2.27.2\u001b[0m\n",
      " \u001b[32m+\u001b[39m \u001b[1mpyparsing\u001b[0m\u001b[2m==3.2.1\u001b[0m\n",
      " \u001b[32m+\u001b[39m \u001b[1mpython-dateutil\u001b[0m\u001b[2m==2.9.0.post0\u001b[0m\n",
      " \u001b[32m+\u001b[39m \u001b[1mpytz\u001b[0m\u001b[2m==2024.2\u001b[0m\n",
      " \u001b[32m+\u001b[39m \u001b[1mpyyaml\u001b[0m\u001b[2m==6.0.2\u001b[0m\n",
      " \u001b[32m+\u001b[39m \u001b[1mrequests\u001b[0m\u001b[2m==2.32.3\u001b[0m\n",
      " \u001b[32m+\u001b[39m \u001b[1mrsa\u001b[0m\u001b[2m==4.9\u001b[0m\n",
      " \u001b[32m+\u001b[39m \u001b[1mscikit-learn\u001b[0m\u001b[2m==1.5.2\u001b[0m\n",
      " \u001b[32m+\u001b[39m \u001b[1mscipy\u001b[0m\u001b[2m==1.13.1\u001b[0m\n",
      " \u001b[32m+\u001b[39m \u001b[1msix\u001b[0m\u001b[2m==1.17.0\u001b[0m\n",
      " \u001b[32m+\u001b[39m \u001b[1msmmap\u001b[0m\u001b[2m==5.0.2\u001b[0m\n",
      " \u001b[32m+\u001b[39m \u001b[1msqlalchemy\u001b[0m\u001b[2m==2.0.37\u001b[0m\n",
      " \u001b[32m+\u001b[39m \u001b[1msqlparse\u001b[0m\u001b[2m==0.5.3\u001b[0m\n",
      " \u001b[32m+\u001b[39m \u001b[1mthreadpoolctl\u001b[0m\u001b[2m==3.5.0\u001b[0m\n",
      " \u001b[32m+\u001b[39m \u001b[1mtyping-extensions\u001b[0m\u001b[2m==4.12.2\u001b[0m\n",
      " \u001b[32m+\u001b[39m \u001b[1mtzdata\u001b[0m\u001b[2m==2025.1\u001b[0m\n",
      " \u001b[32m+\u001b[39m \u001b[1murllib3\u001b[0m\u001b[2m==2.3.0\u001b[0m\n",
      " \u001b[32m+\u001b[39m \u001b[1mwerkzeug\u001b[0m\u001b[2m==3.1.3\u001b[0m\n",
      " \u001b[32m+\u001b[39m \u001b[1mwrapt\u001b[0m\u001b[2m==1.17.2\u001b[0m\n",
      " \u001b[32m+\u001b[39m \u001b[1mxgboost\u001b[0m\u001b[2m==2.1.3\u001b[0m\n",
      " \u001b[32m+\u001b[39m \u001b[1mzipp\u001b[0m\u001b[2m==3.21.0\u001b[0m\n",
      "2025/01/29 01:36:02 INFO mlflow.utils.environment: === Running command '['bash', '-c', 'source /tmp/tmpvp2apo75/envs/virtualenv_envs/mlflow-96f1969b3ba316dbc956b1190898f30eb7ddec6d/bin/activate && python -c \"\"']'\n",
      "2025/01/29 01:36:02 INFO mlflow.utils.environment: === Running command '['bash', '-c', 'source /tmp/tmpvp2apo75/envs/virtualenv_envs/mlflow-96f1969b3ba316dbc956b1190898f30eb7ddec6d/bin/activate && python /home/ssafarveisi/Desktop/Projects/K8sApp/.venv/lib/python3.9/site-packages/mlflow/pyfunc/_mlflow_pyfunc_backend_predict.py --model-uri file:///tmp/tmp4c0sct9a/xgb_models --content-type json --input-path /tmp/tmpnirkd_dj/input.json']'\n"
     ]
    },
    {
     "name": "stdout",
     "output_type": "stream",
     "text": [
      "{\"predictions\": [1, 1, 0, 1, 0, 0, 1, 1, 0, 1, 1, 1, 0, 0, 1, 1, 1, 0, 1, 0, 0, 1, 1, 1, 0, 0, 0, 0, 1, 1, 1, 1, 0, 1, 0, 1, 1, 1, 1, 1, 1, 0, 1, 1, 0, 1, 1, 0, 0, 0, 1, 1, 1, 1, 0, 0, 0, 1, 1, 0, 0, 1, 0, 0, 1, 1, 0, 0, 1, 1, 1, 0, 1, 1, 1, 1, 1, 1, 1, 1, 1, 1, 0, 1, 1, 0, 1, 1, 1, 1, 0, 0, 0, 1, 1, 1, 1, 1, 1, 1, 1, 0, 1, 0, 0, 1, 1, 1, 1, 1, 0, 1, 1, 1]}"
     ]
    }
   ],
   "source": [
    "# Validate the model before deployment\n",
    "mlflow.models.predict(\n",
    "    model_uri=model_uri,\n",
    "    input_data=test_x,\n",
    "    env_manager=\"uv\",\n",
    "    install_mlflow=False,\n",
    ")"
   ]
  }
 ],
 "metadata": {
  "kernelspec": {
   "display_name": ".venv",
   "language": "python",
   "name": "python3"
  },
  "language_info": {
   "codemirror_mode": {
    "name": "ipython",
    "version": 3
   },
   "file_extension": ".py",
   "mimetype": "text/x-python",
   "name": "python",
   "nbconvert_exporter": "python",
   "pygments_lexer": "ipython3",
   "version": "3.9.1"
  }
 },
 "nbformat": 4,
 "nbformat_minor": 2
}
