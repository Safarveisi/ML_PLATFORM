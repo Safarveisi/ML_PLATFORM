{
 "cells": [
  {
   "cell_type": "code",
   "execution_count": 1,
   "metadata": {},
   "outputs": [],
   "source": [
    "import os\n",
    "import yaml\n",
    "\n",
    "import emoji\n",
    "import tempfile\n",
    "\n",
    "import mlflow\n",
    "from mlflow import MlflowClient\n",
    "from mlflow.entities import ViewType\n",
    "from mlflow.models import infer_signature\n",
    "from mlflow.artifacts import download_artifacts\n",
    "\n",
    "import sklearn.datasets\n",
    "from sklearn.metrics import accuracy_score, recall_score\n",
    "from sklearn.model_selection import train_test_split\n",
    "\n",
    "import xgboost as xgb\n",
    "\n",
    "import ray\n",
    "from ray import train, tune\n",
    "from ray.air.integrations.mlflow import setup_mlflow"
   ]
  },
  {
   "cell_type": "code",
   "execution_count": 2,
   "metadata": {},
   "outputs": [],
   "source": [
    "TRACKING_URI = \"http://0.0.0.0:5000\"\n",
    "EXP_NAME = \"ml_platform\"\n",
    "MODEL_NAME = \"iris-classifer\"\n",
    "ALIAS = \"champion\"\n",
    "MINIMUM_REQUIRED_ACCURACY = 0.95"
   ]
  },
  {
   "cell_type": "code",
   "execution_count": 3,
   "metadata": {},
   "outputs": [
    {
     "name": "stderr",
     "output_type": "stream",
     "text": [
      "2025/01/31 00:06:52 INFO mlflow.tracking.fluent: Experiment with name 'ml_platform' does not exist. Creating a new experiment.\n"
     ]
    }
   ],
   "source": [
    "mlflow.set_tracking_uri(TRACKING_URI)\n",
    "mlflow.set_experiment(experiment_name=EXP_NAME)\n",
    "\n",
    "client = MlflowClient()"
   ]
  },
  {
   "cell_type": "code",
   "execution_count": null,
   "metadata": {},
   "outputs": [],
   "source": [
    "ray.init(num_cpus=6)"
   ]
  },
  {
   "cell_type": "code",
   "execution_count": 6,
   "metadata": {},
   "outputs": [],
   "source": [
    "conda_env = {\n",
    "    \"name\": \"mlflow-env\",\n",
    "    \"channels\": [\"conda-forge\"],\n",
    "    \"dependencies\": [\n",
    "        \"python=3.9.1\",\n",
    "        \"pip<=24.0\",\n",
    "        {\"pip\": [\"xgboost==2.1.3\", \"scikit-learn==1.5.2\"]},\n",
    "    ],\n",
    "}\n",
    "\n",
    "\n",
    "def train_function_mlflow(config: dict) -> None:\n",
    "    setup_mlflow(\n",
    "        config,\n",
    "        experiment_name=EXP_NAME,\n",
    "        tracking_uri=TRACKING_URI,\n",
    "    )\n",
    "\n",
    "    # Load dataset\n",
    "    iris = sklearn.datasets.load_iris(as_frame=True)\n",
    "    train_x, test_x, train_y, test_y = train_test_split(\n",
    "        iris.data, iris.target, test_size=0.2\n",
    "    )\n",
    "\n",
    "    # Pass the trial's config (hyperparameters for the xgb classifier)\n",
    "    model = xgb.XGBClassifier(**config)\n",
    "    model.fit(train_x, train_y)\n",
    "\n",
    "    predictions = model.predict(test_x)\n",
    "    # Measure accuracy and recall for this trial\n",
    "    accuracy = accuracy_score(test_y, predictions)\n",
    "    recall = recall_score(test_y, predictions, average=\"micro\")\n",
    "\n",
    "    signature = infer_signature(train_x, model.predict(train_x))\n",
    "\n",
    "    # Log the metrics as well as artifacts for this trial\n",
    "    mlflow.log_metrics({\"recall\": recall, \"accuracy\": accuracy})\n",
    "    mlflow.xgboost.log_model(\n",
    "        model,\n",
    "        \"iris_xgb\",\n",
    "        conda_env=conda_env,\n",
    "        signature=signature,\n",
    "        model_format=\"json\",\n",
    "    )\n",
    "    # Get the best result later based on the following metrics\n",
    "    train.report({\"accuracy\": accuracy, \"recall\": recall})\n",
    "\n",
    "\n",
    "def tune_with_setup() -> tune.ResultGrid:\n",
    "    # Each trial uses 2 cpus. Therfore, we have at most 3 trials running concurrently\n",
    "    trainable_with_resources = tune.with_resources(train_function_mlflow, {\"cpu\": 2})\n",
    "    tuner = tune.Tuner(\n",
    "        trainable_with_resources,\n",
    "        tune_config=tune.TuneConfig(\n",
    "            num_samples=20,\n",
    "        ),\n",
    "        run_config=train.RunConfig(\n",
    "            name=\"mlflow\",\n",
    "        ),\n",
    "        param_space={\n",
    "            \"objective\": \"multi:softmax\",\n",
    "            \"eval_metric\": [\"logloss\", \"error\"],\n",
    "            \"max_depth\": tune.randint(1, 9),\n",
    "            \"min_child_weight\": tune.choice([1, 2, 3]),\n",
    "            \"subsample\": tune.uniform(0.5, 1.0),\n",
    "            \"eta\": tune.loguniform(1e-4, 1e-1),\n",
    "        },\n",
    "    )\n",
    "\n",
    "    results = tuner.fit()\n",
    "    return results"
   ]
  },
  {
   "cell_type": "code",
   "execution_count": 7,
   "metadata": {},
   "outputs": [
    {
     "data": {
      "text/html": [
       "<div class=\"tuneStatus\">\n",
       "  <div style=\"display: flex;flex-direction: row\">\n",
       "    <div style=\"display: flex;flex-direction: column;\">\n",
       "      <h3>Tune Status</h3>\n",
       "      <table>\n",
       "<tbody>\n",
       "<tr><td>Current time:</td><td>2025-01-31 00:07:43</td></tr>\n",
       "<tr><td>Running for: </td><td>00:00:33.12        </td></tr>\n",
       "<tr><td>Memory:      </td><td>10.0/62.5 GiB      </td></tr>\n",
       "</tbody>\n",
       "</table>\n",
       "    </div>\n",
       "    <div class=\"vDivider\"></div>\n",
       "    <div class=\"systemInfo\">\n",
       "      <h3>System Info</h3>\n",
       "      Using FIFO scheduling algorithm.<br>Logical resource usage: 2.0/6 CPUs, 0/0 GPUs\n",
       "    </div>\n",
       "    \n",
       "  </div>\n",
       "  <div class=\"hDivider\"></div>\n",
       "  <div class=\"trialStatus\">\n",
       "    <h3>Trial Status</h3>\n",
       "    <table>\n",
       "<thead>\n",
       "<tr><th>Trial name                       </th><th>status    </th><th>loc                 </th><th style=\"text-align: right;\">        eta</th><th style=\"text-align: right;\">  max_depth</th><th style=\"text-align: right;\">  min_child_weight</th><th style=\"text-align: right;\">  subsample</th><th style=\"text-align: right;\">  iter</th><th style=\"text-align: right;\">  total time (s)</th><th style=\"text-align: right;\">  accuracy</th><th style=\"text-align: right;\">  recall</th></tr>\n",
       "</thead>\n",
       "<tbody>\n",
       "<tr><td>train_function_mlflow_ef30c_00000</td><td>TERMINATED</td><td>192.168.0.38:1324893</td><td style=\"text-align: right;\">0.0525817  </td><td style=\"text-align: right;\">          6</td><td style=\"text-align: right;\">                 1</td><td style=\"text-align: right;\">   0.692685</td><td style=\"text-align: right;\">     1</td><td style=\"text-align: right;\">         1.59573</td><td style=\"text-align: right;\">  0.866667</td><td style=\"text-align: right;\">0.866667</td></tr>\n",
       "<tr><td>train_function_mlflow_ef30c_00001</td><td>TERMINATED</td><td>192.168.0.38:1324891</td><td style=\"text-align: right;\">0.000325841</td><td style=\"text-align: right;\">          4</td><td style=\"text-align: right;\">                 3</td><td style=\"text-align: right;\">   0.924252</td><td style=\"text-align: right;\">     1</td><td style=\"text-align: right;\">         1.56864</td><td style=\"text-align: right;\">  0.9     </td><td style=\"text-align: right;\">0.9     </td></tr>\n",
       "<tr><td>train_function_mlflow_ef30c_00002</td><td>TERMINATED</td><td>192.168.0.38:1324892</td><td style=\"text-align: right;\">0.00112543 </td><td style=\"text-align: right;\">          3</td><td style=\"text-align: right;\">                 3</td><td style=\"text-align: right;\">   0.915171</td><td style=\"text-align: right;\">     1</td><td style=\"text-align: right;\">         1.63149</td><td style=\"text-align: right;\">  0.966667</td><td style=\"text-align: right;\">0.966667</td></tr>\n",
       "<tr><td>train_function_mlflow_ef30c_00003</td><td>TERMINATED</td><td>192.168.0.38:1325334</td><td style=\"text-align: right;\">0.0877102  </td><td style=\"text-align: right;\">          4</td><td style=\"text-align: right;\">                 2</td><td style=\"text-align: right;\">   0.988244</td><td style=\"text-align: right;\">     1</td><td style=\"text-align: right;\">         2.26393</td><td style=\"text-align: right;\">  0.9     </td><td style=\"text-align: right;\">0.9     </td></tr>\n",
       "<tr><td>train_function_mlflow_ef30c_00004</td><td>TERMINATED</td><td>192.168.0.38:1325335</td><td style=\"text-align: right;\">0.0228883  </td><td style=\"text-align: right;\">          7</td><td style=\"text-align: right;\">                 1</td><td style=\"text-align: right;\">   0.924898</td><td style=\"text-align: right;\">     1</td><td style=\"text-align: right;\">         2.23254</td><td style=\"text-align: right;\">  0.933333</td><td style=\"text-align: right;\">0.933333</td></tr>\n",
       "<tr><td>train_function_mlflow_ef30c_00005</td><td>TERMINATED</td><td>192.168.0.38:1325342</td><td style=\"text-align: right;\">0.0050706  </td><td style=\"text-align: right;\">          6</td><td style=\"text-align: right;\">                 3</td><td style=\"text-align: right;\">   0.942398</td><td style=\"text-align: right;\">     1</td><td style=\"text-align: right;\">         2.79626</td><td style=\"text-align: right;\">  0.9     </td><td style=\"text-align: right;\">0.9     </td></tr>\n",
       "<tr><td>train_function_mlflow_ef30c_00006</td><td>TERMINATED</td><td>192.168.0.38:1325712</td><td style=\"text-align: right;\">0.0904068  </td><td style=\"text-align: right;\">          6</td><td style=\"text-align: right;\">                 1</td><td style=\"text-align: right;\">   0.648268</td><td style=\"text-align: right;\">     1</td><td style=\"text-align: right;\">         3.44265</td><td style=\"text-align: right;\">  0.966667</td><td style=\"text-align: right;\">0.966667</td></tr>\n",
       "<tr><td>train_function_mlflow_ef30c_00007</td><td>TERMINATED</td><td>192.168.0.38:1325713</td><td style=\"text-align: right;\">0.0584087  </td><td style=\"text-align: right;\">          4</td><td style=\"text-align: right;\">                 2</td><td style=\"text-align: right;\">   0.698348</td><td style=\"text-align: right;\">     1</td><td style=\"text-align: right;\">         3.47976</td><td style=\"text-align: right;\">  1       </td><td style=\"text-align: right;\">1       </td></tr>\n",
       "<tr><td>train_function_mlflow_ef30c_00008</td><td>TERMINATED</td><td>192.168.0.38:1325743</td><td style=\"text-align: right;\">0.000547302</td><td style=\"text-align: right;\">          6</td><td style=\"text-align: right;\">                 2</td><td style=\"text-align: right;\">   0.567053</td><td style=\"text-align: right;\">     1</td><td style=\"text-align: right;\">         1.9792 </td><td style=\"text-align: right;\">  1       </td><td style=\"text-align: right;\">1       </td></tr>\n",
       "<tr><td>train_function_mlflow_ef30c_00009</td><td>TERMINATED</td><td>192.168.0.38:1326042</td><td style=\"text-align: right;\">0.00228894 </td><td style=\"text-align: right;\">          4</td><td style=\"text-align: right;\">                 1</td><td style=\"text-align: right;\">   0.689806</td><td style=\"text-align: right;\">     1</td><td style=\"text-align: right;\">         3.11315</td><td style=\"text-align: right;\">  1       </td><td style=\"text-align: right;\">1       </td></tr>\n",
       "<tr><td>train_function_mlflow_ef30c_00010</td><td>TERMINATED</td><td>192.168.0.38:1326100</td><td style=\"text-align: right;\">0.0172883  </td><td style=\"text-align: right;\">          6</td><td style=\"text-align: right;\">                 1</td><td style=\"text-align: right;\">   0.801753</td><td style=\"text-align: right;\">     1</td><td style=\"text-align: right;\">         2.12853</td><td style=\"text-align: right;\">  0.933333</td><td style=\"text-align: right;\">0.933333</td></tr>\n",
       "<tr><td>train_function_mlflow_ef30c_00011</td><td>TERMINATED</td><td>192.168.0.38:1326101</td><td style=\"text-align: right;\">0.00343784 </td><td style=\"text-align: right;\">          2</td><td style=\"text-align: right;\">                 3</td><td style=\"text-align: right;\">   0.855914</td><td style=\"text-align: right;\">     1</td><td style=\"text-align: right;\">         2.06177</td><td style=\"text-align: right;\">  0.966667</td><td style=\"text-align: right;\">0.966667</td></tr>\n",
       "<tr><td>train_function_mlflow_ef30c_00012</td><td>TERMINATED</td><td>192.168.0.38:1326491</td><td style=\"text-align: right;\">0.00130787 </td><td style=\"text-align: right;\">          2</td><td style=\"text-align: right;\">                 2</td><td style=\"text-align: right;\">   0.936272</td><td style=\"text-align: right;\">     1</td><td style=\"text-align: right;\">         1.98702</td><td style=\"text-align: right;\">  0.933333</td><td style=\"text-align: right;\">0.933333</td></tr>\n",
       "<tr><td>train_function_mlflow_ef30c_00013</td><td>TERMINATED</td><td>192.168.0.38:1326503</td><td style=\"text-align: right;\">0.0572558  </td><td style=\"text-align: right;\">          1</td><td style=\"text-align: right;\">                 3</td><td style=\"text-align: right;\">   0.754308</td><td style=\"text-align: right;\">     1</td><td style=\"text-align: right;\">         1.51304</td><td style=\"text-align: right;\">  0.966667</td><td style=\"text-align: right;\">0.966667</td></tr>\n",
       "<tr><td>train_function_mlflow_ef30c_00014</td><td>TERMINATED</td><td>192.168.0.38:1326502</td><td style=\"text-align: right;\">0.00799875 </td><td style=\"text-align: right;\">          2</td><td style=\"text-align: right;\">                 1</td><td style=\"text-align: right;\">   0.807654</td><td style=\"text-align: right;\">     1</td><td style=\"text-align: right;\">         2.14394</td><td style=\"text-align: right;\">  0.9     </td><td style=\"text-align: right;\">0.9     </td></tr>\n",
       "<tr><td>train_function_mlflow_ef30c_00015</td><td>TERMINATED</td><td>192.168.0.38:1326794</td><td style=\"text-align: right;\">0.0103463  </td><td style=\"text-align: right;\">          6</td><td style=\"text-align: right;\">                 3</td><td style=\"text-align: right;\">   0.819264</td><td style=\"text-align: right;\">     1</td><td style=\"text-align: right;\">         1.99743</td><td style=\"text-align: right;\">  0.866667</td><td style=\"text-align: right;\">0.866667</td></tr>\n",
       "<tr><td>train_function_mlflow_ef30c_00016</td><td>TERMINATED</td><td>192.168.0.38:1326852</td><td style=\"text-align: right;\">0.00415093 </td><td style=\"text-align: right;\">          6</td><td style=\"text-align: right;\">                 2</td><td style=\"text-align: right;\">   0.942478</td><td style=\"text-align: right;\">     1</td><td style=\"text-align: right;\">         2.12222</td><td style=\"text-align: right;\">  0.9     </td><td style=\"text-align: right;\">0.9     </td></tr>\n",
       "<tr><td>train_function_mlflow_ef30c_00017</td><td>TERMINATED</td><td>192.168.0.38:1326851</td><td style=\"text-align: right;\">0.0492581  </td><td style=\"text-align: right;\">          4</td><td style=\"text-align: right;\">                 2</td><td style=\"text-align: right;\">   0.646797</td><td style=\"text-align: right;\">     1</td><td style=\"text-align: right;\">         1.13438</td><td style=\"text-align: right;\">  0.9     </td><td style=\"text-align: right;\">0.9     </td></tr>\n",
       "<tr><td>train_function_mlflow_ef30c_00018</td><td>TERMINATED</td><td>192.168.0.38:1327200</td><td style=\"text-align: right;\">0.00855067 </td><td style=\"text-align: right;\">          6</td><td style=\"text-align: right;\">                 1</td><td style=\"text-align: right;\">   0.650482</td><td style=\"text-align: right;\">     1</td><td style=\"text-align: right;\">         2.08544</td><td style=\"text-align: right;\">  0.933333</td><td style=\"text-align: right;\">0.933333</td></tr>\n",
       "<tr><td>train_function_mlflow_ef30c_00019</td><td>TERMINATED</td><td>192.168.0.38:1327199</td><td style=\"text-align: right;\">0.000297174</td><td style=\"text-align: right;\">          6</td><td style=\"text-align: right;\">                 3</td><td style=\"text-align: right;\">   0.971766</td><td style=\"text-align: right;\">     1</td><td style=\"text-align: right;\">         1.07968</td><td style=\"text-align: right;\">  0.966667</td><td style=\"text-align: right;\">0.966667</td></tr>\n",
       "</tbody>\n",
       "</table>\n",
       "  </div>\n",
       "</div>\n",
       "<style>\n",
       ".tuneStatus {\n",
       "  color: var(--jp-ui-font-color1);\n",
       "}\n",
       ".tuneStatus .systemInfo {\n",
       "  display: flex;\n",
       "  flex-direction: column;\n",
       "}\n",
       ".tuneStatus td {\n",
       "  white-space: nowrap;\n",
       "}\n",
       ".tuneStatus .trialStatus {\n",
       "  display: flex;\n",
       "  flex-direction: column;\n",
       "}\n",
       ".tuneStatus h3 {\n",
       "  font-weight: bold;\n",
       "}\n",
       ".tuneStatus .hDivider {\n",
       "  border-bottom-width: var(--jp-border-width);\n",
       "  border-bottom-color: var(--jp-border-color0);\n",
       "  border-bottom-style: solid;\n",
       "}\n",
       ".tuneStatus .vDivider {\n",
       "  border-left-width: var(--jp-border-width);\n",
       "  border-left-color: var(--jp-border-color0);\n",
       "  border-left-style: solid;\n",
       "  margin: 0.5em 1em 0.5em 1em;\n",
       "}\n",
       "</style>\n"
      ],
      "text/plain": [
       "<IPython.core.display.HTML object>"
      ]
     },
     "metadata": {},
     "output_type": "display_data"
    },
    {
     "name": "stderr",
     "output_type": "stream",
     "text": [
      "2025-01-31 00:07:43,630\tINFO tune.py:1009 -- Wrote the latest version of all result files and experiment state to '/home/ssafarveisi/ray_results/mlflow' in 0.0038s.\n",
      "2025-01-31 00:07:43,635\tINFO tune.py:1041 -- Total run time: 33.18 seconds (33.12 seconds for the tuning loop).\n"
     ]
    }
   ],
   "source": [
    "results = tune_with_setup()"
   ]
  },
  {
   "cell_type": "code",
   "execution_count": 13,
   "metadata": {},
   "outputs": [],
   "source": [
    "# Best run after tunning\n",
    "best_result = results.get_best_result(metric=\"accuracy\", mode=\"max\")"
   ]
  },
  {
   "cell_type": "code",
   "execution_count": 12,
   "metadata": {},
   "outputs": [
    {
     "data": {
      "text/plain": [
       "{'objective': 'multi:softmax',\n",
       " 'eval_metric': ['logloss', 'error'],\n",
       " 'max_depth': 4,\n",
       " 'min_child_weight': 2,\n",
       " 'subsample': 0.6983477902707006,\n",
       " 'eta': 0.05840872266708342}"
      ]
     },
     "execution_count": 12,
     "metadata": {},
     "output_type": "execute_result"
    }
   ],
   "source": [
    "# Hyperparameters for the best run\n",
    "best_result.config"
   ]
  },
  {
   "cell_type": "code",
   "execution_count": 14,
   "metadata": {},
   "outputs": [
    {
     "data": {
      "text/html": [
       "<div>\n",
       "<style scoped>\n",
       "    .dataframe tbody tr th:only-of-type {\n",
       "        vertical-align: middle;\n",
       "    }\n",
       "\n",
       "    .dataframe tbody tr th {\n",
       "        vertical-align: top;\n",
       "    }\n",
       "\n",
       "    .dataframe thead th {\n",
       "        text-align: right;\n",
       "    }\n",
       "</style>\n",
       "<table border=\"1\" class=\"dataframe\">\n",
       "  <thead>\n",
       "    <tr style=\"text-align: right;\">\n",
       "      <th></th>\n",
       "      <th>accuracy</th>\n",
       "      <th>recall</th>\n",
       "      <th>timestamp</th>\n",
       "      <th>checkpoint_dir_name</th>\n",
       "      <th>done</th>\n",
       "      <th>training_iteration</th>\n",
       "      <th>trial_id</th>\n",
       "      <th>date</th>\n",
       "      <th>time_this_iter_s</th>\n",
       "      <th>time_total_s</th>\n",
       "      <th>...</th>\n",
       "      <th>hostname</th>\n",
       "      <th>node_ip</th>\n",
       "      <th>time_since_restore</th>\n",
       "      <th>iterations_since_restore</th>\n",
       "      <th>config/objective</th>\n",
       "      <th>config/eval_metric</th>\n",
       "      <th>config/max_depth</th>\n",
       "      <th>config/min_child_weight</th>\n",
       "      <th>config/subsample</th>\n",
       "      <th>config/eta</th>\n",
       "    </tr>\n",
       "  </thead>\n",
       "  <tbody>\n",
       "    <tr>\n",
       "      <th>0</th>\n",
       "      <td>1.0</td>\n",
       "      <td>1.0</td>\n",
       "      <td>1738278445</td>\n",
       "      <td>None</td>\n",
       "      <td>False</td>\n",
       "      <td>1</td>\n",
       "      <td>ef30c_00007</td>\n",
       "      <td>2025-01-31_00-07-25</td>\n",
       "      <td>3.479762</td>\n",
       "      <td>3.479762</td>\n",
       "      <td>...</td>\n",
       "      <td>LXKA-J9SYDX3</td>\n",
       "      <td>192.168.0.38</td>\n",
       "      <td>3.479762</td>\n",
       "      <td>1</td>\n",
       "      <td>multi:softmax</td>\n",
       "      <td>[logloss, error]</td>\n",
       "      <td>4</td>\n",
       "      <td>2</td>\n",
       "      <td>0.698348</td>\n",
       "      <td>0.058409</td>\n",
       "    </tr>\n",
       "  </tbody>\n",
       "</table>\n",
       "<p>1 rows × 21 columns</p>\n",
       "</div>"
      ],
      "text/plain": [
       "   accuracy  recall   timestamp checkpoint_dir_name   done  \\\n",
       "0       1.0     1.0  1738278445                None  False   \n",
       "\n",
       "   training_iteration     trial_id                 date  time_this_iter_s  \\\n",
       "0                   1  ef30c_00007  2025-01-31_00-07-25          3.479762   \n",
       "\n",
       "   time_total_s  ...      hostname       node_ip time_since_restore  \\\n",
       "0      3.479762  ...  LXKA-J9SYDX3  192.168.0.38           3.479762   \n",
       "\n",
       "   iterations_since_restore  config/objective config/eval_metric  \\\n",
       "0                         1     multi:softmax   [logloss, error]   \n",
       "\n",
       "  config/max_depth  config/min_child_weight  config/subsample  config/eta  \n",
       "0                4                        2          0.698348    0.058409  \n",
       "\n",
       "[1 rows x 21 columns]"
      ]
     },
     "execution_count": 14,
     "metadata": {},
     "output_type": "execute_result"
    }
   ],
   "source": [
    "# Best run metrics (e.g., accuracy and recall)\n",
    "best_result.metrics_dataframe"
   ]
  },
  {
   "cell_type": "code",
   "execution_count": 15,
   "metadata": {},
   "outputs": [],
   "source": [
    "\n",
    "# Gather all runs in the experiment\n",
    "experiment_id = mlflow.get_experiment_by_name(name=EXP_NAME).experiment_id\n",
    "runs = mlflow.search_runs(\n",
    "    experiment_ids=[experiment_id], run_view_type=ViewType.ACTIVE_ONLY\n",
    ")"
   ]
  },
  {
   "cell_type": "code",
   "execution_count": 16,
   "metadata": {},
   "outputs": [],
   "source": [
    "# Find the run id that maximizes the accuracy\n",
    "best_run = runs.loc[runs[\"metrics.accuracy\"].idxmax()]\n",
    "best_run_id = best_run.run_id\n",
    "best_run_accuracy = best_run[\"metrics.accuracy\"]\n",
    "model_uri = f\"runs:/{best_run_id}/iris_xgb\""
   ]
  },
  {
   "cell_type": "code",
   "execution_count": 17,
   "metadata": {},
   "outputs": [
    {
     "name": "stderr",
     "output_type": "stream",
     "text": [
      "Successfully registered model 'iris-classifer'.\n",
      "2025/01/31 00:11:02 INFO mlflow.store.model_registry.abstract_store: Waiting up to 300 seconds for model version to finish creation. Model name: iris-classifer, version 1\n"
     ]
    },
    {
     "name": "stdout",
     "output_type": "stream",
     "text": [
      "Model accuracy met the required minimum accuracy 🔥\n"
     ]
    },
    {
     "name": "stderr",
     "output_type": "stream",
     "text": [
      "Created version '1' of model 'iris-classifer'.\n"
     ]
    }
   ],
   "source": [
    "# Register the run id model if it meets the minimum required accuracy\n",
    "if best_run_accuracy >= MINIMUM_REQUIRED_ACCURACY:\n",
    "    print(emoji.emojize(\"Model accuracy met the required minimum accuracy :fire:\"))\n",
    "    result = mlflow.register_model(model_uri, MODEL_NAME)\n",
    "else:\n",
    "    print(\n",
    "        emoji.emojize(\n",
    "            \"Best run did not meet the required minimum accuracy :sad_but_relieved_face:\"\n",
    "        )\n",
    "    )"
   ]
  },
  {
   "cell_type": "code",
   "execution_count": 18,
   "metadata": {},
   "outputs": [],
   "source": [
    "# Select an alias for the latest model's version (optional)\n",
    "client.set_registered_model_alias(MODEL_NAME, ALIAS, result.version)"
   ]
  },
  {
   "cell_type": "code",
   "execution_count": 19,
   "metadata": {},
   "outputs": [],
   "source": [
    "# Load the model and do some predictions\n",
    "champion_version = mlflow.pyfunc.load_model(f\"models:/{MODEL_NAME}@{ALIAS}\")"
   ]
  },
  {
   "cell_type": "code",
   "execution_count": 20,
   "metadata": {},
   "outputs": [
    {
     "data": {
      "text/plain": [
       "array([0, 2, 2, 0, 0, 1, 1, 0, 1, 2, 2, 0, 0, 0, 1, 2, 2, 1, 2, 1, 2, 1,\n",
       "       2, 2, 1, 2, 2, 0, 0, 0], dtype=int32)"
      ]
     },
     "execution_count": 20,
     "metadata": {},
     "output_type": "execute_result"
    }
   ],
   "source": [
    "iris = sklearn.datasets.load_iris(as_frame=True)\n",
    "_, test_x, _, test_y = train_test_split(iris.data, iris.target, test_size=0.2)\n",
    "\n",
    "\n",
    "champion_version.predict(test_x)"
   ]
  },
  {
   "cell_type": "code",
   "execution_count": 21,
   "metadata": {},
   "outputs": [
    {
     "name": "stderr",
     "output_type": "stream",
     "text": [
      "2025/01/31 00:12:48 INFO mlflow.models.model: Retrieving model requirements files from mlflow-artifacts:/1/e950a645ccb140bfb1ebc01726c393d7/artifacts/iris_xgb...\n",
      "2025/01/31 00:12:49 INFO mlflow.models.model: Done updating requirements!\n",
      "\n",
      "Old requirements:\n",
      "['mlflow==2.20.0', 'xgboost==2.1.3', 'scikit-learn==1.5.2']\n",
      "\n",
      "Updated requirements:\n",
      "['mlflow==2.20.0',\n",
      " 'xgboost==2.1.3',\n",
      " 'scikit-learn==1.5.2',\n",
      " 'boto3==1.35.99',\n",
      " 'kserve[ray]']\n",
      "\n",
      "2025/01/31 00:12:49 INFO mlflow.models.model: Uploading updated requirements files to mlflow-artifacts:/1/e950a645ccb140bfb1ebc01726c393d7/artifacts/iris_xgb...\n"
     ]
    }
   ],
   "source": [
    "# Update best model's dependencies\n",
    "\n",
    "mlflow.models.update_model_requirements(\n",
    "    model_uri=model_uri,\n",
    "    operation=\"add\",\n",
    "    requirement_list=[\"boto3==1.35.99\", \"kserve[ray]\"],\n",
    ")"
   ]
  },
  {
   "cell_type": "code",
   "execution_count": 22,
   "metadata": {},
   "outputs": [
    {
     "name": "stderr",
     "output_type": "stream",
     "text": [
      "2025/01/31 00:13:02 INFO mlflow.models.flavor_backend_registry: Selected backend for flavor 'python_function'\n",
      "2025/01/31 00:13:03 INFO mlflow.utils.virtualenv: Creating a new environment in /tmp/tmpr3wdtic7/envs/virtualenv_envs/mlflow-ab20aa967a187f9b9ec2be80aa3fdcbd7627537c with python version 3.9.1 using uv\n",
      "Using CPython \u001b[36m3.9.1\u001b[39m\n",
      "Creating virtual environment at: \u001b[36m/tmp/tmpr3wdtic7/envs/virtualenv_envs/mlflow-ab20aa967a187f9b9ec2be80aa3fdcbd7627537c\u001b[39m\n",
      "Activate with: \u001b[32msource /tmp/tmpr3wdtic7/envs/virtualenv_envs/mlflow-ab20aa967a187f9b9ec2be80aa3fdcbd7627537c/bin/activate\u001b[39m\n",
      "2025/01/31 00:13:03 INFO mlflow.utils.virtualenv: Installing dependencies\n",
      "\u001b[2mUsing Python 3.9.1 environment at: /tmp/tmpr3wdtic7/envs/virtualenv_envs/mlflow-ab20aa967a187f9b9ec2be80aa3fdcbd7627537c\u001b[0m\n",
      "\u001b[2mResolved \u001b[1m3 packages\u001b[0m \u001b[2min 93ms\u001b[0m\u001b[0m\n",
      "\u001b[2mInstalled \u001b[1m3 packages\u001b[0m \u001b[2min 21ms\u001b[0m\u001b[0m\n",
      " \u001b[32m+\u001b[39m \u001b[1mpip\u001b[0m\u001b[2m==24.2\u001b[0m\n",
      " \u001b[32m+\u001b[39m \u001b[1msetuptools\u001b[0m\u001b[2m==74.1.2\u001b[0m\n",
      " \u001b[32m+\u001b[39m \u001b[1mwheel\u001b[0m\u001b[2m==0.45.1\u001b[0m\n",
      "\u001b[2mUsing Python 3.9.1 environment at: /tmp/tmpr3wdtic7/envs/virtualenv_envs/mlflow-ab20aa967a187f9b9ec2be80aa3fdcbd7627537c\u001b[0m\n",
      "\u001b[2mResolved \u001b[1m141 packages\u001b[0m \u001b[2min 2.50s\u001b[0m\u001b[0m\n",
      "\u001b[2mPrepared \u001b[1m2 packages\u001b[0m \u001b[2min 3.09s\u001b[0m\u001b[0m\n",
      "\u001b[2mInstalled \u001b[1m140 packages\u001b[0m \u001b[2min 100ms\u001b[0m\u001b[0m\n",
      " \u001b[32m+\u001b[39m \u001b[1maiohappyeyeballs\u001b[0m\u001b[2m==2.4.4\u001b[0m\n",
      " \u001b[32m+\u001b[39m \u001b[1maiohttp\u001b[0m\u001b[2m==3.11.11\u001b[0m\n",
      " \u001b[32m+\u001b[39m \u001b[1maiohttp-cors\u001b[0m\u001b[2m==0.7.0\u001b[0m\n",
      " \u001b[32m+\u001b[39m \u001b[1maiosignal\u001b[0m\u001b[2m==1.3.2\u001b[0m\n",
      " \u001b[32m+\u001b[39m \u001b[1malembic\u001b[0m\u001b[2m==1.14.1\u001b[0m\n",
      " \u001b[32m+\u001b[39m \u001b[1mannotated-types\u001b[0m\u001b[2m==0.7.0\u001b[0m\n",
      " \u001b[32m+\u001b[39m \u001b[1manyio\u001b[0m\u001b[2m==4.8.0\u001b[0m\n",
      " \u001b[32m+\u001b[39m \u001b[1masync-timeout\u001b[0m\u001b[2m==5.0.1\u001b[0m\n",
      " \u001b[32m+\u001b[39m \u001b[1mattrs\u001b[0m\u001b[2m==25.1.0\u001b[0m\n",
      " \u001b[32m+\u001b[39m \u001b[1mblinker\u001b[0m\u001b[2m==1.9.0\u001b[0m\n",
      " \u001b[32m+\u001b[39m \u001b[1mboto3\u001b[0m\u001b[2m==1.35.99\u001b[0m\n",
      " \u001b[32m+\u001b[39m \u001b[1mbotocore\u001b[0m\u001b[2m==1.35.99\u001b[0m\n",
      " \u001b[32m+\u001b[39m \u001b[1mcachetools\u001b[0m\u001b[2m==5.5.1\u001b[0m\n",
      " \u001b[32m+\u001b[39m \u001b[1mcertifi\u001b[0m\u001b[2m==2024.12.14\u001b[0m\n",
      " \u001b[32m+\u001b[39m \u001b[1mcharset-normalizer\u001b[0m\u001b[2m==3.4.1\u001b[0m\n",
      " \u001b[32m+\u001b[39m \u001b[1mclick\u001b[0m\u001b[2m==8.1.8\u001b[0m\n",
      " \u001b[32m+\u001b[39m \u001b[1mcloudevents\u001b[0m\u001b[2m==1.11.0\u001b[0m\n",
      " \u001b[32m+\u001b[39m \u001b[1mcloudpickle\u001b[0m\u001b[2m==3.1.1\u001b[0m\n",
      " \u001b[32m+\u001b[39m \u001b[1mcolorful\u001b[0m\u001b[2m==0.6.0a1\u001b[0m\n",
      " \u001b[32m+\u001b[39m \u001b[1mcontourpy\u001b[0m\u001b[2m==1.3.0\u001b[0m\n",
      " \u001b[32m+\u001b[39m \u001b[1mcycler\u001b[0m\u001b[2m==0.12.1\u001b[0m\n",
      " \u001b[32m+\u001b[39m \u001b[1mdatabricks-sdk\u001b[0m\u001b[2m==0.42.0\u001b[0m\n",
      " \u001b[32m+\u001b[39m \u001b[1mdeprecated\u001b[0m\u001b[2m==1.2.18\u001b[0m\n",
      " \u001b[32m+\u001b[39m \u001b[1mdeprecation\u001b[0m\u001b[2m==2.1.0\u001b[0m\n",
      " \u001b[32m+\u001b[39m \u001b[1mdistlib\u001b[0m\u001b[2m==0.3.9\u001b[0m\n",
      " \u001b[32m+\u001b[39m \u001b[1mdocker\u001b[0m\u001b[2m==7.1.0\u001b[0m\n",
      " \u001b[32m+\u001b[39m \u001b[1mdurationpy\u001b[0m\u001b[2m==0.9\u001b[0m\n",
      " \u001b[32m+\u001b[39m \u001b[1mexceptiongroup\u001b[0m\u001b[2m==1.2.2\u001b[0m\n",
      " \u001b[32m+\u001b[39m \u001b[1mfastapi\u001b[0m\u001b[2m==0.115.8\u001b[0m\n",
      " \u001b[32m+\u001b[39m \u001b[1mfilelock\u001b[0m\u001b[2m==3.17.0\u001b[0m\n",
      " \u001b[32m+\u001b[39m \u001b[1mflask\u001b[0m\u001b[2m==3.1.0\u001b[0m\n",
      " \u001b[32m+\u001b[39m \u001b[1mfonttools\u001b[0m\u001b[2m==4.55.8\u001b[0m\n",
      " \u001b[32m+\u001b[39m \u001b[1mfrozenlist\u001b[0m\u001b[2m==1.5.0\u001b[0m\n",
      " \u001b[32m+\u001b[39m \u001b[1mgitdb\u001b[0m\u001b[2m==4.0.12\u001b[0m\n",
      " \u001b[32m+\u001b[39m \u001b[1mgitpython\u001b[0m\u001b[2m==3.1.44\u001b[0m\n",
      " \u001b[32m+\u001b[39m \u001b[1mgoogle-api-core\u001b[0m\u001b[2m==2.24.1\u001b[0m\n",
      " \u001b[32m+\u001b[39m \u001b[1mgoogle-auth\u001b[0m\u001b[2m==2.38.0\u001b[0m\n",
      " \u001b[32m+\u001b[39m \u001b[1mgoogleapis-common-protos\u001b[0m\u001b[2m==1.66.0\u001b[0m\n",
      " \u001b[32m+\u001b[39m \u001b[1mgraphene\u001b[0m\u001b[2m==3.4.3\u001b[0m\n",
      " \u001b[32m+\u001b[39m \u001b[1mgraphql-core\u001b[0m\u001b[2m==3.2.6\u001b[0m\n",
      " \u001b[32m+\u001b[39m \u001b[1mgraphql-relay\u001b[0m\u001b[2m==3.2.0\u001b[0m\n",
      " \u001b[32m+\u001b[39m \u001b[1mgreenlet\u001b[0m\u001b[2m==3.1.1\u001b[0m\n",
      " \u001b[32m+\u001b[39m \u001b[1mgrpc-interceptor\u001b[0m\u001b[2m==0.15.4\u001b[0m\n",
      " \u001b[32m+\u001b[39m \u001b[1mgrpcio\u001b[0m\u001b[2m==1.70.0\u001b[0m\n",
      " \u001b[32m+\u001b[39m \u001b[1mgunicorn\u001b[0m\u001b[2m==23.0.0\u001b[0m\n",
      " \u001b[32m+\u001b[39m \u001b[1mh11\u001b[0m\u001b[2m==0.14.0\u001b[0m\n",
      " \u001b[32m+\u001b[39m \u001b[1mhttpcore\u001b[0m\u001b[2m==1.0.7\u001b[0m\n",
      " \u001b[32m+\u001b[39m \u001b[1mhttptools\u001b[0m\u001b[2m==0.6.4\u001b[0m\n",
      " \u001b[32m+\u001b[39m \u001b[1mhttpx\u001b[0m\u001b[2m==0.27.2\u001b[0m\n",
      " \u001b[32m+\u001b[39m \u001b[1midna\u001b[0m\u001b[2m==3.10\u001b[0m\n",
      " \u001b[32m+\u001b[39m \u001b[1mimportlib-metadata\u001b[0m\u001b[2m==8.6.1\u001b[0m\n",
      " \u001b[32m+\u001b[39m \u001b[1mimportlib-resources\u001b[0m\u001b[2m==6.5.2\u001b[0m\n",
      " \u001b[32m+\u001b[39m \u001b[1mitsdangerous\u001b[0m\u001b[2m==2.2.0\u001b[0m\n",
      " \u001b[32m+\u001b[39m \u001b[1mjinja2\u001b[0m\u001b[2m==3.1.5\u001b[0m\n",
      " \u001b[32m+\u001b[39m \u001b[1mjmespath\u001b[0m\u001b[2m==1.0.1\u001b[0m\n",
      " \u001b[32m+\u001b[39m \u001b[1mjoblib\u001b[0m\u001b[2m==1.4.2\u001b[0m\n",
      " \u001b[32m+\u001b[39m \u001b[1mjsonschema\u001b[0m\u001b[2m==4.23.0\u001b[0m\n",
      " \u001b[32m+\u001b[39m \u001b[1mjsonschema-specifications\u001b[0m\u001b[2m==2024.10.1\u001b[0m\n",
      " \u001b[32m+\u001b[39m \u001b[1mkiwisolver\u001b[0m\u001b[2m==1.4.7\u001b[0m\n",
      " \u001b[32m+\u001b[39m \u001b[1mkserve\u001b[0m\u001b[2m==0.15.0rc0\u001b[0m\n",
      " \u001b[32m+\u001b[39m \u001b[1mkubernetes\u001b[0m\u001b[2m==32.0.0\u001b[0m\n",
      " \u001b[32m+\u001b[39m \u001b[1mlinkify-it-py\u001b[0m\u001b[2m==2.0.3\u001b[0m\n",
      " \u001b[32m+\u001b[39m \u001b[1mmako\u001b[0m\u001b[2m==1.3.8\u001b[0m\n",
      " \u001b[32m+\u001b[39m \u001b[1mmarkdown\u001b[0m\u001b[2m==3.7\u001b[0m\n",
      " \u001b[32m+\u001b[39m \u001b[1mmarkdown-it-py\u001b[0m\u001b[2m==3.0.0\u001b[0m\n",
      " \u001b[32m+\u001b[39m \u001b[1mmarkupsafe\u001b[0m\u001b[2m==3.0.2\u001b[0m\n",
      " \u001b[32m+\u001b[39m \u001b[1mmatplotlib\u001b[0m\u001b[2m==3.9.4\u001b[0m\n",
      " \u001b[32m+\u001b[39m \u001b[1mmdit-py-plugins\u001b[0m\u001b[2m==0.4.2\u001b[0m\n",
      " \u001b[32m+\u001b[39m \u001b[1mmdurl\u001b[0m\u001b[2m==0.1.2\u001b[0m\n",
      " \u001b[32m+\u001b[39m \u001b[1mmemray\u001b[0m\u001b[2m==1.15.0\u001b[0m\n",
      " \u001b[32m+\u001b[39m \u001b[1mmlflow\u001b[0m\u001b[2m==2.20.0\u001b[0m\n",
      " \u001b[32m+\u001b[39m \u001b[1mmlflow-skinny\u001b[0m\u001b[2m==2.20.0\u001b[0m\n",
      " \u001b[32m+\u001b[39m \u001b[1mmsgpack\u001b[0m\u001b[2m==1.1.0\u001b[0m\n",
      " \u001b[32m+\u001b[39m \u001b[1mmultidict\u001b[0m\u001b[2m==6.1.0\u001b[0m\n",
      " \u001b[32m+\u001b[39m \u001b[1mnumpy\u001b[0m\u001b[2m==1.26.4\u001b[0m\n",
      " \u001b[32m+\u001b[39m \u001b[1mnvidia-nccl-cu12\u001b[0m\u001b[2m==2.25.1\u001b[0m\n",
      " \u001b[32m+\u001b[39m \u001b[1moauthlib\u001b[0m\u001b[2m==3.2.2\u001b[0m\n",
      " \u001b[32m+\u001b[39m \u001b[1mopencensus\u001b[0m\u001b[2m==0.11.4\u001b[0m\n",
      " \u001b[32m+\u001b[39m \u001b[1mopencensus-context\u001b[0m\u001b[2m==0.2.dev0\u001b[0m\n",
      " \u001b[32m+\u001b[39m \u001b[1mopentelemetry-api\u001b[0m\u001b[2m==1.16.0\u001b[0m\n",
      " \u001b[32m+\u001b[39m \u001b[1mopentelemetry-sdk\u001b[0m\u001b[2m==1.16.0\u001b[0m\n",
      " \u001b[32m+\u001b[39m \u001b[1mopentelemetry-semantic-conventions\u001b[0m\u001b[2m==0.37b0\u001b[0m\n",
      " \u001b[32m+\u001b[39m \u001b[1morjson\u001b[0m\u001b[2m==3.10.15\u001b[0m\n",
      " \u001b[32m+\u001b[39m \u001b[1mpackaging\u001b[0m\u001b[2m==24.2\u001b[0m\n",
      " \u001b[32m+\u001b[39m \u001b[1mpandas\u001b[0m\u001b[2m==2.2.3\u001b[0m\n",
      " \u001b[32m+\u001b[39m \u001b[1mpillow\u001b[0m\u001b[2m==11.1.0\u001b[0m\n",
      " \u001b[32m+\u001b[39m \u001b[1mplatformdirs\u001b[0m\u001b[2m==4.3.6\u001b[0m\n",
      " \u001b[32m+\u001b[39m \u001b[1mprometheus-client\u001b[0m\u001b[2m==0.20.0\u001b[0m\n",
      " \u001b[32m+\u001b[39m \u001b[1mpropcache\u001b[0m\u001b[2m==0.2.1\u001b[0m\n",
      " \u001b[32m+\u001b[39m \u001b[1mproto-plus\u001b[0m\u001b[2m==1.26.0\u001b[0m\n",
      " \u001b[32m+\u001b[39m \u001b[1mprotobuf\u001b[0m\u001b[2m==4.25.6\u001b[0m\n",
      " \u001b[32m+\u001b[39m \u001b[1mpsutil\u001b[0m\u001b[2m==5.9.8\u001b[0m\n",
      " \u001b[32m+\u001b[39m \u001b[1mpy-spy\u001b[0m\u001b[2m==0.4.0\u001b[0m\n",
      " \u001b[32m+\u001b[39m \u001b[1mpyarrow\u001b[0m\u001b[2m==18.1.0\u001b[0m\n",
      " \u001b[32m+\u001b[39m \u001b[1mpyasn1\u001b[0m\u001b[2m==0.6.1\u001b[0m\n",
      " \u001b[32m+\u001b[39m \u001b[1mpyasn1-modules\u001b[0m\u001b[2m==0.4.1\u001b[0m\n",
      " \u001b[32m+\u001b[39m \u001b[1mpydantic\u001b[0m\u001b[2m==2.11.0a1\u001b[0m\n",
      " \u001b[32m+\u001b[39m \u001b[1mpydantic-core\u001b[0m\u001b[2m==2.28.0\u001b[0m\n",
      " \u001b[32m+\u001b[39m \u001b[1mpygments\u001b[0m\u001b[2m==2.19.1\u001b[0m\n",
      " \u001b[32m+\u001b[39m \u001b[1mpyparsing\u001b[0m\u001b[2m==3.2.1\u001b[0m\n",
      " \u001b[32m+\u001b[39m \u001b[1mpython-dateutil\u001b[0m\u001b[2m==2.9.0.post0\u001b[0m\n",
      " \u001b[32m+\u001b[39m \u001b[1mpython-dotenv\u001b[0m\u001b[2m==1.0.1\u001b[0m\n",
      " \u001b[32m+\u001b[39m \u001b[1mpytz\u001b[0m\u001b[2m==2024.2\u001b[0m\n",
      " \u001b[32m+\u001b[39m \u001b[1mpyyaml\u001b[0m\u001b[2m==6.0.2\u001b[0m\n",
      " \u001b[32m+\u001b[39m \u001b[1mray\u001b[0m\u001b[2m==2.35.0\u001b[0m\n",
      " \u001b[32m+\u001b[39m \u001b[1mreferencing\u001b[0m\u001b[2m==0.36.2\u001b[0m\n",
      " \u001b[32m+\u001b[39m \u001b[1mrequests\u001b[0m\u001b[2m==2.32.3\u001b[0m\n",
      " \u001b[32m+\u001b[39m \u001b[1mrequests-oauthlib\u001b[0m\u001b[2m==2.0.0\u001b[0m\n",
      " \u001b[32m+\u001b[39m \u001b[1mrich\u001b[0m\u001b[2m==13.9.4\u001b[0m\n",
      " \u001b[32m+\u001b[39m \u001b[1mrpds-py\u001b[0m\u001b[2m==0.22.3\u001b[0m\n",
      " \u001b[32m+\u001b[39m \u001b[1mrsa\u001b[0m\u001b[2m==4.9\u001b[0m\n",
      " \u001b[32m+\u001b[39m \u001b[1ms3transfer\u001b[0m\u001b[2m==0.10.4\u001b[0m\n",
      " \u001b[32m+\u001b[39m \u001b[1mscikit-learn\u001b[0m\u001b[2m==1.5.2\u001b[0m\n",
      " \u001b[32m+\u001b[39m \u001b[1mscipy\u001b[0m\u001b[2m==1.13.1\u001b[0m\n",
      " \u001b[32m+\u001b[39m \u001b[1msix\u001b[0m\u001b[2m==1.17.0\u001b[0m\n",
      " \u001b[32m+\u001b[39m \u001b[1msmart-open\u001b[0m\u001b[2m==7.1.0\u001b[0m\n",
      " \u001b[32m+\u001b[39m \u001b[1msmmap\u001b[0m\u001b[2m==5.0.2\u001b[0m\n",
      " \u001b[32m+\u001b[39m \u001b[1msniffio\u001b[0m\u001b[2m==1.3.1\u001b[0m\n",
      " \u001b[32m+\u001b[39m \u001b[1msqlalchemy\u001b[0m\u001b[2m==2.0.37\u001b[0m\n",
      " \u001b[32m+\u001b[39m \u001b[1msqlparse\u001b[0m\u001b[2m==0.5.3\u001b[0m\n",
      " \u001b[32m+\u001b[39m \u001b[1mstarlette\u001b[0m\u001b[2m==0.45.3\u001b[0m\n",
      " \u001b[32m+\u001b[39m \u001b[1mtabulate\u001b[0m\u001b[2m==0.9.0\u001b[0m\n",
      " \u001b[32m+\u001b[39m \u001b[1mtextual\u001b[0m\u001b[2m==1.0.0\u001b[0m\n",
      " \u001b[32m+\u001b[39m \u001b[1mthreadpoolctl\u001b[0m\u001b[2m==3.5.0\u001b[0m\n",
      " \u001b[32m+\u001b[39m \u001b[1mtiming-asgi\u001b[0m\u001b[2m==0.3.1\u001b[0m\n",
      " \u001b[32m+\u001b[39m \u001b[1mtyping-extensions\u001b[0m\u001b[2m==4.12.2\u001b[0m\n",
      " \u001b[32m+\u001b[39m \u001b[1mtzdata\u001b[0m\u001b[2m==2025.1\u001b[0m\n",
      " \u001b[32m+\u001b[39m \u001b[1muc-micro-py\u001b[0m\u001b[2m==1.0.3\u001b[0m\n",
      " \u001b[32m+\u001b[39m \u001b[1murllib3\u001b[0m\u001b[2m==1.26.20\u001b[0m\n",
      " \u001b[32m+\u001b[39m \u001b[1muvicorn\u001b[0m\u001b[2m==0.30.6\u001b[0m\n",
      " \u001b[32m+\u001b[39m \u001b[1muvloop\u001b[0m\u001b[2m==0.21.0\u001b[0m\n",
      " \u001b[32m+\u001b[39m \u001b[1mvirtualenv\u001b[0m\u001b[2m==20.29.1\u001b[0m\n",
      " \u001b[32m+\u001b[39m \u001b[1mwatchfiles\u001b[0m\u001b[2m==1.0.4\u001b[0m\n",
      " \u001b[32m+\u001b[39m \u001b[1mwebsocket-client\u001b[0m\u001b[2m==1.8.0\u001b[0m\n",
      " \u001b[32m+\u001b[39m \u001b[1mwebsockets\u001b[0m\u001b[2m==14.2\u001b[0m\n",
      " \u001b[32m+\u001b[39m \u001b[1mwerkzeug\u001b[0m\u001b[2m==3.1.3\u001b[0m\n",
      " \u001b[32m+\u001b[39m \u001b[1mwrapt\u001b[0m\u001b[2m==1.17.2\u001b[0m\n",
      " \u001b[32m+\u001b[39m \u001b[1mxgboost\u001b[0m\u001b[2m==2.1.3\u001b[0m\n",
      " \u001b[32m+\u001b[39m \u001b[1myarl\u001b[0m\u001b[2m==1.18.3\u001b[0m\n",
      " \u001b[32m+\u001b[39m \u001b[1mzipp\u001b[0m\u001b[2m==3.21.0\u001b[0m\n",
      "2025/01/31 00:13:09 INFO mlflow.utils.environment: === Running command '['bash', '-c', 'source /tmp/tmpr3wdtic7/envs/virtualenv_envs/mlflow-ab20aa967a187f9b9ec2be80aa3fdcbd7627537c/bin/activate && python -c \"\"']'\n",
      "2025/01/31 00:13:09 INFO mlflow.utils.environment: === Running command '['bash', '-c', 'source /tmp/tmpr3wdtic7/envs/virtualenv_envs/mlflow-ab20aa967a187f9b9ec2be80aa3fdcbd7627537c/bin/activate && python /home/ssafarveisi/Desktop/Projects/K8sApp/.venv/lib/python3.9/site-packages/mlflow/pyfunc/_mlflow_pyfunc_backend_predict.py --model-uri file:///tmp/tmp9ztq7qcm/iris_xgb --content-type json --input-path /tmp/tmp594nbzv0/input.json']'\n"
     ]
    },
    {
     "name": "stdout",
     "output_type": "stream",
     "text": [
      "{\"predictions\": [0, 2, 2, 0, 0, 1, 1, 0, 1, 2, 2, 0, 0, 0, 1, 2, 2, 1, 2, 1, 2, 1, 2, 2, 1, 2, 2, 0, 0, 0]}"
     ]
    }
   ],
   "source": [
    "# Validate the model before deployment\n",
    "mlflow.models.predict(\n",
    "    model_uri=model_uri,\n",
    "    input_data=test_x,\n",
    "    env_manager=\"uv\",\n",
    "    install_mlflow=False,\n",
    ")"
   ]
  },
  {
   "cell_type": "markdown",
   "metadata": {},
   "source": [
    "Download the best model's artifacts (e.g., `requirements.txt` and `.python-version`). This is necessary to create the Kserve inference service later. The artifacts will be saved in a specific directory (`best_model_artifacts`) of the git repository."
   ]
  },
  {
   "cell_type": "code",
   "execution_count": 26,
   "metadata": {},
   "outputs": [],
   "source": [
    "def get_best_model_artifacts(s3_path: str) -> None:\n",
    "    \"\"\"Saves requirements.txt and .python-version in /best_model_artifacts\"\"\"\n",
    "\n",
    "    download_artifacts(\n",
    "        artifact_uri=s3_path + \"requirements.txt\", dst_path=\"./best_model_artifacts\"\n",
    "    )\n",
    "    print(\"Saved requirements.txt in /best_model_artifacts\")\n",
    "\n",
    "    with tempfile.TemporaryDirectory() as td:\n",
    "        download_artifacts(artifact_uri=s3_path + \"python_env.yaml\", dst_path=td)\n",
    "        python_env_file_path = os.path.join(td, \"python_env.yaml\")\n",
    "        with open(python_env_file_path, \"r\") as f:\n",
    "            data = yaml.safe_load(f)\n",
    "            python_version = data.get(\"python\")\n",
    "            if not python_version:\n",
    "                print(\"Error: No 'python' key found in the YAML file.\")\n",
    "            else:\n",
    "                python_version_file_path = os.path.join(\n",
    "                    \"./best_model_artifacts\", \".python-version\"\n",
    "                )\n",
    "                with open(python_version_file_path, \"w\") as f:\n",
    "                    f.write(str(python_version) + \"\\n\")\n",
    "    print(\"Saved .python-version in /best_model_artifacts\")"
   ]
  },
  {
   "cell_type": "code",
   "execution_count": 27,
   "metadata": {},
   "outputs": [
    {
     "name": "stdout",
     "output_type": "stream",
     "text": [
      "Saved requirements.txt in /best_model_artifacts\n",
      "Saved .python-version in /best_model_artifacts\n"
     ]
    }
   ],
   "source": [
    "s3_path = f\"s3://customerintelligence/ml_platform/mlartifacts/{experiment_id}/{best_run_id}/artifacts/iris_xgb/\"\n",
    "get_best_model_artifacts(s3_path=s3_path)"
   ]
  },
  {
   "cell_type": "code",
   "execution_count": 25,
   "metadata": {},
   "outputs": [],
   "source": [
    "ray.shutdown()"
   ]
  }
 ],
 "metadata": {
  "kernelspec": {
   "display_name": ".venv",
   "language": "python",
   "name": "python3"
  },
  "language_info": {
   "codemirror_mode": {
    "name": "ipython",
    "version": 3
   },
   "file_extension": ".py",
   "mimetype": "text/x-python",
   "name": "python",
   "nbconvert_exporter": "python",
   "pygments_lexer": "ipython3",
   "version": "3.9.1"
  }
 },
 "nbformat": 4,
 "nbformat_minor": 2
}
