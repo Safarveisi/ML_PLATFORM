{
 "cells": [
  {
   "cell_type": "code",
   "execution_count": 1,
   "metadata": {},
   "outputs": [],
   "source": [
    "import os\n",
    "import yaml\n",
    "\n",
    "import emoji\n",
    "import tempfile\n",
    "\n",
    "import mlflow\n",
    "from mlflow import MlflowClient\n",
    "from mlflow.entities import ViewType\n",
    "from mlflow.models import infer_signature\n",
    "from mlflow.artifacts import download_artifacts\n",
    "\n",
    "import sklearn.datasets\n",
    "from sklearn.metrics import accuracy_score, recall_score\n",
    "from sklearn.model_selection import train_test_split\n",
    "\n",
    "import xgboost as xgb\n",
    "\n",
    "import ray\n",
    "from ray import train, tune\n",
    "from ray.air.integrations.mlflow import setup_mlflow"
   ]
  },
  {
   "cell_type": "markdown",
   "metadata": {},
   "source": [
    "## Glossary\n",
    "\n",
    "* Ds: Data Scientist"
   ]
  },
  {
   "cell_type": "code",
   "execution_count": 3,
   "metadata": {},
   "outputs": [],
   "source": [
    "def write_best_run_spec(\n",
    "    experiment_id: str, run_id: str, mode: str = \"best_run\"\n",
    ") -> None:\n",
    "    \"\"\"\n",
    "    Creates (or overwrites) a file named '.env.{mode}' with the specified content.\n",
    "    This is necessary for CI/CD.\n",
    "\n",
    "    Parameters\n",
    "    ==========\n",
    "    experiment_id: str\n",
    "      Mlflow experiment id to which Ray tune trials have been logged.\n",
    "    run_id: str\n",
    "        A run id in the 'experiment_id'.\n",
    "    mode: str\n",
    "        mode for the .env file to be created or overwritten (e.g., .env.mode).\n",
    "    \"\"\"\n",
    "\n",
    "    with open(f\"best_model_artifacts/.env.{mode}\", \"w\") as f:\n",
    "        f.write(f\"EXPERIMENT_ID={experiment_id}\\n\")\n",
    "        f.write(f\"RUN_ID={run_id}\\n\")\n",
    "\n",
    "\n",
    "def get_best_model_artifacts(s3_path: str) -> None:\n",
    "    \"\"\"\n",
    "    Saves the best mlflow model's requirements.txt (optional), conda.yaml (required), and\n",
    "    .python-version (optional) in the best_model_artifacts directory. This will be\n",
    "    versioned via git and triggers the CI/CD.\n",
    "\n",
    "\n",
    "    Parameters\n",
    "    ==========\n",
    "    s3_path: str\n",
    "        S3 path where the best mlflow model's artifactories are located.\n",
    "    \"\"\"\n",
    "\n",
    "    download_artifacts(\n",
    "        artifact_uri=s3_path + \"requirements.txt\", dst_path=\"./best_model_artifacts\"\n",
    "    )\n",
    "    print(\"Saved requirements.txt in /best_model_artifacts\")\n",
    "\n",
    "    download_artifacts(\n",
    "        artifact_uri=s3_path + \"conda.yaml\", dst_path=\"./best_model_artifacts\"\n",
    "    )\n",
    "    print(\"Saved conda.yaml in /best_model_artifacts\")\n",
    "\n",
    "    with tempfile.TemporaryDirectory() as td:\n",
    "        download_artifacts(artifact_uri=s3_path + \"python_env.yaml\", dst_path=td)\n",
    "        python_env_file_path = os.path.join(td, \"python_env.yaml\")\n",
    "        with open(python_env_file_path, \"r\") as f:\n",
    "            data = yaml.safe_load(f)\n",
    "            python_version = data.get(\"python\")\n",
    "            if not python_version:\n",
    "                print(\"Error: No 'python' key found in the YAML file.\")\n",
    "            else:\n",
    "                python_version_file_path = os.path.join(\n",
    "                    \"./best_model_artifacts\", \".python-version\"\n",
    "                )\n",
    "                with open(python_version_file_path, \"w\") as f:\n",
    "                    f.write(str(python_version) + \"\\n\")\n",
    "    print(\"Saved .python-version in /best_model_artifacts\")"
   ]
  },
  {
   "cell_type": "code",
   "execution_count": 18,
   "metadata": {},
   "outputs": [],
   "source": [
    "# URI for the mlflow tracking server\n",
    "TRACKING_URI = \"http://0.0.0.0:5000\"\n",
    "EXP_NAME = \"ml_platform\"\n",
    "# Name for the mlflow registered model\n",
    "MODEL_NAME = \"iris-classifer\"\n",
    "# Alias for the mlflow registered model\n",
    "ALIAS = \"champion\"\n",
    "# Minimum accuracy before registering a new version of a model\n",
    "MINIMUM_REQUIRED_ACCURACY = 0.95"
   ]
  },
  {
   "cell_type": "code",
   "execution_count": 19,
   "metadata": {},
   "outputs": [],
   "source": [
    "mlflow.set_tracking_uri(TRACKING_URI)\n",
    "# Ds sets the experiment to which the mlflow runs' metrics and artifacts should be logged\n",
    "mlflow.set_experiment(experiment_name=EXP_NAME)\n",
    "\n",
    "client = MlflowClient()"
   ]
  },
  {
   "cell_type": "code",
   "execution_count": null,
   "metadata": {},
   "outputs": [],
   "source": [
    "# Start a local ray cluster\n",
    "ray.init(num_cpus=6)"
   ]
  },
  {
   "cell_type": "code",
   "execution_count": 56,
   "metadata": {},
   "outputs": [],
   "source": [
    "# Ds sets the dependencies for the logged artifacts\n",
    "conda_env = {\n",
    "    \"name\": \"mlflow-env\",\n",
    "    \"channels\": [\"conda-forge\"],\n",
    "    \"dependencies\": [\n",
    "        \"python=3.9.1\",\n",
    "        \"pip<=24.0\",\n",
    "        {\n",
    "            \"pip\": [\"xgboost==2.1.3\", \"scikit-learn==1.5.2\"]\n",
    "        },  # Minimum dependencies for xgboost model\n",
    "    ],\n",
    "}\n",
    "\n",
    "\n",
    "# Training for the selected hyperparameters happens here\n",
    "def train_function_mlflow(config: dict) -> None:\n",
    "    setup_mlflow(\n",
    "        config,\n",
    "        experiment_name=EXP_NAME,\n",
    "        tracking_uri=TRACKING_URI,\n",
    "    )\n",
    "\n",
    "    # Load sampple dataset\n",
    "    iris = sklearn.datasets.load_iris(as_frame=True)\n",
    "    train_x, test_x, train_y, test_y = train_test_split(\n",
    "        iris.data, iris.target, test_size=0.2\n",
    "    )\n",
    "\n",
    "    # Pass the trial's config (hyperparameters for the xgb classifier)\n",
    "    model = xgb.XGBClassifier(**config)\n",
    "    model.fit(train_x, train_y)\n",
    "    predictions = model.predict(test_x)\n",
    "\n",
    "    # Measure accuracy and recall for this trial\n",
    "    accuracy = accuracy_score(test_y, predictions)\n",
    "    recall = recall_score(test_y, predictions, average=\"micro\")\n",
    "\n",
    "    signature = infer_signature(train_x, model.predict(train_x))\n",
    "\n",
    "    # Log the metrics as well as artifacts for this trial\n",
    "    mlflow.log_metrics({\"recall\": recall, \"accuracy\": accuracy})\n",
    "    mlflow.xgboost.log_model(\n",
    "        model,\n",
    "        \"iris_xgb\",\n",
    "        conda_env=conda_env,\n",
    "        signature=signature,\n",
    "        model_format=\"json\",\n",
    "    )\n",
    "\n",
    "    # Get the best result later based on the following metrics\n",
    "    train.report({\"accuracy\": accuracy, \"recall\": recall})\n",
    "\n",
    "\n",
    "def tune_with_setup() -> tune.ResultGrid:\n",
    "    \"\"\"Concurrent hyperparameter tunning starts here\"\"\"\n",
    "    # Each trial uses 2 cpus. Therfore, we have at most 3 trials running concurrently (there are 6 cpus available in the local cluster)\n",
    "    trainable_with_resources = tune.with_resources(train_function_mlflow, {\"cpu\": 2})\n",
    "    tuner = tune.Tuner(\n",
    "        trainable_with_resources,\n",
    "        tune_config=tune.TuneConfig(\n",
    "            num_samples=20,  # Total number of trials\n",
    "        ),\n",
    "        run_config=train.RunConfig(\n",
    "            name=\"mlflow\",\n",
    "        ),\n",
    "        param_space={\n",
    "            \"objective\": \"multi:softmax\",  # Multi-class classification\n",
    "            \"eval_metric\": [\"logloss\", \"error\"],\n",
    "            \"max_depth\": tune.randint(1, 9),\n",
    "            \"min_child_weight\": tune.choice([1, 2, 3]),\n",
    "            \"subsample\": tune.uniform(0.5, 1.0),\n",
    "            \"eta\": tune.loguniform(1e-4, 1e-1),\n",
    "        },\n",
    "    )\n",
    "\n",
    "    # Start concurrent hyperparameter tunning\n",
    "    results = tuner.fit()\n",
    "    # Return the ray train results for later inspection\n",
    "    return results"
   ]
  },
  {
   "cell_type": "code",
   "execution_count": 6,
   "metadata": {},
   "outputs": [
    {
     "data": {
      "text/html": [
       "<div class=\"tuneStatus\">\n",
       "  <div style=\"display: flex;flex-direction: row\">\n",
       "    <div style=\"display: flex;flex-direction: column;\">\n",
       "      <h3>Tune Status</h3>\n",
       "      <table>\n",
       "<tbody>\n",
       "<tr><td>Current time:</td><td>2025-01-31 19:13:19</td></tr>\n",
       "<tr><td>Running for: </td><td>00:00:27.78        </td></tr>\n",
       "<tr><td>Memory:      </td><td>11.2/62.5 GiB      </td></tr>\n",
       "</tbody>\n",
       "</table>\n",
       "    </div>\n",
       "    <div class=\"vDivider\"></div>\n",
       "    <div class=\"systemInfo\">\n",
       "      <h3>System Info</h3>\n",
       "      Using FIFO scheduling algorithm.<br>Logical resource usage: 2.0/6 CPUs, 0/0 GPUs\n",
       "    </div>\n",
       "    \n",
       "  </div>\n",
       "  <div class=\"hDivider\"></div>\n",
       "  <div class=\"trialStatus\">\n",
       "    <h3>Trial Status</h3>\n",
       "    <table>\n",
       "<thead>\n",
       "<tr><th>Trial name                       </th><th>status    </th><th>loc                 </th><th style=\"text-align: right;\">        eta</th><th style=\"text-align: right;\">  max_depth</th><th style=\"text-align: right;\">  min_child_weight</th><th style=\"text-align: right;\">  subsample</th><th style=\"text-align: right;\">  iter</th><th style=\"text-align: right;\">  total time (s)</th><th style=\"text-align: right;\">  accuracy</th><th style=\"text-align: right;\">  recall</th></tr>\n",
       "</thead>\n",
       "<tbody>\n",
       "<tr><td>train_function_mlflow_fc00c_00000</td><td>TERMINATED</td><td>192.168.0.40:1474766</td><td style=\"text-align: right;\">0.000533959</td><td style=\"text-align: right;\">          2</td><td style=\"text-align: right;\">                 2</td><td style=\"text-align: right;\">   0.678547</td><td style=\"text-align: right;\">     1</td><td style=\"text-align: right;\">        2.43252 </td><td style=\"text-align: right;\">  0.966667</td><td style=\"text-align: right;\">0.966667</td></tr>\n",
       "<tr><td>train_function_mlflow_fc00c_00001</td><td>TERMINATED</td><td>192.168.0.40:1474767</td><td style=\"text-align: right;\">0.00049573 </td><td style=\"text-align: right;\">          2</td><td style=\"text-align: right;\">                 1</td><td style=\"text-align: right;\">   0.642216</td><td style=\"text-align: right;\">     1</td><td style=\"text-align: right;\">        1.5755  </td><td style=\"text-align: right;\">  0.966667</td><td style=\"text-align: right;\">0.966667</td></tr>\n",
       "<tr><td>train_function_mlflow_fc00c_00002</td><td>TERMINATED</td><td>192.168.0.40:1474768</td><td style=\"text-align: right;\">0.0282576  </td><td style=\"text-align: right;\">          7</td><td style=\"text-align: right;\">                 1</td><td style=\"text-align: right;\">   0.603154</td><td style=\"text-align: right;\">     1</td><td style=\"text-align: right;\">        1.56627 </td><td style=\"text-align: right;\">  1       </td><td style=\"text-align: right;\">1       </td></tr>\n",
       "<tr><td>train_function_mlflow_fc00c_00003</td><td>TERMINATED</td><td>192.168.0.40:1475145</td><td style=\"text-align: right;\">0.0158271  </td><td style=\"text-align: right;\">          6</td><td style=\"text-align: right;\">                 2</td><td style=\"text-align: right;\">   0.861275</td><td style=\"text-align: right;\">     1</td><td style=\"text-align: right;\">        1.53177 </td><td style=\"text-align: right;\">  0.966667</td><td style=\"text-align: right;\">0.966667</td></tr>\n",
       "<tr><td>train_function_mlflow_fc00c_00004</td><td>TERMINATED</td><td>192.168.0.40:1475144</td><td style=\"text-align: right;\">0.000364151</td><td style=\"text-align: right;\">          1</td><td style=\"text-align: right;\">                 1</td><td style=\"text-align: right;\">   0.984392</td><td style=\"text-align: right;\">     1</td><td style=\"text-align: right;\">        0.915632</td><td style=\"text-align: right;\">  0.9     </td><td style=\"text-align: right;\">0.9     </td></tr>\n",
       "<tr><td>train_function_mlflow_fc00c_00005</td><td>TERMINATED</td><td>192.168.0.40:1475253</td><td style=\"text-align: right;\">0.0996692  </td><td style=\"text-align: right;\">          8</td><td style=\"text-align: right;\">                 2</td><td style=\"text-align: right;\">   0.686948</td><td style=\"text-align: right;\">     1</td><td style=\"text-align: right;\">        1.34163 </td><td style=\"text-align: right;\">  1       </td><td style=\"text-align: right;\">1       </td></tr>\n",
       "<tr><td>train_function_mlflow_fc00c_00006</td><td>TERMINATED</td><td>192.168.0.40:1475429</td><td style=\"text-align: right;\">0.0916705  </td><td style=\"text-align: right;\">          8</td><td style=\"text-align: right;\">                 2</td><td style=\"text-align: right;\">   0.778498</td><td style=\"text-align: right;\">     1</td><td style=\"text-align: right;\">        1.44207 </td><td style=\"text-align: right;\">  0.866667</td><td style=\"text-align: right;\">0.866667</td></tr>\n",
       "<tr><td>train_function_mlflow_fc00c_00007</td><td>TERMINATED</td><td>192.168.0.40:1475507</td><td style=\"text-align: right;\">0.000394149</td><td style=\"text-align: right;\">          2</td><td style=\"text-align: right;\">                 1</td><td style=\"text-align: right;\">   0.948909</td><td style=\"text-align: right;\">     1</td><td style=\"text-align: right;\">        0.868601</td><td style=\"text-align: right;\">  0.966667</td><td style=\"text-align: right;\">0.966667</td></tr>\n",
       "<tr><td>train_function_mlflow_fc00c_00008</td><td>TERMINATED</td><td>192.168.0.40:1475508</td><td style=\"text-align: right;\">0.000826573</td><td style=\"text-align: right;\">          7</td><td style=\"text-align: right;\">                 1</td><td style=\"text-align: right;\">   0.912702</td><td style=\"text-align: right;\">     1</td><td style=\"text-align: right;\">        0.960833</td><td style=\"text-align: right;\">  1       </td><td style=\"text-align: right;\">1       </td></tr>\n",
       "<tr><td>train_function_mlflow_fc00c_00009</td><td>TERMINATED</td><td>192.168.0.40:1475787</td><td style=\"text-align: right;\">0.000119442</td><td style=\"text-align: right;\">          6</td><td style=\"text-align: right;\">                 3</td><td style=\"text-align: right;\">   0.510851</td><td style=\"text-align: right;\">     1</td><td style=\"text-align: right;\">        0.815149</td><td style=\"text-align: right;\">  0.933333</td><td style=\"text-align: right;\">0.933333</td></tr>\n",
       "<tr><td>train_function_mlflow_fc00c_00010</td><td>TERMINATED</td><td>192.168.0.40:1475861</td><td style=\"text-align: right;\">0.00497619 </td><td style=\"text-align: right;\">          1</td><td style=\"text-align: right;\">                 1</td><td style=\"text-align: right;\">   0.583685</td><td style=\"text-align: right;\">     1</td><td style=\"text-align: right;\">        0.8559  </td><td style=\"text-align: right;\">  0.933333</td><td style=\"text-align: right;\">0.933333</td></tr>\n",
       "<tr><td>train_function_mlflow_fc00c_00011</td><td>TERMINATED</td><td>192.168.0.40:1475862</td><td style=\"text-align: right;\">0.000408069</td><td style=\"text-align: right;\">          5</td><td style=\"text-align: right;\">                 3</td><td style=\"text-align: right;\">   0.748934</td><td style=\"text-align: right;\">     1</td><td style=\"text-align: right;\">        0.923571</td><td style=\"text-align: right;\">  0.966667</td><td style=\"text-align: right;\">0.966667</td></tr>\n",
       "<tr><td>train_function_mlflow_fc00c_00012</td><td>TERMINATED</td><td>192.168.0.40:1476058</td><td style=\"text-align: right;\">0.00036611 </td><td style=\"text-align: right;\">          1</td><td style=\"text-align: right;\">                 3</td><td style=\"text-align: right;\">   0.809497</td><td style=\"text-align: right;\">     1</td><td style=\"text-align: right;\">        1.04244 </td><td style=\"text-align: right;\">  0.933333</td><td style=\"text-align: right;\">0.933333</td></tr>\n",
       "<tr><td>train_function_mlflow_fc00c_00013</td><td>TERMINATED</td><td>192.168.0.40:1476164</td><td style=\"text-align: right;\">0.0059505  </td><td style=\"text-align: right;\">          5</td><td style=\"text-align: right;\">                 2</td><td style=\"text-align: right;\">   0.82942 </td><td style=\"text-align: right;\">     1</td><td style=\"text-align: right;\">        0.932933</td><td style=\"text-align: right;\">  1       </td><td style=\"text-align: right;\">1       </td></tr>\n",
       "<tr><td>train_function_mlflow_fc00c_00014</td><td>TERMINATED</td><td>192.168.0.40:1476163</td><td style=\"text-align: right;\">0.00855922 </td><td style=\"text-align: right;\">          1</td><td style=\"text-align: right;\">                 3</td><td style=\"text-align: right;\">   0.980614</td><td style=\"text-align: right;\">     1</td><td style=\"text-align: right;\">        0.964496</td><td style=\"text-align: right;\">  0.9     </td><td style=\"text-align: right;\">0.9     </td></tr>\n",
       "<tr><td>train_function_mlflow_fc00c_00015</td><td>TERMINATED</td><td>192.168.0.40:1476356</td><td style=\"text-align: right;\">0.00186068 </td><td style=\"text-align: right;\">          4</td><td style=\"text-align: right;\">                 2</td><td style=\"text-align: right;\">   0.575632</td><td style=\"text-align: right;\">     1</td><td style=\"text-align: right;\">        0.84172 </td><td style=\"text-align: right;\">  0.933333</td><td style=\"text-align: right;\">0.933333</td></tr>\n",
       "<tr><td>train_function_mlflow_fc00c_00016</td><td>TERMINATED</td><td>192.168.0.40:1476457</td><td style=\"text-align: right;\">0.080372   </td><td style=\"text-align: right;\">          7</td><td style=\"text-align: right;\">                 3</td><td style=\"text-align: right;\">   0.824888</td><td style=\"text-align: right;\">     1</td><td style=\"text-align: right;\">        0.984951</td><td style=\"text-align: right;\">  0.933333</td><td style=\"text-align: right;\">0.933333</td></tr>\n",
       "<tr><td>train_function_mlflow_fc00c_00017</td><td>TERMINATED</td><td>192.168.0.40:1476458</td><td style=\"text-align: right;\">0.0137166  </td><td style=\"text-align: right;\">          8</td><td style=\"text-align: right;\">                 3</td><td style=\"text-align: right;\">   0.566593</td><td style=\"text-align: right;\">     1</td><td style=\"text-align: right;\">        0.933445</td><td style=\"text-align: right;\">  1       </td><td style=\"text-align: right;\">1       </td></tr>\n",
       "<tr><td>train_function_mlflow_fc00c_00018</td><td>TERMINATED</td><td>192.168.0.40:1476651</td><td style=\"text-align: right;\">0.0233699  </td><td style=\"text-align: right;\">          6</td><td style=\"text-align: right;\">                 1</td><td style=\"text-align: right;\">   0.980788</td><td style=\"text-align: right;\">     1</td><td style=\"text-align: right;\">        0.874495</td><td style=\"text-align: right;\">  0.966667</td><td style=\"text-align: right;\">0.966667</td></tr>\n",
       "<tr><td>train_function_mlflow_fc00c_00019</td><td>TERMINATED</td><td>192.168.0.40:1476746</td><td style=\"text-align: right;\">0.018132   </td><td style=\"text-align: right;\">          6</td><td style=\"text-align: right;\">                 2</td><td style=\"text-align: right;\">   0.956844</td><td style=\"text-align: right;\">     1</td><td style=\"text-align: right;\">        0.929179</td><td style=\"text-align: right;\">  0.9     </td><td style=\"text-align: right;\">0.9     </td></tr>\n",
       "</tbody>\n",
       "</table>\n",
       "  </div>\n",
       "</div>\n",
       "<style>\n",
       ".tuneStatus {\n",
       "  color: var(--jp-ui-font-color1);\n",
       "}\n",
       ".tuneStatus .systemInfo {\n",
       "  display: flex;\n",
       "  flex-direction: column;\n",
       "}\n",
       ".tuneStatus td {\n",
       "  white-space: nowrap;\n",
       "}\n",
       ".tuneStatus .trialStatus {\n",
       "  display: flex;\n",
       "  flex-direction: column;\n",
       "}\n",
       ".tuneStatus h3 {\n",
       "  font-weight: bold;\n",
       "}\n",
       ".tuneStatus .hDivider {\n",
       "  border-bottom-width: var(--jp-border-width);\n",
       "  border-bottom-color: var(--jp-border-color0);\n",
       "  border-bottom-style: solid;\n",
       "}\n",
       ".tuneStatus .vDivider {\n",
       "  border-left-width: var(--jp-border-width);\n",
       "  border-left-color: var(--jp-border-color0);\n",
       "  border-left-style: solid;\n",
       "  margin: 0.5em 1em 0.5em 1em;\n",
       "}\n",
       "</style>\n"
      ],
      "text/plain": [
       "<IPython.core.display.HTML object>"
      ]
     },
     "metadata": {},
     "output_type": "display_data"
    },
    {
     "name": "stderr",
     "output_type": "stream",
     "text": [
      "2025-01-31 19:13:19,251\tINFO tune.py:1009 -- Wrote the latest version of all result files and experiment state to '/home/ssafarveisi/ray_results/mlflow' in 0.0056s.\n",
      "2025-01-31 19:13:19,257\tINFO tune.py:1041 -- Total run time: 27.82 seconds (27.77 seconds for the tuning loop).\n"
     ]
    }
   ],
   "source": [
    "results = tune_with_setup()"
   ]
  },
  {
   "cell_type": "code",
   "execution_count": 7,
   "metadata": {},
   "outputs": [],
   "source": [
    "# Best run after tunning\n",
    "best_result = results.get_best_result(metric=\"accuracy\", mode=\"max\")"
   ]
  },
  {
   "cell_type": "code",
   "execution_count": 8,
   "metadata": {},
   "outputs": [
    {
     "data": {
      "text/plain": [
       "{'objective': 'multi:softmax',\n",
       " 'eval_metric': ['logloss', 'error'],\n",
       " 'max_depth': 7,\n",
       " 'min_child_weight': 1,\n",
       " 'subsample': 0.6031536534091184,\n",
       " 'eta': 0.028257638523651336}"
      ]
     },
     "execution_count": 8,
     "metadata": {},
     "output_type": "execute_result"
    }
   ],
   "source": [
    "# Hyperparameters for the best run\n",
    "best_result.config"
   ]
  },
  {
   "cell_type": "code",
   "execution_count": 9,
   "metadata": {},
   "outputs": [
    {
     "data": {
      "text/html": [
       "<div>\n",
       "<style scoped>\n",
       "    .dataframe tbody tr th:only-of-type {\n",
       "        vertical-align: middle;\n",
       "    }\n",
       "\n",
       "    .dataframe tbody tr th {\n",
       "        vertical-align: top;\n",
       "    }\n",
       "\n",
       "    .dataframe thead th {\n",
       "        text-align: right;\n",
       "    }\n",
       "</style>\n",
       "<table border=\"1\" class=\"dataframe\">\n",
       "  <thead>\n",
       "    <tr style=\"text-align: right;\">\n",
       "      <th></th>\n",
       "      <th>accuracy</th>\n",
       "      <th>recall</th>\n",
       "      <th>timestamp</th>\n",
       "      <th>checkpoint_dir_name</th>\n",
       "      <th>done</th>\n",
       "      <th>training_iteration</th>\n",
       "      <th>trial_id</th>\n",
       "      <th>date</th>\n",
       "      <th>time_this_iter_s</th>\n",
       "      <th>time_total_s</th>\n",
       "      <th>...</th>\n",
       "      <th>hostname</th>\n",
       "      <th>node_ip</th>\n",
       "      <th>time_since_restore</th>\n",
       "      <th>iterations_since_restore</th>\n",
       "      <th>config/objective</th>\n",
       "      <th>config/eval_metric</th>\n",
       "      <th>config/max_depth</th>\n",
       "      <th>config/min_child_weight</th>\n",
       "      <th>config/subsample</th>\n",
       "      <th>config/eta</th>\n",
       "    </tr>\n",
       "  </thead>\n",
       "  <tbody>\n",
       "    <tr>\n",
       "      <th>0</th>\n",
       "      <td>1.0</td>\n",
       "      <td>1.0</td>\n",
       "      <td>1738347174</td>\n",
       "      <td>None</td>\n",
       "      <td>False</td>\n",
       "      <td>1</td>\n",
       "      <td>fc00c_00002</td>\n",
       "      <td>2025-01-31_19-12-54</td>\n",
       "      <td>1.566267</td>\n",
       "      <td>1.566267</td>\n",
       "      <td>...</td>\n",
       "      <td>LXKA-J9SYDX3</td>\n",
       "      <td>192.168.0.40</td>\n",
       "      <td>1.566267</td>\n",
       "      <td>1</td>\n",
       "      <td>multi:softmax</td>\n",
       "      <td>[logloss, error]</td>\n",
       "      <td>7</td>\n",
       "      <td>1</td>\n",
       "      <td>0.603154</td>\n",
       "      <td>0.028258</td>\n",
       "    </tr>\n",
       "  </tbody>\n",
       "</table>\n",
       "<p>1 rows × 21 columns</p>\n",
       "</div>"
      ],
      "text/plain": [
       "   accuracy  recall   timestamp checkpoint_dir_name   done  \\\n",
       "0       1.0     1.0  1738347174                None  False   \n",
       "\n",
       "   training_iteration     trial_id                 date  time_this_iter_s  \\\n",
       "0                   1  fc00c_00002  2025-01-31_19-12-54          1.566267   \n",
       "\n",
       "   time_total_s  ...      hostname       node_ip time_since_restore  \\\n",
       "0      1.566267  ...  LXKA-J9SYDX3  192.168.0.40           1.566267   \n",
       "\n",
       "   iterations_since_restore  config/objective config/eval_metric  \\\n",
       "0                         1     multi:softmax   [logloss, error]   \n",
       "\n",
       "  config/max_depth  config/min_child_weight  config/subsample  config/eta  \n",
       "0                7                        1          0.603154    0.028258  \n",
       "\n",
       "[1 rows x 21 columns]"
      ]
     },
     "execution_count": 9,
     "metadata": {},
     "output_type": "execute_result"
    }
   ],
   "source": [
    "# Best run metrics (e.g., accuracy and recall)\n",
    "best_result.metrics_dataframe"
   ]
  },
  {
   "cell_type": "code",
   "execution_count": null,
   "metadata": {},
   "outputs": [],
   "source": [
    "# Stop the local ray cluster\n",
    "ray.shutdown()"
   ]
  },
  {
   "cell_type": "code",
   "execution_count": 20,
   "metadata": {},
   "outputs": [],
   "source": [
    "# Ds gathers all runs in the experiment\n",
    "experiment_id = mlflow.get_experiment_by_name(name=EXP_NAME).experiment_id\n",
    "runs = mlflow.search_runs(\n",
    "    experiment_ids=[experiment_id], run_view_type=ViewType.ACTIVE_ONLY\n",
    ")"
   ]
  },
  {
   "cell_type": "code",
   "execution_count": 21,
   "metadata": {},
   "outputs": [],
   "source": [
    "# Ds finds the run id that maximizes the accuracy (performance metric)\n",
    "best_run = runs.loc[runs[\"metrics.accuracy\"].idxmax()]\n",
    "best_run_id = best_run.run_id\n",
    "best_run_accuracy = best_run[\"metrics.accuracy\"]\n",
    "model_uri = f\"runs:/{best_run_id}/iris_xgb\""
   ]
  },
  {
   "cell_type": "code",
   "execution_count": 12,
   "metadata": {},
   "outputs": [
    {
     "name": "stderr",
     "output_type": "stream",
     "text": [
      "Successfully registered model 'iris-classifer'.\n",
      "2025/01/31 19:13:29 INFO mlflow.store.model_registry.abstract_store: Waiting up to 300 seconds for model version to finish creation. Model name: iris-classifer, version 1\n"
     ]
    },
    {
     "name": "stdout",
     "output_type": "stream",
     "text": [
      "Model accuracy met the required minimum accuracy 🔥\n"
     ]
    },
    {
     "name": "stderr",
     "output_type": "stream",
     "text": [
      "Created version '1' of model 'iris-classifer'.\n"
     ]
    }
   ],
   "source": [
    "# Ds registers the run id model if it meets the minimum required accuracy\n",
    "if best_run_accuracy >= MINIMUM_REQUIRED_ACCURACY:\n",
    "    print(emoji.emojize(\"Model accuracy met the required minimum accuracy :fire:\"))\n",
    "    result = mlflow.register_model(model_uri, MODEL_NAME)\n",
    "else:\n",
    "    print(\n",
    "        emoji.emojize(\n",
    "            \"Best run did not meet the required minimum accuracy :sad_but_relieved_face:\"\n",
    "        )\n",
    "    )"
   ]
  },
  {
   "cell_type": "code",
   "execution_count": 68,
   "metadata": {},
   "outputs": [
    {
     "name": "stdout",
     "output_type": "stream",
     "text": [
      "Updated the version of the registered model 'iris-classifer' to '1'\n"
     ]
    }
   ],
   "source": [
    "print(\n",
    "    f\"Updated the version of the registered model '{MODEL_NAME}' to '{result.version}'\"\n",
    ")"
   ]
  },
  {
   "cell_type": "code",
   "execution_count": 13,
   "metadata": {},
   "outputs": [],
   "source": [
    "# Ds selects an alias for the latest model's version (optional as the model deployment is based on the artifact s3 path)\n",
    "client.set_registered_model_alias(MODEL_NAME, ALIAS, result.version)"
   ]
  },
  {
   "cell_type": "code",
   "execution_count": 50,
   "metadata": {},
   "outputs": [
    {
     "name": "stderr",
     "output_type": "stream",
     "text": [
      "2025/02/01 01:10:35 INFO mlflow.models.model: Retrieving model requirements files from mlflow-artifacts:/1/ca1b0f2603494e489c589f45dbaf547f/artifacts/iris_xgb...\n",
      "2025/02/01 01:10:36 INFO mlflow.models.model: Done updating requirements!\n",
      "\n",
      "Old requirements:\n",
      "['mlflow==2.20.0',\n",
      " 'xgboost==2.1.3',\n",
      " 'scikit-learn==1.5.2',\n",
      " 'mlserver==1.6.1',\n",
      " 'mlserver-mlflow',\n",
      " 'pydantic==2.7.1',\n",
      " 'conda-pack==0.8.1']\n",
      "\n",
      "Updated requirements:\n",
      "['mlflow==2.20.0',\n",
      " 'xgboost==2.1.3',\n",
      " 'scikit-learn==1.5.2',\n",
      " 'mlserver==1.6.1',\n",
      " 'mlserver-mlflow==1.6.1',\n",
      " 'pydantic==2.7.1',\n",
      " 'conda-pack==0.8.1']\n",
      "\n",
      "2025/02/01 01:10:36 INFO mlflow.models.model: Uploading updated requirements files to mlflow-artifacts:/1/ca1b0f2603494e489c589f45dbaf547f/artifacts/iris_xgb...\n"
     ]
    }
   ],
   "source": [
    "# Ds updates the best model's dependencies (mandatory for the model deployment into Kserve cluster)\n",
    "mlflow.models.update_model_requirements(\n",
    "    model_uri=model_uri,\n",
    "    operation=\"add\",\n",
    "    requirement_list=[\n",
    "        \"mlserver==1.6.1\",\n",
    "        \"mlserver-mlflow==1.6.1\",\n",
    "        \"pydantic==2.7.1\",\n",
    "        \"conda-pack==0.8.1\",\n",
    "    ],\n",
    ")"
   ]
  },
  {
   "cell_type": "code",
   "execution_count": 72,
   "metadata": {},
   "outputs": [
    {
     "name": "stderr",
     "output_type": "stream",
     "text": [
      "2025/02/01 19:08:31 INFO mlflow.models.flavor_backend_registry: Selected backend for flavor 'python_function'\n",
      "2025/02/01 19:08:46 INFO mlflow.utils.virtualenv: Creating a new environment in /tmp/tmpwnl239k8/envs/virtualenv_envs/mlflow-c551d6c3d16ace22ef4327d512732163beac06b9 with python version 3.9.1 using uv\n",
      "Using CPython \u001b[36m3.9.1\u001b[39m\n",
      "Creating virtual environment at: \u001b[36m/tmp/tmpwnl239k8/envs/virtualenv_envs/mlflow-c551d6c3d16ace22ef4327d512732163beac06b9\u001b[39m\n",
      "Activate with: \u001b[32msource /tmp/tmpwnl239k8/envs/virtualenv_envs/mlflow-c551d6c3d16ace22ef4327d512732163beac06b9/bin/activate\u001b[39m\n",
      "2025/02/01 19:08:46 INFO mlflow.utils.virtualenv: Installing dependencies\n",
      "\u001b[2mUsing Python 3.9.1 environment at: /tmp/tmpwnl239k8/envs/virtualenv_envs/mlflow-c551d6c3d16ace22ef4327d512732163beac06b9\u001b[0m\n",
      "\u001b[2mResolved \u001b[1m3 packages\u001b[0m \u001b[2min 36ms\u001b[0m\u001b[0m\n",
      "\u001b[2mInstalled \u001b[1m3 packages\u001b[0m \u001b[2min 20ms\u001b[0m\u001b[0m\n",
      " \u001b[32m+\u001b[39m \u001b[1mpip\u001b[0m\u001b[2m==24.2\u001b[0m\n",
      " \u001b[32m+\u001b[39m \u001b[1msetuptools\u001b[0m\u001b[2m==74.1.2\u001b[0m\n",
      " \u001b[32m+\u001b[39m \u001b[1mwheel\u001b[0m\u001b[2m==0.45.1\u001b[0m\n",
      "\u001b[2mUsing Python 3.9.1 environment at: /tmp/tmpwnl239k8/envs/virtualenv_envs/mlflow-c551d6c3d16ace22ef4327d512732163beac06b9\u001b[0m\n",
      "\u001b[2mResolved \u001b[1m118 packages\u001b[0m \u001b[2min 418ms\u001b[0m\u001b[0m\n",
      "\u001b[2mInstalled \u001b[1m117 packages\u001b[0m \u001b[2min 83ms\u001b[0m\u001b[0m\n",
      " \u001b[32m+\u001b[39m \u001b[1maiofiles\u001b[0m\u001b[2m==24.1.0\u001b[0m\n",
      " \u001b[32m+\u001b[39m \u001b[1maiohappyeyeballs\u001b[0m\u001b[2m==2.4.4\u001b[0m\n",
      " \u001b[32m+\u001b[39m \u001b[1maiohttp\u001b[0m\u001b[2m==3.11.11\u001b[0m\n",
      " \u001b[32m+\u001b[39m \u001b[1maiokafka\u001b[0m\u001b[2m==0.12.0\u001b[0m\n",
      " \u001b[32m+\u001b[39m \u001b[1maiosignal\u001b[0m\u001b[2m==1.3.2\u001b[0m\n",
      " \u001b[32m+\u001b[39m \u001b[1malembic\u001b[0m\u001b[2m==1.14.1\u001b[0m\n",
      " \u001b[32m+\u001b[39m \u001b[1mannotated-types\u001b[0m\u001b[2m==0.7.0\u001b[0m\n",
      " \u001b[32m+\u001b[39m \u001b[1manyio\u001b[0m\u001b[2m==4.8.0\u001b[0m\n",
      " \u001b[32m+\u001b[39m \u001b[1masgiref\u001b[0m\u001b[2m==3.8.1\u001b[0m\n",
      " \u001b[32m+\u001b[39m \u001b[1masync-timeout\u001b[0m\u001b[2m==5.0.1\u001b[0m\n",
      " \u001b[32m+\u001b[39m \u001b[1mattrs\u001b[0m\u001b[2m==25.1.0\u001b[0m\n",
      " \u001b[32m+\u001b[39m \u001b[1mblinker\u001b[0m\u001b[2m==1.9.0\u001b[0m\n",
      " \u001b[32m+\u001b[39m \u001b[1mbrotli\u001b[0m\u001b[2m==1.1.0\u001b[0m\n",
      " \u001b[32m+\u001b[39m \u001b[1mcachetools\u001b[0m\u001b[2m==5.5.1\u001b[0m\n",
      " \u001b[32m+\u001b[39m \u001b[1mcertifi\u001b[0m\u001b[2m==2025.1.31\u001b[0m\n",
      " \u001b[32m+\u001b[39m \u001b[1mcharset-normalizer\u001b[0m\u001b[2m==3.4.1\u001b[0m\n",
      " \u001b[32m+\u001b[39m \u001b[1mclick\u001b[0m\u001b[2m==8.1.8\u001b[0m\n",
      " \u001b[32m+\u001b[39m \u001b[1mcloudpickle\u001b[0m\u001b[2m==3.1.1\u001b[0m\n",
      " \u001b[32m+\u001b[39m \u001b[1mconda-pack\u001b[0m\u001b[2m==0.8.1\u001b[0m\n",
      " \u001b[32m+\u001b[39m \u001b[1mcontourpy\u001b[0m\u001b[2m==1.3.0\u001b[0m\n",
      " \u001b[32m+\u001b[39m \u001b[1mcycler\u001b[0m\u001b[2m==0.12.1\u001b[0m\n",
      " \u001b[32m+\u001b[39m \u001b[1mdatabricks-sdk\u001b[0m\u001b[2m==0.42.0\u001b[0m\n",
      " \u001b[32m+\u001b[39m \u001b[1mdeprecated\u001b[0m\u001b[2m==1.2.18\u001b[0m\n",
      " \u001b[32m+\u001b[39m \u001b[1mdocker\u001b[0m\u001b[2m==7.1.0\u001b[0m\n",
      " \u001b[32m+\u001b[39m \u001b[1mexceptiongroup\u001b[0m\u001b[2m==1.2.2\u001b[0m\n",
      " \u001b[32m+\u001b[39m \u001b[1mfastapi\u001b[0m\u001b[2m==0.110.0\u001b[0m\n",
      " \u001b[32m+\u001b[39m \u001b[1mflask\u001b[0m\u001b[2m==3.1.0\u001b[0m\n",
      " \u001b[32m+\u001b[39m \u001b[1mfonttools\u001b[0m\u001b[2m==4.55.8\u001b[0m\n",
      " \u001b[32m+\u001b[39m \u001b[1mfrozenlist\u001b[0m\u001b[2m==1.5.0\u001b[0m\n",
      " \u001b[32m+\u001b[39m \u001b[1mgevent\u001b[0m\u001b[2m==24.11.1\u001b[0m\n",
      " \u001b[32m+\u001b[39m \u001b[1mgeventhttpclient\u001b[0m\u001b[2m==2.0.2\u001b[0m\n",
      " \u001b[32m+\u001b[39m \u001b[1mgitdb\u001b[0m\u001b[2m==4.0.12\u001b[0m\n",
      " \u001b[32m+\u001b[39m \u001b[1mgitpython\u001b[0m\u001b[2m==3.1.44\u001b[0m\n",
      " \u001b[32m+\u001b[39m \u001b[1mgoogle-auth\u001b[0m\u001b[2m==2.38.0\u001b[0m\n",
      " \u001b[32m+\u001b[39m \u001b[1mgoogleapis-common-protos\u001b[0m\u001b[2m==1.66.0\u001b[0m\n",
      " \u001b[32m+\u001b[39m \u001b[1mgraphene\u001b[0m\u001b[2m==3.4.3\u001b[0m\n",
      " \u001b[32m+\u001b[39m \u001b[1mgraphql-core\u001b[0m\u001b[2m==3.2.6\u001b[0m\n",
      " \u001b[32m+\u001b[39m \u001b[1mgraphql-relay\u001b[0m\u001b[2m==3.2.0\u001b[0m\n",
      " \u001b[32m+\u001b[39m \u001b[1mgreenlet\u001b[0m\u001b[2m==3.1.1\u001b[0m\n",
      " \u001b[32m+\u001b[39m \u001b[1mgrpcio\u001b[0m\u001b[2m==1.70.0\u001b[0m\n",
      " \u001b[32m+\u001b[39m \u001b[1mgunicorn\u001b[0m\u001b[2m==23.0.0\u001b[0m\n",
      " \u001b[32m+\u001b[39m \u001b[1mh11\u001b[0m\u001b[2m==0.14.0\u001b[0m\n",
      " \u001b[32m+\u001b[39m \u001b[1midna\u001b[0m\u001b[2m==3.10\u001b[0m\n",
      " \u001b[32m+\u001b[39m \u001b[1mimportlib-metadata\u001b[0m\u001b[2m==8.5.0\u001b[0m\n",
      " \u001b[32m+\u001b[39m \u001b[1mimportlib-resources\u001b[0m\u001b[2m==6.5.2\u001b[0m\n",
      " \u001b[32m+\u001b[39m \u001b[1mitsdangerous\u001b[0m\u001b[2m==2.2.0\u001b[0m\n",
      " \u001b[32m+\u001b[39m \u001b[1mjinja2\u001b[0m\u001b[2m==3.1.5\u001b[0m\n",
      " \u001b[32m+\u001b[39m \u001b[1mjoblib\u001b[0m\u001b[2m==1.4.2\u001b[0m\n",
      " \u001b[32m+\u001b[39m \u001b[1mkiwisolver\u001b[0m\u001b[2m==1.4.7\u001b[0m\n",
      " \u001b[32m+\u001b[39m \u001b[1mmako\u001b[0m\u001b[2m==1.3.8\u001b[0m\n",
      " \u001b[32m+\u001b[39m \u001b[1mmarkdown\u001b[0m\u001b[2m==3.7\u001b[0m\n",
      " \u001b[32m+\u001b[39m \u001b[1mmarkupsafe\u001b[0m\u001b[2m==3.0.2\u001b[0m\n",
      " \u001b[32m+\u001b[39m \u001b[1mmatplotlib\u001b[0m\u001b[2m==3.9.4\u001b[0m\n",
      " \u001b[32m+\u001b[39m \u001b[1mmlflow\u001b[0m\u001b[2m==2.20.0\u001b[0m\n",
      " \u001b[32m+\u001b[39m \u001b[1mmlflow-skinny\u001b[0m\u001b[2m==2.20.0\u001b[0m\n",
      " \u001b[32m+\u001b[39m \u001b[1mmlserver\u001b[0m\u001b[2m==1.6.1\u001b[0m\n",
      " \u001b[32m+\u001b[39m \u001b[1mmlserver-mlflow\u001b[0m\u001b[2m==1.6.1\u001b[0m\n",
      " \u001b[32m+\u001b[39m \u001b[1mmultidict\u001b[0m\u001b[2m==6.1.0\u001b[0m\n",
      " \u001b[32m+\u001b[39m \u001b[1mnumpy\u001b[0m\u001b[2m==2.0.2\u001b[0m\n",
      " \u001b[32m+\u001b[39m \u001b[1mnvidia-nccl-cu12\u001b[0m\u001b[2m==2.25.1\u001b[0m\n",
      " \u001b[32m+\u001b[39m \u001b[1mopentelemetry-api\u001b[0m\u001b[2m==1.29.0\u001b[0m\n",
      " \u001b[32m+\u001b[39m \u001b[1mopentelemetry-exporter-otlp-proto-common\u001b[0m\u001b[2m==1.29.0\u001b[0m\n",
      " \u001b[32m+\u001b[39m \u001b[1mopentelemetry-exporter-otlp-proto-grpc\u001b[0m\u001b[2m==1.29.0\u001b[0m\n",
      " \u001b[32m+\u001b[39m \u001b[1mopentelemetry-instrumentation\u001b[0m\u001b[2m==0.50b0\u001b[0m\n",
      " \u001b[32m+\u001b[39m \u001b[1mopentelemetry-instrumentation-asgi\u001b[0m\u001b[2m==0.50b0\u001b[0m\n",
      " \u001b[32m+\u001b[39m \u001b[1mopentelemetry-instrumentation-fastapi\u001b[0m\u001b[2m==0.50b0\u001b[0m\n",
      " \u001b[32m+\u001b[39m \u001b[1mopentelemetry-instrumentation-grpc\u001b[0m\u001b[2m==0.50b0\u001b[0m\n",
      " \u001b[32m+\u001b[39m \u001b[1mopentelemetry-proto\u001b[0m\u001b[2m==1.29.0\u001b[0m\n",
      " \u001b[32m+\u001b[39m \u001b[1mopentelemetry-sdk\u001b[0m\u001b[2m==1.29.0\u001b[0m\n",
      " \u001b[32m+\u001b[39m \u001b[1mopentelemetry-semantic-conventions\u001b[0m\u001b[2m==0.50b0\u001b[0m\n",
      " \u001b[32m+\u001b[39m \u001b[1mopentelemetry-util-http\u001b[0m\u001b[2m==0.50b0\u001b[0m\n",
      " \u001b[32m+\u001b[39m \u001b[1morjson\u001b[0m\u001b[2m==3.10.15\u001b[0m\n",
      " \u001b[32m+\u001b[39m \u001b[1mpackaging\u001b[0m\u001b[2m==24.2\u001b[0m\n",
      " \u001b[32m+\u001b[39m \u001b[1mpandas\u001b[0m\u001b[2m==2.2.3\u001b[0m\n",
      " \u001b[32m+\u001b[39m \u001b[1mpillow\u001b[0m\u001b[2m==11.1.0\u001b[0m\n",
      " \u001b[32m+\u001b[39m \u001b[1mprometheus-client\u001b[0m\u001b[2m==0.21.1\u001b[0m\n",
      " \u001b[32m+\u001b[39m \u001b[1mpropcache\u001b[0m\u001b[2m==0.2.1\u001b[0m\n",
      " \u001b[32m+\u001b[39m \u001b[1mprotobuf\u001b[0m\u001b[2m==5.29.3\u001b[0m\n",
      " \u001b[32m+\u001b[39m \u001b[1mpy-grpc-prometheus\u001b[0m\u001b[2m==0.8.0\u001b[0m\n",
      " \u001b[32m+\u001b[39m \u001b[1mpyarrow\u001b[0m\u001b[2m==18.1.0\u001b[0m\n",
      " \u001b[32m+\u001b[39m \u001b[1mpyasn1\u001b[0m\u001b[2m==0.6.1\u001b[0m\n",
      " \u001b[32m+\u001b[39m \u001b[1mpyasn1-modules\u001b[0m\u001b[2m==0.4.1\u001b[0m\n",
      " \u001b[32m+\u001b[39m \u001b[1mpydantic\u001b[0m\u001b[2m==2.7.1\u001b[0m\n",
      " \u001b[32m+\u001b[39m \u001b[1mpydantic-core\u001b[0m\u001b[2m==2.18.2\u001b[0m\n",
      " \u001b[32m+\u001b[39m \u001b[1mpydantic-settings\u001b[0m\u001b[2m==2.2.1\u001b[0m\n",
      " \u001b[32m+\u001b[39m \u001b[1mpyparsing\u001b[0m\u001b[2m==3.2.1\u001b[0m\n",
      " \u001b[32m+\u001b[39m \u001b[1mpython-dateutil\u001b[0m\u001b[2m==2.9.0.post0\u001b[0m\n",
      " \u001b[32m+\u001b[39m \u001b[1mpython-dotenv\u001b[0m\u001b[2m==1.0.1\u001b[0m\n",
      " \u001b[32m+\u001b[39m \u001b[1mpython-multipart\u001b[0m\u001b[2m==0.0.20\u001b[0m\n",
      " \u001b[32m+\u001b[39m \u001b[1mpython-rapidjson\u001b[0m\u001b[2m==1.20\u001b[0m\n",
      " \u001b[32m+\u001b[39m \u001b[1mpytz\u001b[0m\u001b[2m==2025.1\u001b[0m\n",
      " \u001b[32m+\u001b[39m \u001b[1mpyyaml\u001b[0m\u001b[2m==6.0.2\u001b[0m\n",
      " \u001b[32m+\u001b[39m \u001b[1mrequests\u001b[0m\u001b[2m==2.32.3\u001b[0m\n",
      " \u001b[32m+\u001b[39m \u001b[1mrsa\u001b[0m\u001b[2m==4.9\u001b[0m\n",
      " \u001b[32m+\u001b[39m \u001b[1mscikit-learn\u001b[0m\u001b[2m==1.5.2\u001b[0m\n",
      " \u001b[32m+\u001b[39m \u001b[1mscipy\u001b[0m\u001b[2m==1.13.1\u001b[0m\n",
      " \u001b[32m+\u001b[39m \u001b[1msix\u001b[0m\u001b[2m==1.17.0\u001b[0m\n",
      " \u001b[32m+\u001b[39m \u001b[1msmmap\u001b[0m\u001b[2m==5.0.2\u001b[0m\n",
      " \u001b[32m+\u001b[39m \u001b[1msniffio\u001b[0m\u001b[2m==1.3.1\u001b[0m\n",
      " \u001b[32m+\u001b[39m \u001b[1msqlalchemy\u001b[0m\u001b[2m==2.0.37\u001b[0m\n",
      " \u001b[32m+\u001b[39m \u001b[1msqlparse\u001b[0m\u001b[2m==0.5.3\u001b[0m\n",
      " \u001b[32m+\u001b[39m \u001b[1mstarlette\u001b[0m\u001b[2m==0.36.3\u001b[0m\n",
      " \u001b[32m+\u001b[39m \u001b[1mstarlette-exporter\u001b[0m\u001b[2m==0.23.0\u001b[0m\n",
      " \u001b[32m+\u001b[39m \u001b[1mthreadpoolctl\u001b[0m\u001b[2m==3.5.0\u001b[0m\n",
      " \u001b[32m+\u001b[39m \u001b[1mtritonclient\u001b[0m\u001b[2m==2.46.0\u001b[0m\n",
      " \u001b[32m+\u001b[39m \u001b[1mtyping-extensions\u001b[0m\u001b[2m==4.12.2\u001b[0m\n",
      " \u001b[32m+\u001b[39m \u001b[1mtzdata\u001b[0m\u001b[2m==2025.1\u001b[0m\n",
      " \u001b[32m+\u001b[39m \u001b[1murllib3\u001b[0m\u001b[2m==2.3.0\u001b[0m\n",
      " \u001b[32m+\u001b[39m \u001b[1muvicorn\u001b[0m\u001b[2m==0.34.0\u001b[0m\n",
      " \u001b[32m+\u001b[39m \u001b[1muvloop\u001b[0m\u001b[2m==0.21.0\u001b[0m\n",
      " \u001b[32m+\u001b[39m \u001b[1mwerkzeug\u001b[0m\u001b[2m==3.1.3\u001b[0m\n",
      " \u001b[32m+\u001b[39m \u001b[1mwrapt\u001b[0m\u001b[2m==1.17.2\u001b[0m\n",
      " \u001b[32m+\u001b[39m \u001b[1mxgboost\u001b[0m\u001b[2m==2.1.3\u001b[0m\n",
      " \u001b[32m+\u001b[39m \u001b[1myarl\u001b[0m\u001b[2m==1.18.3\u001b[0m\n",
      " \u001b[32m+\u001b[39m \u001b[1mzipp\u001b[0m\u001b[2m==3.21.0\u001b[0m\n",
      " \u001b[32m+\u001b[39m \u001b[1mzope-event\u001b[0m\u001b[2m==5.0\u001b[0m\n",
      " \u001b[32m+\u001b[39m \u001b[1mzope-interface\u001b[0m\u001b[2m==7.2\u001b[0m\n",
      "2025/02/01 19:08:47 INFO mlflow.utils.environment: === Running command '['bash', '-c', 'source /tmp/tmpwnl239k8/envs/virtualenv_envs/mlflow-c551d6c3d16ace22ef4327d512732163beac06b9/bin/activate && python -c \"\"']'\n",
      "2025/02/01 19:08:47 INFO mlflow.utils.environment: === Running command '['bash', '-c', 'source /tmp/tmpwnl239k8/envs/virtualenv_envs/mlflow-c551d6c3d16ace22ef4327d512732163beac06b9/bin/activate && python /home/ssafarveisi/Desktop/Projects/K8sApp/.venv/lib/python3.9/site-packages/mlflow/pyfunc/_mlflow_pyfunc_backend_predict.py --model-uri file:///tmp/tmpndift3hl/iris_xgb --content-type json --input-path /tmp/tmp4zmp3bki/input.json']'\n"
     ]
    },
    {
     "name": "stdout",
     "output_type": "stream",
     "text": [
      "{\"predictions\": [2, 0, 2, 1, 2, 1, 2, 2, 1, 0, 2, 1, 1, 2, 0, 2, 0, 2, 0, 1, 1, 2, 0, 2, 1, 0, 1, 0, 1, 1]}"
     ]
    }
   ],
   "source": [
    "# Ds reloads the data to do a sanity check\n",
    "iris = sklearn.datasets.load_iris(as_frame=True)\n",
    "_, test_x, _, test_y = train_test_split(iris.data, iris.target, test_size=0.2)\n",
    "\n",
    "# Ds validates the model before deployment\n",
    "mlflow.models.predict(\n",
    "    model_uri=model_uri,\n",
    "    input_data=test_x,\n",
    "    env_manager=\"uv\",\n",
    "    install_mlflow=False,\n",
    ")"
   ]
  },
  {
   "cell_type": "markdown",
   "metadata": {},
   "source": [
    "Ds downloads the best model's artifacts (e.g., `conda.yaml`). This is necessary to create the Kserve inference service later (CI/CD). The artifacts will be saved in a specific directory (`best_model_artifacts`) of the git repository."
   ]
  },
  {
   "cell_type": "code",
   "execution_count": 23,
   "metadata": {},
   "outputs": [
    {
     "name": "stdout",
     "output_type": "stream",
     "text": [
      "s3://customerintelligence/ml_platform/mlartifacts/1/ca1b0f2603494e489c589f45dbaf547f/artifacts/iris_xgb/\n",
      "Saved requirements.txt in /best_model_artifacts\n",
      "Saved conda.yaml in /best_model_artifacts\n",
      "Saved .python-version in /best_model_artifacts\n"
     ]
    }
   ],
   "source": [
    "# Ds writes the spec for the best run into a designated directory\n",
    "s3_path = f\"s3://customerintelligence/ml_platform/mlartifacts/{experiment_id}/{best_run_id}/artifacts/iris_xgb/\"\n",
    "print(f\"Artifactory path: {s3_path}\")\n",
    "get_best_model_artifacts(s3_path=s3_path)"
   ]
  },
  {
   "cell_type": "code",
   "execution_count": 75,
   "metadata": {},
   "outputs": [
    {
     "data": {
      "text/plain": [
       "[<FileInfo: file_size=987, is_dir=False, path='MLmodel'>,\n",
       " <FileInfo: file_size=240, is_dir=False, path='conda.yaml'>,\n",
       " <FileInfo: file_size=678210690, is_dir=False, path='environment.tar.gz'>,\n",
       " <FileInfo: file_size=184676, is_dir=False, path='model.json'>,\n",
       " <FileInfo: file_size=111, is_dir=False, path='python_env.yaml'>,\n",
       " <FileInfo: file_size=122, is_dir=False, path='requirements.txt'>]"
      ]
     },
     "execution_count": 75,
     "metadata": {},
     "output_type": "execute_result"
    }
   ],
   "source": [
    "# Ds checks the artifacts for the best run (recommended)\n",
    "mlflow.artifacts.list_artifacts(artifact_uri=s3_path)"
   ]
  },
  {
   "cell_type": "code",
   "execution_count": 29,
   "metadata": {},
   "outputs": [],
   "source": [
    "# Ds updates the run sepc for the best run\n",
    "write_best_run_spec(experiment_id=experiment_id, run_id=best_run_id, mode=\"best_run\")"
   ]
  }
 ],
 "metadata": {
  "kernelspec": {
   "display_name": ".venv",
   "language": "python",
   "name": "python3"
  },
  "language_info": {
   "codemirror_mode": {
    "name": "ipython",
    "version": 3
   },
   "file_extension": ".py",
   "mimetype": "text/x-python",
   "name": "python",
   "nbconvert_exporter": "python",
   "pygments_lexer": "ipython3",
   "version": "3.9.1"
  }
 },
 "nbformat": 4,
 "nbformat_minor": 2
}
