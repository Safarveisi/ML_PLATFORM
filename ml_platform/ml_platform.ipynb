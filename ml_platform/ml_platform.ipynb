{
 "cells": [
  {
   "cell_type": "code",
   "execution_count": 15,
   "metadata": {},
   "outputs": [],
   "source": [
    "import mlflow\n",
    "from mlflow.models import infer_signature\n",
    "from mlflow import MlflowClient\n",
    "\n",
    "import sklearn.datasets\n",
    "from sklearn.metrics import accuracy_score\n",
    "from sklearn.model_selection import train_test_split\n",
    "\n",
    "import xgboost as xgb\n",
    "\n",
    "import ray\n",
    "from ray import train, tune\n",
    "from ray.air.integrations.mlflow import setup_mlflow\n",
    "\n",
    "TRACKING_URI = \"http://0.0.0.0:5000\"\n",
    "EXP_NAME = \"ml_platform\"\n",
    "MODEL_NAME = \"xgb-breast-cancer-classifer\"\n",
    "ALIAS = \"champion\"\n",
    "\n",
    "mlflow.set_tracking_uri(TRACKING_URI)\n",
    "mlflow.set_experiment(experiment_name=EXP_NAME)\n",
    "\n",
    "client = MlflowClient()"
   ]
  },
  {
   "cell_type": "code",
   "execution_count": 18,
   "metadata": {},
   "outputs": [],
   "source": [
    "def train_breast_cancer(config: dict) -> None:\n",
    "    setup_mlflow(\n",
    "        config,\n",
    "        experiment_name=EXP_NAME,\n",
    "        tracking_uri=TRACKING_URI,\n",
    "    )\n",
    "    # Load dataset\n",
    "    data, labels = sklearn.datasets.load_breast_cancer(return_X_y=True)\n",
    "    train_x, test_x, train_y, test_y = train_test_split(data, labels, test_size=0.2)\n",
    "\n",
    "    model = xgb.XGBClassifier(**config)\n",
    "    model.fit(train_x, train_y)\n",
    "\n",
    "    predictions = model.predict(test_x)\n",
    "    accuracy = accuracy_score(test_y, predictions)\n",
    "    mlflow.log_metric(\"accuracy\", accuracy)\n",
    "    signature = infer_signature(train_x, model.predict(train_x))\n",
    "\n",
    "    mlflow.xgboost.log_model(\n",
    "        model,\n",
    "        \"xgb_models\",\n",
    "        conda_env=mlflow.xgboost.get_default_conda_env(),\n",
    "        signature=signature,\n",
    "        model_format=\"json\",\n",
    "    )\n",
    "\n",
    "    train.report({\"accuracy\": accuracy, \"done\": True})\n",
    "\n",
    "\n",
    "def tune_with_setup() -> None:\n",
    "\n",
    "    ray.init(num_cpus=6)\n",
    "    trainable_with_resources = tune.with_resources(train_breast_cancer, {\"cpu\": 2})\n",
    "\n",
    "    tuner = tune.Tuner(\n",
    "        trainable_with_resources,\n",
    "        tune_config=tune.TuneConfig(\n",
    "            num_samples=10,\n",
    "        ),\n",
    "        run_config=train.RunConfig(\n",
    "            name=\"mlflow\",\n",
    "        ),\n",
    "        param_space={\n",
    "            \"objective\": \"binary:logistic\",\n",
    "            \"eval_metric\": [\"logloss\", \"error\"],\n",
    "            \"max_depth\": tune.randint(1, 9),\n",
    "            \"min_child_weight\": tune.choice([1, 2, 3]),\n",
    "            \"subsample\": tune.uniform(0.5, 1.0),\n",
    "            \"eta\": tune.loguniform(1e-4, 1e-1),\n",
    "        },\n",
    "    )\n",
    "\n",
    "    tuner.fit()"
   ]
  },
  {
   "cell_type": "code",
   "execution_count": 19,
   "metadata": {},
   "outputs": [
    {
     "data": {
      "text/html": [
       "<div class=\"tuneStatus\">\n",
       "  <div style=\"display: flex;flex-direction: row\">\n",
       "    <div style=\"display: flex;flex-direction: column;\">\n",
       "      <h3>Tune Status</h3>\n",
       "      <table>\n",
       "<tbody>\n",
       "<tr><td>Current time:</td><td>2025-01-27 18:41:38</td></tr>\n",
       "<tr><td>Running for: </td><td>00:00:14.66        </td></tr>\n",
       "<tr><td>Memory:      </td><td>10.6/62.5 GiB      </td></tr>\n",
       "</tbody>\n",
       "</table>\n",
       "    </div>\n",
       "    <div class=\"vDivider\"></div>\n",
       "    <div class=\"systemInfo\">\n",
       "      <h3>System Info</h3>\n",
       "      Using FIFO scheduling algorithm.<br>Logical resource usage: 2.0/6 CPUs, 0/0 GPUs\n",
       "    </div>\n",
       "    \n",
       "  </div>\n",
       "  <div class=\"hDivider\"></div>\n",
       "  <div class=\"trialStatus\">\n",
       "    <h3>Trial Status</h3>\n",
       "    <table>\n",
       "<thead>\n",
       "<tr><th>Trial name                     </th><th>status    </th><th>loc               </th><th style=\"text-align: right;\">        eta</th><th style=\"text-align: right;\">  max_depth</th><th style=\"text-align: right;\">  min_child_weight</th><th style=\"text-align: right;\">  subsample</th><th style=\"text-align: right;\">  iter</th><th style=\"text-align: right;\">  total time (s)</th><th style=\"text-align: right;\">  accuracy</th></tr>\n",
       "</thead>\n",
       "<tbody>\n",
       "<tr><td>train_breast_cancer_ed212_00000</td><td>TERMINATED</td><td>10.23.68.39:844934</td><td style=\"text-align: right;\">0.00543655 </td><td style=\"text-align: right;\">          8</td><td style=\"text-align: right;\">                 1</td><td style=\"text-align: right;\">   0.550216</td><td style=\"text-align: right;\">     1</td><td style=\"text-align: right;\">        1.00867 </td><td style=\"text-align: right;\">  0.938596</td></tr>\n",
       "<tr><td>train_breast_cancer_ed212_00001</td><td>TERMINATED</td><td>10.23.68.39:844932</td><td style=\"text-align: right;\">0.00693825 </td><td style=\"text-align: right;\">          6</td><td style=\"text-align: right;\">                 1</td><td style=\"text-align: right;\">   0.707401</td><td style=\"text-align: right;\">     1</td><td style=\"text-align: right;\">        0.994777</td><td style=\"text-align: right;\">  0.95614 </td></tr>\n",
       "<tr><td>train_breast_cancer_ed212_00002</td><td>TERMINATED</td><td>10.23.68.39:844933</td><td style=\"text-align: right;\">0.000108335</td><td style=\"text-align: right;\">          3</td><td style=\"text-align: right;\">                 1</td><td style=\"text-align: right;\">   0.704784</td><td style=\"text-align: right;\">     1</td><td style=\"text-align: right;\">        1.4965  </td><td style=\"text-align: right;\">  0.587719</td></tr>\n",
       "<tr><td>train_breast_cancer_ed212_00003</td><td>TERMINATED</td><td>10.23.68.39:845317</td><td style=\"text-align: right;\">0.0308117  </td><td style=\"text-align: right;\">          5</td><td style=\"text-align: right;\">                 1</td><td style=\"text-align: right;\">   0.569257</td><td style=\"text-align: right;\">     1</td><td style=\"text-align: right;\">        1.27351 </td><td style=\"text-align: right;\">  0.95614 </td></tr>\n",
       "<tr><td>train_breast_cancer_ed212_00004</td><td>TERMINATED</td><td>10.23.68.39:845318</td><td style=\"text-align: right;\">0.016026   </td><td style=\"text-align: right;\">          4</td><td style=\"text-align: right;\">                 2</td><td style=\"text-align: right;\">   0.984724</td><td style=\"text-align: right;\">     1</td><td style=\"text-align: right;\">        0.822576</td><td style=\"text-align: right;\">  0.947368</td></tr>\n",
       "<tr><td>train_breast_cancer_ed212_00005</td><td>TERMINATED</td><td>10.23.68.39:845429</td><td style=\"text-align: right;\">0.079856   </td><td style=\"text-align: right;\">          5</td><td style=\"text-align: right;\">                 3</td><td style=\"text-align: right;\">   0.621502</td><td style=\"text-align: right;\">     1</td><td style=\"text-align: right;\">        0.941563</td><td style=\"text-align: right;\">  0.964912</td></tr>\n",
       "<tr><td>train_breast_cancer_ed212_00006</td><td>TERMINATED</td><td>10.23.68.39:845729</td><td style=\"text-align: right;\">0.00387077 </td><td style=\"text-align: right;\">          6</td><td style=\"text-align: right;\">                 3</td><td style=\"text-align: right;\">   0.588911</td><td style=\"text-align: right;\">     1</td><td style=\"text-align: right;\">        1.04974 </td><td style=\"text-align: right;\">  0.938596</td></tr>\n",
       "<tr><td>train_breast_cancer_ed212_00007</td><td>TERMINATED</td><td>10.23.68.39:845728</td><td style=\"text-align: right;\">0.000284779</td><td style=\"text-align: right;\">          6</td><td style=\"text-align: right;\">                 3</td><td style=\"text-align: right;\">   0.586301</td><td style=\"text-align: right;\">     1</td><td style=\"text-align: right;\">        0.877857</td><td style=\"text-align: right;\">  0.605263</td></tr>\n",
       "<tr><td>train_breast_cancer_ed212_00008</td><td>TERMINATED</td><td>10.23.68.39:845735</td><td style=\"text-align: right;\">0.000419796</td><td style=\"text-align: right;\">          7</td><td style=\"text-align: right;\">                 1</td><td style=\"text-align: right;\">   0.50715 </td><td style=\"text-align: right;\">     1</td><td style=\"text-align: right;\">        0.830408</td><td style=\"text-align: right;\">  0.719298</td></tr>\n",
       "<tr><td>train_breast_cancer_ed212_00009</td><td>TERMINATED</td><td>10.23.68.39:846032</td><td style=\"text-align: right;\">0.00025741 </td><td style=\"text-align: right;\">          7</td><td style=\"text-align: right;\">                 1</td><td style=\"text-align: right;\">   0.663386</td><td style=\"text-align: right;\">     1</td><td style=\"text-align: right;\">        0.93089 </td><td style=\"text-align: right;\">  0.614035</td></tr>\n",
       "</tbody>\n",
       "</table>\n",
       "  </div>\n",
       "</div>\n",
       "<style>\n",
       ".tuneStatus {\n",
       "  color: var(--jp-ui-font-color1);\n",
       "}\n",
       ".tuneStatus .systemInfo {\n",
       "  display: flex;\n",
       "  flex-direction: column;\n",
       "}\n",
       ".tuneStatus td {\n",
       "  white-space: nowrap;\n",
       "}\n",
       ".tuneStatus .trialStatus {\n",
       "  display: flex;\n",
       "  flex-direction: column;\n",
       "}\n",
       ".tuneStatus h3 {\n",
       "  font-weight: bold;\n",
       "}\n",
       ".tuneStatus .hDivider {\n",
       "  border-bottom-width: var(--jp-border-width);\n",
       "  border-bottom-color: var(--jp-border-color0);\n",
       "  border-bottom-style: solid;\n",
       "}\n",
       ".tuneStatus .vDivider {\n",
       "  border-left-width: var(--jp-border-width);\n",
       "  border-left-color: var(--jp-border-color0);\n",
       "  border-left-style: solid;\n",
       "  margin: 0.5em 1em 0.5em 1em;\n",
       "}\n",
       "</style>\n"
      ],
      "text/plain": [
       "<IPython.core.display.HTML object>"
      ]
     },
     "metadata": {},
     "output_type": "display_data"
    },
    {
     "name": "stderr",
     "output_type": "stream",
     "text": [
      "2025-01-27 18:41:38,331\tINFO tune.py:1009 -- Wrote the latest version of all result files and experiment state to '/home/ssafarveisi/ray_results/mlflow' in 0.0035s.\n",
      "2025-01-27 18:41:38,336\tINFO tune.py:1041 -- Total run time: 14.71 seconds (14.66 seconds for the tuning loop).\n"
     ]
    }
   ],
   "source": [
    "tune_with_setup()"
   ]
  },
  {
   "cell_type": "code",
   "execution_count": 20,
   "metadata": {},
   "outputs": [],
   "source": [
    "from mlflow.entities import ViewType\n",
    "\n",
    "experiment_id = \"1\"\n",
    "runs = mlflow.search_runs(\n",
    "    experiment_ids=[experiment_id], run_view_type=ViewType.ACTIVE_ONLY\n",
    ")"
   ]
  },
  {
   "cell_type": "code",
   "execution_count": 21,
   "metadata": {},
   "outputs": [],
   "source": [
    "best_run = runs.loc[runs[\"metrics.accuracy\"].idxmax()]\n",
    "best_run_id = best_run.run_id\n",
    "model_uri = f\"runs:/{best_run_id}/xgb_models\""
   ]
  },
  {
   "cell_type": "code",
   "execution_count": 22,
   "metadata": {},
   "outputs": [
    {
     "name": "stderr",
     "output_type": "stream",
     "text": [
      "Registered model 'xgb-breast-cancer-classifer' already exists. Creating a new version of this model...\n",
      "2025/01/27 18:42:02 INFO mlflow.store.model_registry.abstract_store: Waiting up to 300 seconds for model version to finish creation. Model name: xgb-breast-cancer-classifer, version 2\n",
      "Created version '2' of model 'xgb-breast-cancer-classifer'.\n"
     ]
    }
   ],
   "source": [
    "result = mlflow.register_model(model_uri, MODEL_NAME)"
   ]
  },
  {
   "cell_type": "code",
   "execution_count": 23,
   "metadata": {},
   "outputs": [],
   "source": [
    "client.set_registered_model_alias(MODEL_NAME, ALIAS, result.version)"
   ]
  },
  {
   "cell_type": "code",
   "execution_count": 24,
   "metadata": {},
   "outputs": [],
   "source": [
    "champion_version = mlflow.pyfunc.load_model(f\"models:/{MODEL_NAME}@{ALIAS}\")"
   ]
  },
  {
   "cell_type": "code",
   "execution_count": 25,
   "metadata": {},
   "outputs": [
    {
     "data": {
      "text/plain": [
       "array([0, 1, 1, 1, 1, 1, 1, 0, 1, 0, 0, 1, 0, 0, 1, 1, 0, 1, 0, 0, 0, 1,\n",
       "       1, 1, 0, 1, 1, 0, 1, 1, 0, 0, 0, 1, 1, 0, 1, 1, 1, 1, 1, 1, 1, 1,\n",
       "       1, 0, 1, 0, 0, 0, 1, 0, 1, 1, 1, 1, 1, 0, 0, 1, 0, 0, 0, 1, 1, 0,\n",
       "       0, 0, 1, 0, 1, 0, 1, 0, 0, 1, 1, 1, 1, 1, 1, 0, 1, 0, 1, 1, 1, 1,\n",
       "       1, 1, 0, 1, 1, 1, 1, 1, 0, 0, 0, 0, 0, 1, 0, 1, 1, 0, 0, 1, 1, 0,\n",
       "       1, 1, 1, 1])"
      ]
     },
     "execution_count": 25,
     "metadata": {},
     "output_type": "execute_result"
    }
   ],
   "source": [
    "data, labels = sklearn.datasets.load_breast_cancer(return_X_y=True)\n",
    "_, test_x, _, test_y = train_test_split(data, labels, test_size=0.2)\n",
    "\n",
    "\n",
    "champion_version.predict(test_x)"
   ]
  }
 ],
 "metadata": {
  "kernelspec": {
   "display_name": ".venv",
   "language": "python",
   "name": "python3"
  },
  "language_info": {
   "codemirror_mode": {
    "name": "ipython",
    "version": 3
   },
   "file_extension": ".py",
   "mimetype": "text/x-python",
   "name": "python",
   "nbconvert_exporter": "python",
   "pygments_lexer": "ipython3",
   "version": "3.9.1"
  }
 },
 "nbformat": 4,
 "nbformat_minor": 2
}
