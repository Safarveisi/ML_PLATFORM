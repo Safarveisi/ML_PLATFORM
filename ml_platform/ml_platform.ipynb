{
 "cells": [
  {
   "cell_type": "code",
   "execution_count": 26,
   "metadata": {},
   "outputs": [],
   "source": [
    "import emoji\n",
    "\n",
    "import mlflow\n",
    "from mlflow.models import infer_signature\n",
    "from mlflow import MlflowClient\n",
    "\n",
    "import sklearn.datasets\n",
    "from sklearn.metrics import accuracy_score\n",
    "from sklearn.model_selection import train_test_split\n",
    "\n",
    "import xgboost as xgb\n",
    "\n",
    "import ray\n",
    "from ray import train, tune\n",
    "from ray.air.integrations.mlflow import setup_mlflow\n",
    "\n",
    "TRACKING_URI = \"http://0.0.0.0:5000\"\n",
    "EXP_NAME = \"ml_platform\"\n",
    "MODEL_NAME = \"xgb-breast-cancer-classifer\"\n",
    "ALIAS = \"champion\"\n",
    "MINIMUM_REQUIRED_ACCURACY = 0.95\n",
    "\n",
    "mlflow.set_tracking_uri(TRACKING_URI)\n",
    "mlflow.set_experiment(experiment_name=EXP_NAME)\n",
    "\n",
    "client = MlflowClient()"
   ]
  },
  {
   "cell_type": "code",
   "execution_count": 3,
   "metadata": {},
   "outputs": [],
   "source": [
    "def train_breast_cancer(config: dict) -> None:\n",
    "    setup_mlflow(\n",
    "        config,\n",
    "        experiment_name=EXP_NAME,\n",
    "        tracking_uri=TRACKING_URI,\n",
    "    )\n",
    "    # Load dataset\n",
    "    data, labels = sklearn.datasets.load_breast_cancer(return_X_y=True)\n",
    "    train_x, test_x, train_y, test_y = train_test_split(data, labels, test_size=0.2)\n",
    "\n",
    "    model = xgb.XGBClassifier(**config)\n",
    "    model.fit(train_x, train_y)\n",
    "\n",
    "    predictions = model.predict(test_x)\n",
    "    accuracy = accuracy_score(test_y, predictions)\n",
    "    signature = infer_signature(train_x, model.predict(train_x))\n",
    "\n",
    "    mlflow.log_metric(\"accuracy\", accuracy)\n",
    "    mlflow.xgboost.log_model(\n",
    "        model,\n",
    "        \"xgb_models\",\n",
    "        conda_env=mlflow.xgboost.get_default_conda_env(),\n",
    "        signature=signature,\n",
    "        model_format=\"json\",\n",
    "    )\n",
    "\n",
    "    train.report({\"accuracy\": accuracy, \"done\": True})\n",
    "\n",
    "\n",
    "def tune_with_setup() -> None:\n",
    "\n",
    "    ray.init(num_cpus=6)\n",
    "    trainable_with_resources = tune.with_resources(train_breast_cancer, {\"cpu\": 2})\n",
    "\n",
    "    tuner = tune.Tuner(\n",
    "        trainable_with_resources,\n",
    "        tune_config=tune.TuneConfig(\n",
    "            num_samples=20,\n",
    "        ),\n",
    "        run_config=train.RunConfig(\n",
    "            name=\"mlflow\",\n",
    "        ),\n",
    "        param_space={\n",
    "            \"objective\": \"binary:logistic\",\n",
    "            \"eval_metric\": [\"logloss\", \"error\"],\n",
    "            \"max_depth\": tune.randint(1, 9),\n",
    "            \"min_child_weight\": tune.choice([1, 2, 3]),\n",
    "            \"subsample\": tune.uniform(0.5, 1.0),\n",
    "            \"eta\": tune.loguniform(1e-4, 1e-1),\n",
    "        },\n",
    "    )\n",
    "\n",
    "    tuner.fit()"
   ]
  },
  {
   "cell_type": "code",
   "execution_count": 4,
   "metadata": {},
   "outputs": [
    {
     "data": {
      "text/html": [
       "<div class=\"tuneStatus\">\n",
       "  <div style=\"display: flex;flex-direction: row\">\n",
       "    <div style=\"display: flex;flex-direction: column;\">\n",
       "      <h3>Tune Status</h3>\n",
       "      <table>\n",
       "<tbody>\n",
       "<tr><td>Current time:</td><td>2025-01-27 23:48:09</td></tr>\n",
       "<tr><td>Running for: </td><td>00:00:31.43        </td></tr>\n",
       "<tr><td>Memory:      </td><td>9.0/62.5 GiB       </td></tr>\n",
       "</tbody>\n",
       "</table>\n",
       "    </div>\n",
       "    <div class=\"vDivider\"></div>\n",
       "    <div class=\"systemInfo\">\n",
       "      <h3>System Info</h3>\n",
       "      Using FIFO scheduling algorithm.<br>Logical resource usage: 2.0/6 CPUs, 0/0 GPUs\n",
       "    </div>\n",
       "    \n",
       "  </div>\n",
       "  <div class=\"hDivider\"></div>\n",
       "  <div class=\"trialStatus\">\n",
       "    <h3>Trial Status</h3>\n",
       "    <table>\n",
       "<thead>\n",
       "<tr><th>Trial name                     </th><th>status    </th><th>loc                </th><th style=\"text-align: right;\">        eta</th><th style=\"text-align: right;\">  max_depth</th><th style=\"text-align: right;\">  min_child_weight</th><th style=\"text-align: right;\">  subsample</th><th style=\"text-align: right;\">  iter</th><th style=\"text-align: right;\">  total time (s)</th><th style=\"text-align: right;\">  accuracy</th></tr>\n",
       "</thead>\n",
       "<tbody>\n",
       "<tr><td>train_breast_cancer_b5094_00000</td><td>TERMINATED</td><td>192.168.0.64:858771</td><td style=\"text-align: right;\">0.0123832  </td><td style=\"text-align: right;\">          5</td><td style=\"text-align: right;\">                 1</td><td style=\"text-align: right;\">   0.516165</td><td style=\"text-align: right;\">     1</td><td style=\"text-align: right;\">        2.17412 </td><td style=\"text-align: right;\">  0.95614 </td></tr>\n",
       "<tr><td>train_breast_cancer_b5094_00001</td><td>TERMINATED</td><td>192.168.0.64:858770</td><td style=\"text-align: right;\">0.000135785</td><td style=\"text-align: right;\">          6</td><td style=\"text-align: right;\">                 3</td><td style=\"text-align: right;\">   0.696799</td><td style=\"text-align: right;\">     1</td><td style=\"text-align: right;\">        2.25327 </td><td style=\"text-align: right;\">  0.596491</td></tr>\n",
       "<tr><td>train_breast_cancer_b5094_00002</td><td>TERMINATED</td><td>192.168.0.64:858772</td><td style=\"text-align: right;\">0.0016692  </td><td style=\"text-align: right;\">          4</td><td style=\"text-align: right;\">                 3</td><td style=\"text-align: right;\">   0.857644</td><td style=\"text-align: right;\">     1</td><td style=\"text-align: right;\">        1.9505  </td><td style=\"text-align: right;\">  0.701754</td></tr>\n",
       "<tr><td>train_breast_cancer_b5094_00003</td><td>TERMINATED</td><td>192.168.0.64:859107</td><td style=\"text-align: right;\">0.0157963  </td><td style=\"text-align: right;\">          1</td><td style=\"text-align: right;\">                 1</td><td style=\"text-align: right;\">   0.756797</td><td style=\"text-align: right;\">     1</td><td style=\"text-align: right;\">        1.07892 </td><td style=\"text-align: right;\">  0.938596</td></tr>\n",
       "<tr><td>train_breast_cancer_b5094_00004</td><td>TERMINATED</td><td>192.168.0.64:859163</td><td style=\"text-align: right;\">0.000317742</td><td style=\"text-align: right;\">          3</td><td style=\"text-align: right;\">                 1</td><td style=\"text-align: right;\">   0.688255</td><td style=\"text-align: right;\">     1</td><td style=\"text-align: right;\">        1.17834 </td><td style=\"text-align: right;\">  0.684211</td></tr>\n",
       "<tr><td>train_breast_cancer_b5094_00005</td><td>TERMINATED</td><td>192.168.0.64:859162</td><td style=\"text-align: right;\">0.0489526  </td><td style=\"text-align: right;\">          6</td><td style=\"text-align: right;\">                 3</td><td style=\"text-align: right;\">   0.516478</td><td style=\"text-align: right;\">     1</td><td style=\"text-align: right;\">        1.44817 </td><td style=\"text-align: right;\">  0.95614 </td></tr>\n",
       "<tr><td>train_breast_cancer_b5094_00006</td><td>TERMINATED</td><td>192.168.0.64:859454</td><td style=\"text-align: right;\">0.00160845 </td><td style=\"text-align: right;\">          4</td><td style=\"text-align: right;\">                 3</td><td style=\"text-align: right;\">   0.589493</td><td style=\"text-align: right;\">     1</td><td style=\"text-align: right;\">        0.981803</td><td style=\"text-align: right;\">  0.570175</td></tr>\n",
       "<tr><td>train_breast_cancer_b5094_00007</td><td>TERMINATED</td><td>192.168.0.64:859518</td><td style=\"text-align: right;\">0.00233215 </td><td style=\"text-align: right;\">          6</td><td style=\"text-align: right;\">                 3</td><td style=\"text-align: right;\">   0.996853</td><td style=\"text-align: right;\">     1</td><td style=\"text-align: right;\">        1.15156 </td><td style=\"text-align: right;\">  0.903509</td></tr>\n",
       "<tr><td>train_breast_cancer_b5094_00008</td><td>TERMINATED</td><td>192.168.0.64:859519</td><td style=\"text-align: right;\">0.00414506 </td><td style=\"text-align: right;\">          3</td><td style=\"text-align: right;\">                 3</td><td style=\"text-align: right;\">   0.907776</td><td style=\"text-align: right;\">     1</td><td style=\"text-align: right;\">        1.08388 </td><td style=\"text-align: right;\">  0.903509</td></tr>\n",
       "<tr><td>train_breast_cancer_b5094_00009</td><td>TERMINATED</td><td>192.168.0.64:859785</td><td style=\"text-align: right;\">0.00940425 </td><td style=\"text-align: right;\">          2</td><td style=\"text-align: right;\">                 3</td><td style=\"text-align: right;\">   0.76735 </td><td style=\"text-align: right;\">     1</td><td style=\"text-align: right;\">        1.15563 </td><td style=\"text-align: right;\">  0.947368</td></tr>\n",
       "<tr><td>train_breast_cancer_b5094_00010</td><td>TERMINATED</td><td>192.168.0.64:859876</td><td style=\"text-align: right;\">0.000311737</td><td style=\"text-align: right;\">          7</td><td style=\"text-align: right;\">                 2</td><td style=\"text-align: right;\">   0.702854</td><td style=\"text-align: right;\">     1</td><td style=\"text-align: right;\">        2.21459 </td><td style=\"text-align: right;\">  0.578947</td></tr>\n",
       "<tr><td>train_breast_cancer_b5094_00011</td><td>TERMINATED</td><td>192.168.0.64:859877</td><td style=\"text-align: right;\">0.000371464</td><td style=\"text-align: right;\">          5</td><td style=\"text-align: right;\">                 3</td><td style=\"text-align: right;\">   0.886048</td><td style=\"text-align: right;\">     1</td><td style=\"text-align: right;\">        2.57516 </td><td style=\"text-align: right;\">  0.578947</td></tr>\n",
       "<tr><td>train_breast_cancer_b5094_00012</td><td>TERMINATED</td><td>192.168.0.64:860143</td><td style=\"text-align: right;\">0.0686092  </td><td style=\"text-align: right;\">          8</td><td style=\"text-align: right;\">                 1</td><td style=\"text-align: right;\">   0.861354</td><td style=\"text-align: right;\">     1</td><td style=\"text-align: right;\">        1.12214 </td><td style=\"text-align: right;\">  0.947368</td></tr>\n",
       "<tr><td>train_breast_cancer_b5094_00013</td><td>TERMINATED</td><td>192.168.0.64:860359</td><td style=\"text-align: right;\">0.00126122 </td><td style=\"text-align: right;\">          5</td><td style=\"text-align: right;\">                 1</td><td style=\"text-align: right;\">   0.791517</td><td style=\"text-align: right;\">     1</td><td style=\"text-align: right;\">        1.3283  </td><td style=\"text-align: right;\">  0.605263</td></tr>\n",
       "<tr><td>train_breast_cancer_b5094_00014</td><td>TERMINATED</td><td>192.168.0.64:860360</td><td style=\"text-align: right;\">0.000167548</td><td style=\"text-align: right;\">          1</td><td style=\"text-align: right;\">                 2</td><td style=\"text-align: right;\">   0.706768</td><td style=\"text-align: right;\">     1</td><td style=\"text-align: right;\">        3.03157 </td><td style=\"text-align: right;\">  0.640351</td></tr>\n",
       "<tr><td>train_breast_cancer_b5094_00015</td><td>TERMINATED</td><td>192.168.0.64:860484</td><td style=\"text-align: right;\">0.0346974  </td><td style=\"text-align: right;\">          2</td><td style=\"text-align: right;\">                 1</td><td style=\"text-align: right;\">   0.829593</td><td style=\"text-align: right;\">     1</td><td style=\"text-align: right;\">        2.25792 </td><td style=\"text-align: right;\">  0.964912</td></tr>\n",
       "<tr><td>train_breast_cancer_b5094_00016</td><td>TERMINATED</td><td>192.168.0.64:860654</td><td style=\"text-align: right;\">0.0227816  </td><td style=\"text-align: right;\">          7</td><td style=\"text-align: right;\">                 1</td><td style=\"text-align: right;\">   0.640809</td><td style=\"text-align: right;\">     1</td><td style=\"text-align: right;\">        1.55103 </td><td style=\"text-align: right;\">  0.973684</td></tr>\n",
       "<tr><td>train_breast_cancer_b5094_00017</td><td>TERMINATED</td><td>192.168.0.64:860790</td><td style=\"text-align: right;\">0.000625484</td><td style=\"text-align: right;\">          8</td><td style=\"text-align: right;\">                 3</td><td style=\"text-align: right;\">   0.582692</td><td style=\"text-align: right;\">     1</td><td style=\"text-align: right;\">        1.08542 </td><td style=\"text-align: right;\">  0.631579</td></tr>\n",
       "<tr><td>train_breast_cancer_b5094_00018</td><td>TERMINATED</td><td>192.168.0.64:860872</td><td style=\"text-align: right;\">0.000206053</td><td style=\"text-align: right;\">          7</td><td style=\"text-align: right;\">                 1</td><td style=\"text-align: right;\">   0.892841</td><td style=\"text-align: right;\">     1</td><td style=\"text-align: right;\">        1.6223  </td><td style=\"text-align: right;\">  0.526316</td></tr>\n",
       "<tr><td>train_breast_cancer_b5094_00019</td><td>TERMINATED</td><td>192.168.0.64:860873</td><td style=\"text-align: right;\">0.00107019 </td><td style=\"text-align: right;\">          7</td><td style=\"text-align: right;\">                 1</td><td style=\"text-align: right;\">   0.847647</td><td style=\"text-align: right;\">     1</td><td style=\"text-align: right;\">        1.87096 </td><td style=\"text-align: right;\">  0.692982</td></tr>\n",
       "</tbody>\n",
       "</table>\n",
       "  </div>\n",
       "</div>\n",
       "<style>\n",
       ".tuneStatus {\n",
       "  color: var(--jp-ui-font-color1);\n",
       "}\n",
       ".tuneStatus .systemInfo {\n",
       "  display: flex;\n",
       "  flex-direction: column;\n",
       "}\n",
       ".tuneStatus td {\n",
       "  white-space: nowrap;\n",
       "}\n",
       ".tuneStatus .trialStatus {\n",
       "  display: flex;\n",
       "  flex-direction: column;\n",
       "}\n",
       ".tuneStatus h3 {\n",
       "  font-weight: bold;\n",
       "}\n",
       ".tuneStatus .hDivider {\n",
       "  border-bottom-width: var(--jp-border-width);\n",
       "  border-bottom-color: var(--jp-border-color0);\n",
       "  border-bottom-style: solid;\n",
       "}\n",
       ".tuneStatus .vDivider {\n",
       "  border-left-width: var(--jp-border-width);\n",
       "  border-left-color: var(--jp-border-color0);\n",
       "  border-left-style: solid;\n",
       "  margin: 0.5em 1em 0.5em 1em;\n",
       "}\n",
       "</style>\n"
      ],
      "text/plain": [
       "<IPython.core.display.HTML object>"
      ]
     },
     "metadata": {},
     "output_type": "display_data"
    },
    {
     "name": "stderr",
     "output_type": "stream",
     "text": [
      "2025-01-27 23:48:09,428\tINFO tune.py:1009 -- Wrote the latest version of all result files and experiment state to '/home/ssafarveisi/ray_results/mlflow' in 0.0043s.\n",
      "2025-01-27 23:48:09,435\tINFO tune.py:1041 -- Total run time: 31.56 seconds (31.42 seconds for the tuning loop).\n"
     ]
    }
   ],
   "source": [
    "tune_with_setup()"
   ]
  },
  {
   "cell_type": "code",
   "execution_count": 5,
   "metadata": {},
   "outputs": [],
   "source": [
    "from mlflow.entities import ViewType\n",
    "\n",
    "experiment_id = mlflow.get_experiment_by_name(name=EXP_NAME).experiment_id\n",
    "runs = mlflow.search_runs(\n",
    "    experiment_ids=[experiment_id], run_view_type=ViewType.ACTIVE_ONLY\n",
    ")"
   ]
  },
  {
   "cell_type": "code",
   "execution_count": 13,
   "metadata": {},
   "outputs": [],
   "source": [
    "best_run = runs.loc[runs[\"metrics.accuracy\"].idxmax()]\n",
    "best_run_id = best_run.run_id\n",
    "best_run_accuracy = best_run[\"metrics.accuracy\"]\n",
    "model_uri = f\"runs:/{best_run_id}/xgb_models\""
   ]
  },
  {
   "cell_type": "code",
   "execution_count": 34,
   "metadata": {},
   "outputs": [
    {
     "name": "stderr",
     "output_type": "stream",
     "text": [
      "Registered model 'xgb-breast-cancer-classifer' already exists. Creating a new version of this model...\n",
      "2025/01/28 00:07:06 INFO mlflow.store.model_registry.abstract_store: Waiting up to 300 seconds for model version to finish creation. Model name: xgb-breast-cancer-classifer, version 6\n"
     ]
    },
    {
     "name": "stdout",
     "output_type": "stream",
     "text": [
      "Model accuracy met the required minimum accuracy 🔥\n"
     ]
    },
    {
     "name": "stderr",
     "output_type": "stream",
     "text": [
      "Created version '6' of model 'xgb-breast-cancer-classifer'.\n"
     ]
    }
   ],
   "source": [
    "if best_run_accuracy > MINIMUM_REQUIRED_ACCURACY:\n",
    "    print(emoji.emojize(\"Model accuracy met the required minimum accuracy :fire:\"))\n",
    "    result = mlflow.register_model(model_uri, MODEL_NAME)\n",
    "else:\n",
    "    print(\n",
    "        emoji.emojize(\n",
    "            \"Best run did not meet the required minimum accuracy :sad_but_relieved_face:\"\n",
    "        )\n",
    "    )"
   ]
  },
  {
   "cell_type": "code",
   "execution_count": 28,
   "metadata": {},
   "outputs": [],
   "source": [
    "client.set_registered_model_alias(MODEL_NAME, ALIAS, result.version)"
   ]
  },
  {
   "cell_type": "code",
   "execution_count": 29,
   "metadata": {},
   "outputs": [],
   "source": [
    "champion_version = mlflow.pyfunc.load_model(f\"models:/{MODEL_NAME}@{ALIAS}\")"
   ]
  },
  {
   "cell_type": "code",
   "execution_count": 30,
   "metadata": {},
   "outputs": [
    {
     "data": {
      "text/plain": [
       "array([1, 1, 1, 1, 0, 1, 1, 0, 0, 0, 1, 1, 0, 0, 0, 0, 0, 1, 1, 0, 1, 1,\n",
       "       1, 0, 1, 1, 1, 1, 1, 1, 0, 1, 1, 1, 0, 1, 1, 1, 1, 0, 0, 1, 0, 0,\n",
       "       0, 1, 0, 1, 1, 0, 1, 1, 1, 1, 1, 0, 1, 0, 1, 1, 1, 1, 0, 0, 1, 1,\n",
       "       1, 0, 1, 1, 1, 1, 1, 0, 1, 1, 1, 1, 1, 0, 1, 0, 1, 1, 1, 1, 0, 1,\n",
       "       0, 0, 1, 1, 1, 1, 0, 1, 1, 1, 1, 0, 1, 1, 1, 1, 1, 1, 0, 0, 1, 1,\n",
       "       1, 0, 1, 0])"
      ]
     },
     "execution_count": 30,
     "metadata": {},
     "output_type": "execute_result"
    }
   ],
   "source": [
    "data, labels = sklearn.datasets.load_breast_cancer(return_X_y=True)\n",
    "_, test_x, _, test_y = train_test_split(data, labels, test_size=0.2)\n",
    "\n",
    "\n",
    "champion_version.predict(test_x)"
   ]
  },
  {
   "cell_type": "code",
   "execution_count": null,
   "metadata": {},
   "outputs": [],
   "source": []
  }
 ],
 "metadata": {
  "kernelspec": {
   "display_name": ".venv",
   "language": "python",
   "name": "python3"
  },
  "language_info": {
   "codemirror_mode": {
    "name": "ipython",
    "version": 3
   },
   "file_extension": ".py",
   "mimetype": "text/x-python",
   "name": "python",
   "nbconvert_exporter": "python",
   "pygments_lexer": "ipython3",
   "version": "3.9.1"
  }
 },
 "nbformat": 4,
 "nbformat_minor": 2
}
