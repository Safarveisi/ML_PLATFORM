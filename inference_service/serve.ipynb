{
 "cells": [
  {
   "cell_type": "markdown",
   "metadata": {},
   "source": [
    "The inference service is running. We can call the target endpoint and receive predictions for feature values in `./input.json`."
   ]
  },
  {
   "cell_type": "code",
   "execution_count": 2,
   "metadata": {},
   "outputs": [],
   "source": [
    "import json\n",
    "import subprocess\n",
    "import requests"
   ]
  },
  {
   "cell_type": "code",
   "execution_count": 3,
   "metadata": {},
   "outputs": [],
   "source": [
    "INPUT_PATH = \"./input.json\""
   ]
  },
  {
   "cell_type": "code",
   "execution_count": 28,
   "metadata": {},
   "outputs": [],
   "source": [
    "def get_kubectl_output(command):\n",
    "    \"\"\"Execute a shell command and return the output.\"\"\"\n",
    "    result = subprocess.run(command, shell=True, capture_output=True, text=True)\n",
    "    if result.returncode != 0:\n",
    "        raise Exception(f\"Command failed: {result.stderr}\")\n",
    "    return result.stdout.strip()"
   ]
  },
  {
   "cell_type": "code",
   "execution_count": null,
   "metadata": {},
   "outputs": [],
   "source": [
    "try:\n",
    "    # Get the ingress host\n",
    "    ingress_host = get_kubectl_output(\"kubectl -n istio-system get service istio-ingressgateway -o jsonpath='{.status.loadBalancer.ingress[0].ip}'\")\n",
    "\n",
    "    # Get the ingress port\n",
    "    ingress_port = get_kubectl_output(\"kubectl -n istio-system get service istio-ingressgateway -o jsonpath='{.spec.ports[?(@.name==\\\"http2\\\")].port}'\")\n",
    "\n",
    "    # Get the service hostname\n",
    "    service_hostname = get_kubectl_output(\"kubectl get inferenceservice iris-classifier -o jsonpath='{.status.url}' | cut -d '/' -f 3\")\n",
    "\n",
    "    with open(INPUT_PATH, \"rb\") as f:\n",
    "        data = f.read()\n",
    "\n",
    "    url = f\"http://{ingress_host}:{ingress_port}/v2/models/iris-classifier/infer\"\n",
    "    headers = {\n",
    "        \"Host\": service_hostname,\n",
    "        \"Content-Type\": \"application/json\"\n",
    "    }\n",
    "\n",
    "    response = requests.post(url, headers=headers, data=data)\n",
    "    print(\"\\nResponse:\")\n",
    "    response_json = json.loads(response.text)\n",
    "    prediction = response_json[\"outputs\"][0][\"data\"][0]\n",
    "    print(\"Prediction is:\", prediction)\n",
    "except Exception as e:\n",
    "    print(f\"An error occurred: {e}\")"
   ]
  }
 ],
 "metadata": {
  "kernelspec": {
   "display_name": ".venv",
   "language": "python",
   "name": "python3"
  },
  "language_info": {
   "codemirror_mode": {
    "name": "ipython",
    "version": 3
   },
   "file_extension": ".py",
   "mimetype": "text/x-python",
   "name": "python",
   "nbconvert_exporter": "python",
   "pygments_lexer": "ipython3",
   "version": "3.9.1"
  }
 },
 "nbformat": 4,
 "nbformat_minor": 2
}
